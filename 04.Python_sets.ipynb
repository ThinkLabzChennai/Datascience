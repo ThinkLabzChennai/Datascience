{
  "cells": [
    {
      "cell_type": "markdown",
      "metadata": {
        "id": "_b5hcCfpIktX"
      },
      "source": [
        "# Python Sets"
      ]
    },
    {
      "cell_type": "markdown",
      "metadata": {
        "id": "lrmQcZrPIktb"
      },
      "source": [
        "Sets are used to store multiple items in a single variable. A set is a collection which is both unordered and unindexed. They are written with curly brackets."
      ]
    },
    {
      "cell_type": "code",
      "execution_count": null,
      "metadata": {
        "id": "NJk1axhNIktc",
        "outputId": "4fba9481-ce57-4139-bead-abdc9654833f"
      },
      "outputs": [
        {
          "name": "stdout",
          "output_type": "stream",
          "text": [
            "{'apple', 'cherry', 'banana'}\n"
          ]
        }
      ],
      "source": [
        "thisset = {\"apple\", \"banana\", \"cherry\"}\n",
        "print(thisset)"
      ]
    },
    {
      "cell_type": "markdown",
      "metadata": {
        "id": "b77hyu2RIkte"
      },
      "source": [
        "\n",
        "Unordered\n",
        "The items in a set do not have a defined order.\n",
        "\n",
        "Set items can appear in a different order every time it is defined, and cannot be referred to by index or key.\n",
        "\n",
        "Unchangeable   \n",
        "Sets are unchangeable, meaning that we cannot change the items after the set has been created.\n",
        "\n",
        "Duplicates Not Allowed   \n",
        "Sets cannot have two items with the same value."
      ]
    },
    {
      "cell_type": "code",
      "execution_count": null,
      "metadata": {
        "id": "Lw21p8hFIktf",
        "outputId": "8de59b17-1368-4c81-c072-b9f02393d287"
      },
      "outputs": [
        {
          "name": "stdout",
          "output_type": "stream",
          "text": [
            "{'apple', 'cherry', 'banana'}\n"
          ]
        }
      ],
      "source": [
        "thisset = {\"apple\", \"banana\", \"cherry\", \"apple\"}\n",
        "\n",
        "print(thisset)"
      ]
    },
    {
      "cell_type": "markdown",
      "metadata": {
        "id": "CYBMp4o9Iktf"
      },
      "source": [
        "Set Items - **Data Types**\n",
        "\n",
        "Set items can be of any data type:\n",
        "\n",
        "set1 = {\"apple\", \"banana\", \"cherry\"}\n",
        "\n",
        "set2 = {1, 5, 7, 9, 3}\n",
        "\n",
        "set3 = {True, False, False}"
      ]
    },
    {
      "cell_type": "code",
      "source": [
        "k={1,\"two\",True}"
      ],
      "metadata": {
        "id": "aCtUdFrrJXqH"
      },
      "execution_count": 1,
      "outputs": []
    },
    {
      "cell_type": "markdown",
      "metadata": {
        "id": "2N15wQJ_Iktg"
      },
      "source": [
        "A set can contain different data types:\n",
        "\n",
        "A set with strings, integers and boolean values:\n",
        "\n",
        "set1 = {\"abc\", 34, True, 40, \"male\"}"
      ]
    },
    {
      "cell_type": "markdown",
      "metadata": {
        "id": "txb9xJiNIkth"
      },
      "source": [
        "# Python - Access Set Items\n",
        "\n",
        "You cannot access items in a set by referring to an index or a key.\n",
        "\n",
        "But you can loop through the set items using a for loop, or ask if a specified value is present in a set, by using the in keyword.\n",
        "\n",
        "Loop through the set, and print the values:"
      ]
    },
    {
      "cell_type": "code",
      "execution_count": null,
      "metadata": {
        "id": "dPotgRyKIkth",
        "outputId": "f7ee8ac1-6ebe-4b9c-d4be-ca5e32197693"
      },
      "outputs": [
        {
          "name": "stdout",
          "output_type": "stream",
          "text": [
            "apple\n",
            "cherry\n",
            "banana\n"
          ]
        }
      ],
      "source": [
        "thisset = {\"apple\", \"banana\", \"cherry\"}\n",
        "\n",
        "for x in thisset:\n",
        "  print(x)"
      ]
    },
    {
      "cell_type": "markdown",
      "metadata": {
        "id": "N9LF3h77Ikti"
      },
      "source": [
        "Check if \"banana\" is present in the set:"
      ]
    },
    {
      "cell_type": "code",
      "execution_count": null,
      "metadata": {
        "id": "-0I8-9JKIktj",
        "outputId": "142f8b56-fcd5-4dce-89ff-6354e6b24f6a"
      },
      "outputs": [
        {
          "name": "stdout",
          "output_type": "stream",
          "text": [
            "True\n"
          ]
        }
      ],
      "source": [
        "thisset = {\"apple\", \"banana\", \"cherry\"}\n",
        "\n",
        "print(\"banana\" in thisset)"
      ]
    },
    {
      "cell_type": "markdown",
      "metadata": {
        "id": "uK8gUVAAIktj"
      },
      "source": [
        "Adding an item to a set   \n",
        "To add single item to a set we can use the add() method.\n",
        "\n"
      ]
    },
    {
      "cell_type": "code",
      "execution_count": null,
      "metadata": {
        "id": "CJO7r7JxIktk",
        "outputId": "641f8d5a-289a-4896-e69c-fc31211a0fa1"
      },
      "outputs": [
        {
          "name": "stdout",
          "output_type": "stream",
          "text": [
            "{'apple', 'orange', 'cherry', 'banana'}\n"
          ]
        }
      ],
      "source": [
        "thisset = {\"apple\", \"banana\", \"cherry\"}\n",
        "\n",
        "thisset.add(\"orange\")\n",
        "\n",
        "print(thisset)"
      ]
    },
    {
      "cell_type": "markdown",
      "metadata": {
        "id": "wLlNTFzoIktk"
      },
      "source": [
        "Deleting an element from set   \n",
        "To remove an item in a set, use the remove, or the discard method. The only difference is that remove throws an error if the element we wish to remove is not in the set and discard doesn't"
      ]
    },
    {
      "cell_type": "code",
      "execution_count": null,
      "metadata": {
        "id": "cmXjohwuIktl",
        "outputId": "9184d0f5-c99b-4beb-c788-118184765187"
      },
      "outputs": [
        {
          "name": "stdout",
          "output_type": "stream",
          "text": [
            "{'apple', 'cherry'}\n"
          ]
        }
      ],
      "source": [
        "thisset = {\"apple\", \"banana\", \"cherry\"}\n",
        "\n",
        "thisset.remove(\"banana\")\n",
        "\n",
        "print(thisset)"
      ]
    },
    {
      "cell_type": "markdown",
      "metadata": {
        "id": "UuPHaRC1Iktl"
      },
      "source": [
        "# Python - Loop Sets\n",
        "\n",
        "You can loop through the set items by using a for loop:\n",
        "\n",
        "Loop through the set, and print the values:"
      ]
    },
    {
      "cell_type": "code",
      "execution_count": null,
      "metadata": {
        "id": "sZyYq0z3Iktm",
        "outputId": "b07354e0-0bc3-4077-f908-a4681823532b"
      },
      "outputs": [
        {
          "name": "stdout",
          "output_type": "stream",
          "text": [
            "apple\n",
            "cherry\n",
            "banana\n"
          ]
        }
      ],
      "source": [
        "thisset = {\"apple\", \"banana\", \"cherry\"}\n",
        "\n",
        "for x in thisset:\n",
        "  print(x)"
      ]
    },
    {
      "cell_type": "markdown",
      "metadata": {
        "id": "s95W0inZIktm"
      },
      "source": [
        "# Python - Join Sets\n",
        "\n",
        "There are several ways to join two or more sets in Python.\n",
        "\n",
        "You can use the union() method that returns a new set containing all items from both sets, or the update() method that inserts all the items from one set into another:\n",
        "\n",
        "The union() method returns a new set with all items from both sets:"
      ]
    },
    {
      "cell_type": "code",
      "execution_count": null,
      "metadata": {
        "id": "j2vrVentIktm",
        "outputId": "c19c0859-ae2b-457d-d13e-7be346d79270"
      },
      "outputs": [
        {
          "name": "stdout",
          "output_type": "stream",
          "text": [
            "{1, 2, 3, 'a', 'b', 'c'}\n"
          ]
        }
      ],
      "source": [
        "set1 = {\"a\", \"b\" , \"c\"}\n",
        "set2 = {1, 2, 3}\n",
        "\n",
        "set3 = set1.union(set2)\n",
        "print(set3)"
      ]
    },
    {
      "cell_type": "code",
      "execution_count": null,
      "metadata": {
        "id": "RgjB7TxPIktn"
      },
      "outputs": [],
      "source": [
        ""
      ]
    }
  ],
  "metadata": {
    "kernelspec": {
      "display_name": "Python 3",
      "language": "python",
      "name": "python3"
    },
    "language_info": {
      "codemirror_mode": {
        "name": "ipython",
        "version": 3
      },
      "file_extension": ".py",
      "mimetype": "text/x-python",
      "name": "python",
      "nbconvert_exporter": "python",
      "pygments_lexer": "ipython3",
      "version": "3.7.1"
    },
    "colab": {
      "name": "04.Python_sets.ipynb",
      "provenance": []
    }
  },
  "nbformat": 4,
  "nbformat_minor": 0
}
{
  "cells": [
    {
      "cell_type": "markdown",
      "metadata": {
        "id": "view-in-github",
        "colab_type": "text"
      },
      "source": [
        "<a href=\"https://colab.research.google.com/github/ThinkLabzChennai/Datascience/blob/main/04.Python_sets.ipynb\" target=\"_parent\"><img src=\"https://colab.research.google.com/assets/colab-badge.svg\" alt=\"Open In Colab\"/></a>"
      ]
    },
    {
      "cell_type": "markdown",
      "metadata": {
        "id": "_b5hcCfpIktX"
      },
      "source": [
        "# Python Sets"
      ]
    },
    {
      "cell_type": "markdown",
      "metadata": {
        "id": "lrmQcZrPIktb"
      },
      "source": [
        "Sets are used to store multiple items in a single variable. A set is a collection which is both unordered and unindexed. They are written with curly brackets."
      ]
    },
    {
      "cell_type": "code",
      "execution_count": 7,
      "metadata": {
        "id": "NJk1axhNIktc",
        "outputId": "416f8489-e6c2-46dd-e47e-c55fa8ed3c6d",
        "colab": {
          "base_uri": "https://localhost:8080/"
        }
      },
      "outputs": [
        {
          "output_type": "stream",
          "name": "stdout",
          "text": [
            "{'apple', 'cherry', 'banana'}\n"
          ]
        }
      ],
      "source": [
        "thisset = {\"apple\", \"banana\", \"cherry\"}\n",
        "print(thisset)"
      ]
    },
    {
      "cell_type": "markdown",
      "metadata": {
        "id": "b77hyu2RIkte"
      },
      "source": [
        "\n",
        "* Unordered   \n",
        "The items in a set do not have a defined order. Set items can appear in a different order every time it is defined, and cannot be referred to by index or key.\n",
        "\n",
        "* Unchangeable     \n",
        "Sets are unchangeable, meaning that we cannot change the items after the set has been created.\n",
        "\n",
        "* Duplicates Not Allowed    \n",
        "Sets cannot have two items with the same value."
      ]
    },
    {
      "cell_type": "code",
      "execution_count": 8,
      "metadata": {
        "id": "Lw21p8hFIktf",
        "outputId": "d5559989-813e-4802-e410-3ce152ee1b8b",
        "colab": {
          "base_uri": "https://localhost:8080/"
        }
      },
      "outputs": [
        {
          "output_type": "stream",
          "name": "stdout",
          "text": [
            "{'apple', 'cherry', 'banana'}\n"
          ]
        }
      ],
      "source": [
        "thisset = {\"apple\", \"banana\", \"cherry\", \"apple\"}\n",
        "\n",
        "print(thisset)"
      ]
    },
    {
      "cell_type": "markdown",
      "metadata": {
        "id": "CYBMp4o9Iktf"
      },
      "source": [
        "Set Items - **Data Types**\n",
        "\n",
        "Set items can be of any data type:\n",
        "\n",
        "set1 = {\"apple\", \"banana\", \"cherry\"}\n",
        "\n",
        "set2 = {1, 5, 7, 9, 3}\n",
        "\n",
        "set3 = {True, False, False}"
      ]
    },
    {
      "cell_type": "markdown",
      "metadata": {
        "id": "2N15wQJ_Iktg"
      },
      "source": [
        "A set can contain elements of different data types:\n",
        "\n",
        "A set with strings, integers and boolean values:\n",
        "\n",
        "set1 = {\"abc\", 34, True, 40, \"male\"}"
      ]
    },
    {
      "cell_type": "code",
      "source": [
        "k={1,\"two\",True}"
      ],
      "metadata": {
        "id": "aCtUdFrrJXqH"
      },
      "execution_count": 9,
      "outputs": []
    },
    {
      "cell_type": "markdown",
      "metadata": {
        "id": "txb9xJiNIkth"
      },
      "source": [
        "# Python - Access Set Items\n",
        "\n",
        "You cannot access items in a set by referring to an index or a key.\n",
        "\n",
        "But you can loop through the set items using a for loop, or ask if a specified value is present in a set, by using the in keyword.\n",
        "\n",
        "Loop through the set, and print the values:"
      ]
    },
    {
      "cell_type": "code",
      "execution_count": 10,
      "metadata": {
        "id": "dPotgRyKIkth",
        "outputId": "06b2fecc-849a-4a6a-e483-41bcc8841a44",
        "colab": {
          "base_uri": "https://localhost:8080/"
        }
      },
      "outputs": [
        {
          "output_type": "stream",
          "name": "stdout",
          "text": [
            "apple\n",
            "cherry\n",
            "banana\n"
          ]
        }
      ],
      "source": [
        "thisset = {\"apple\", \"banana\", \"cherry\"}\n",
        "\n",
        "for x in thisset:\n",
        "  print(x)"
      ]
    },
    {
      "cell_type": "markdown",
      "metadata": {
        "id": "N9LF3h77Ikti"
      },
      "source": [
        "Check if \"banana\" is present in the set:"
      ]
    },
    {
      "cell_type": "code",
      "execution_count": 11,
      "metadata": {
        "id": "-0I8-9JKIktj",
        "outputId": "003b6789-ac2d-45e1-f3da-5978560bb3f2",
        "colab": {
          "base_uri": "https://localhost:8080/"
        }
      },
      "outputs": [
        {
          "output_type": "stream",
          "name": "stdout",
          "text": [
            "True\n"
          ]
        }
      ],
      "source": [
        "thisset = {\"apple\", \"banana\", \"cherry\"}\n",
        "\n",
        "print(\"banana\" in thisset)"
      ]
    },
    {
      "cell_type": "markdown",
      "metadata": {
        "id": "uK8gUVAAIktj"
      },
      "source": [
        "**Adding an item to a set**   \n",
        "To add single item to a set we can use the add() method.\n",
        "\n"
      ]
    },
    {
      "cell_type": "code",
      "execution_count": 12,
      "metadata": {
        "id": "CJO7r7JxIktk",
        "outputId": "e311850b-5918-4407-83fc-5f6fb86f96fb",
        "colab": {
          "base_uri": "https://localhost:8080/"
        }
      },
      "outputs": [
        {
          "output_type": "stream",
          "name": "stdout",
          "text": [
            "{'apple', 'cherry', 'banana', 'orange'}\n"
          ]
        }
      ],
      "source": [
        "thisset = {\"apple\", \"banana\", \"cherry\"}\n",
        "\n",
        "thisset.add(\"orange\")\n",
        "\n",
        "print(thisset)"
      ]
    },
    {
      "cell_type": "markdown",
      "metadata": {
        "id": "wLlNTFzoIktk"
      },
      "source": [
        "**Deleting an element from set**   \n",
        "To remove an item in a set, use the remove, or the discard method. The only difference is that remove throws an error if the element we wish to remove is not in the set and discard doesn't"
      ]
    },
    {
      "cell_type": "code",
      "execution_count": 13,
      "metadata": {
        "id": "cmXjohwuIktl",
        "outputId": "bb8a5e02-cbf3-4b09-e505-fa62ca9953d4",
        "colab": {
          "base_uri": "https://localhost:8080/"
        }
      },
      "outputs": [
        {
          "output_type": "stream",
          "name": "stdout",
          "text": [
            "{'apple', 'cherry'}\n"
          ]
        }
      ],
      "source": [
        "thisset = {\"apple\", \"banana\", \"cherry\"}\n",
        "\n",
        "thisset.remove(\"banana\")\n",
        "\n",
        "print(thisset)"
      ]
    },
    {
      "cell_type": "markdown",
      "metadata": {
        "id": "UuPHaRC1Iktl"
      },
      "source": [
        "# Python - Loop Sets\n",
        "\n",
        "You can loop through the set items by using a for loop:\n",
        "\n",
        "Loop through the set, and print the values:"
      ]
    },
    {
      "cell_type": "code",
      "execution_count": 14,
      "metadata": {
        "id": "sZyYq0z3Iktm",
        "outputId": "5c300259-5c56-4ce4-e053-611b1583b660",
        "colab": {
          "base_uri": "https://localhost:8080/"
        }
      },
      "outputs": [
        {
          "output_type": "stream",
          "name": "stdout",
          "text": [
            "apple\n",
            "cherry\n",
            "banana\n"
          ]
        }
      ],
      "source": [
        "thisset = {\"apple\", \"banana\", \"cherry\"}\n",
        "\n",
        "for x in thisset:\n",
        "  print(x)"
      ]
    },
    {
      "cell_type": "markdown",
      "metadata": {
        "id": "s95W0inZIktm"
      },
      "source": [
        "# Python - Join Sets\n",
        "\n",
        "There are several ways to join two or more sets in Python.\n",
        "\n",
        "You can use the union() method that returns a new set containing all items from both sets, or the update() method that inserts all the items from one or more sets into another:\n",
        "\n",
        "The union() method returns a new set with all items from both sets:"
      ]
    },
    {
      "cell_type": "code",
      "execution_count": 15,
      "metadata": {
        "id": "j2vrVentIktm",
        "outputId": "4955a06f-7e28-478c-c001-39f1a4243793",
        "colab": {
          "base_uri": "https://localhost:8080/"
        }
      },
      "outputs": [
        {
          "output_type": "stream",
          "name": "stdout",
          "text": [
            "{1, 2, 3, 'a', 'c', 'b'}\n"
          ]
        }
      ],
      "source": [
        "set1 = {\"a\", \"b\" , \"c\"}\n",
        "set2 = {1, 2, 3}\n",
        "\n",
        "set3 = set1.union(set2)\n",
        "print(set3)"
      ]
    },
    {
      "cell_type": "code",
      "execution_count": 16,
      "metadata": {
        "id": "RgjB7TxPIktn",
        "outputId": "5bb92b90-1856-475a-8d68-f0d5fdfdffcc",
        "colab": {
          "base_uri": "https://localhost:8080/"
        }
      },
      "outputs": [
        {
          "output_type": "stream",
          "name": "stdout",
          "text": [
            "{1, 2, 3, 'a', 'cherry', 'apple', 'banana', 'c', 'b'}\n"
          ]
        }
      ],
      "source": [
        "set1.update(set2,set3,thisset)\n",
        "print(set1)"
      ]
    },
    {
      "cell_type": "code",
      "source": [
        ""
      ],
      "metadata": {
        "id": "GPW7nlmuqnq-"
      },
      "execution_count": 16,
      "outputs": []
    }
  ],
  "metadata": {
    "kernelspec": {
      "display_name": "Python 3",
      "language": "python",
      "name": "python3"
    },
    "language_info": {
      "codemirror_mode": {
        "name": "ipython",
        "version": 3
      },
      "file_extension": ".py",
      "mimetype": "text/x-python",
      "name": "python",
      "nbconvert_exporter": "python",
      "pygments_lexer": "ipython3",
      "version": "3.7.1"
    },
    "colab": {
      "name": "04.Python_sets.ipynb",
      "provenance": [],
      "include_colab_link": true
    }
  },
  "nbformat": 4,
  "nbformat_minor": 0
}
{
  "cells": [
    {
      "cell_type": "markdown",
      "metadata": {
        "id": "view-in-github",
        "colab_type": "text"
      },
      "source": [
        "<a href=\"https://colab.research.google.com/github/ThinkLabzChennai/Datascience/blob/main/02.Python_strings.ipynb\" target=\"_parent\"><img src=\"https://colab.research.google.com/assets/colab-badge.svg\" alt=\"Open In Colab\"/></a>"
      ]
    },
    {
      "cell_type": "markdown",
      "metadata": {
        "id": "RCrYjJoUgh1H"
      },
      "source": [
        "# Python Strings"
      ]
    },
    {
      "cell_type": "markdown",
      "metadata": {
        "id": "R4dUPPdXgh1M"
      },
      "source": [
        "A string is a sequence of characters. Strings contain alphabets, numbers and symbols. Each character in a string can be accessed both individually and as a group. Strings are stored in Python **str**. Strings in python are surrounded by either single quotation marks, or double quotation marks.\n",
        "\n",
        "'hello' is the same as \"hello\".\n"
      ]
    },
    {
      "cell_type": "markdown",
      "metadata": {
        "id": "0tStCBsQgh1O"
      },
      "source": [
        "Multiline string can be assigned to a variable by using three quotes **\" \" \"**"
      ]
    },
    {
      "cell_type": "markdown",
      "metadata": {
        "id": "_m0OJHQzgh1O"
      },
      "source": [
        "Both single and double quotes can be used for assigning:"
      ]
    },
    {
      "cell_type": "code",
      "execution_count": 7,
      "metadata": {
        "colab": {
          "base_uri": "https://localhost:8080/"
        },
        "id": "yvdw94EGgh1P",
        "outputId": "b3d322f0-88ca-4594-fe98-de7b22b874f0"
      },
      "outputs": [
        {
          "output_type": "stream",
          "name": "stdout",
          "text": [
            "Magic is believing in yourself,\n",
            " if you can do that, \n",
            " you can make anything happen.   \n"
          ]
        }
      ],
      "source": [
        "a = \"\"\"Magic is believing in yourself,\n",
        " if you can do that, \n",
        " you can make anything happen.   \"\"\"\n",
        "print(a)"
      ]
    },
    {
      "cell_type": "code",
      "source": [
        "a = '''Magic is believing in yourself,\n",
        " if you can do that, \n",
        " you can make anything happen.   '''\n",
        "print(a)"
      ],
      "metadata": {
        "colab": {
          "base_uri": "https://localhost:8080/"
        },
        "id": "PGuIbmBjwn00",
        "outputId": "ca98c8d7-9124-4cfa-a304-1d65c2a54c9f"
      },
      "execution_count": 23,
      "outputs": [
        {
          "output_type": "stream",
          "name": "stdout",
          "text": [
            "Magic is believing in yourself,\n",
            " if you can do that, \n",
            " you can make anything happen.   \n"
          ]
        }
      ]
    },
    {
      "cell_type": "markdown",
      "metadata": {
        "id": "_C24lhgWgh1S"
      },
      "source": [
        "# Strings are Arrays"
      ]
    },
    {
      "cell_type": "markdown",
      "metadata": {
        "id": "VsYnXokygh1T"
      },
      "source": [
        "Like many other popular programming languages, strings in Python are arrays of bytes representing unicode characters.\n",
        "\n",
        "However, Python does not have a character data type, a single character is simply a string with a length of 1.\n",
        "\n",
        "Square brackets **[** and **]** can be used to access elements of the string."
      ]
    },
    {
      "cell_type": "markdown",
      "metadata": {
        "id": "5FSjSPYrgh1U"
      },
      "source": [
        "Get the character at position 1 (remember that the first character has the position 0):"
      ]
    },
    {
      "cell_type": "code",
      "execution_count": 8,
      "metadata": {
        "colab": {
          "base_uri": "https://localhost:8080/"
        },
        "id": "g6Lj47Thgh1V",
        "outputId": "37b61332-05ed-433d-d55d-c4322eb387d8"
      },
      "outputs": [
        {
          "output_type": "stream",
          "name": "stdout",
          "text": [
            "a\n"
          ]
        }
      ],
      "source": [
        "a = \"Magic is believing in yourself, if you can do that, you can make anything happen.   \"\n",
        "print(a[1])"
      ]
    },
    {
      "cell_type": "markdown",
      "metadata": {
        "id": "5Mt9T28igh1X"
      },
      "source": [
        "To get the length of a string, use the **len()** function.\n",
        "\n",
        "This returns the length of a string:"
      ]
    },
    {
      "cell_type": "code",
      "execution_count": 9,
      "metadata": {
        "colab": {
          "base_uri": "https://localhost:8080/"
        },
        "id": "t43KfK-0gh1Y",
        "outputId": "cf8b700b-9ec5-488d-ed20-ea4bfd73265d"
      },
      "outputs": [
        {
          "output_type": "stream",
          "name": "stdout",
          "text": [
            "84\n"
          ]
        }
      ],
      "source": [
        "a = \"Magic is believing in yourself, if you can do that, you can make anything happen.   \"\n",
        "print(len(a))"
      ]
    },
    {
      "cell_type": "markdown",
      "metadata": {
        "id": "ovyvn7Z6gh1Z"
      },
      "source": [
        "To check if a certain phrase or character is present in a string, we can use the keyword in.\n",
        "\n",
        "Check if \"free\" is present in the following text:"
      ]
    },
    {
      "cell_type": "code",
      "execution_count": 10,
      "metadata": {
        "colab": {
          "base_uri": "https://localhost:8080/"
        },
        "id": "bKCcSPFTgh1a",
        "outputId": "f75240ed-892f-4ce3-ea49-92a8568d79d4"
      },
      "outputs": [
        {
          "output_type": "stream",
          "name": "stdout",
          "text": [
            "True\n"
          ]
        }
      ],
      "source": [
        "txt = \"The best things in life are free!\"\n",
        "print(\"free\" in txt)"
      ]
    },
    {
      "cell_type": "markdown",
      "metadata": {
        "id": "2dZx8B43gh1b"
      },
      "source": [
        "# Python - Slicing Strings"
      ]
    },
    {
      "cell_type": "markdown",
      "metadata": {
        "id": "8-lmOtc2gh1b"
      },
      "source": [
        "You can return a range of characters by using the slice syntax.\n",
        "\n",
        "Specify the start index and the end index, separated by a colon, to return a part of the string.\n",
        "\n",
        "Get the characters from position 2 to position 5 (not included):"
      ]
    },
    {
      "cell_type": "code",
      "execution_count": 11,
      "metadata": {
        "colab": {
          "base_uri": "https://localhost:8080/"
        },
        "id": "F5r-VMungh1b",
        "outputId": "39ccdfc3-626c-4171-9c33-5d087f365899"
      },
      "outputs": [
        {
          "output_type": "stream",
          "name": "stdout",
          "text": [
            "Do \n"
          ]
        }
      ],
      "source": [
        "b = \"  Do good and good will come to you.\"\n",
        "print(b[2:5])"
      ]
    },
    {
      "cell_type": "markdown",
      "metadata": {
        "id": "1iFklxlygh1c"
      },
      "source": [
        "Slice From the Start\n",
        "\n",
        "By leaving out the start index, the range will start at the first character:\n",
        "\n",
        "Get the characters from the start to position 5 (not included):"
      ]
    },
    {
      "cell_type": "code",
      "execution_count": 12,
      "metadata": {
        "colab": {
          "base_uri": "https://localhost:8080/"
        },
        "id": "XGopP3uqgh1c",
        "outputId": "3d3601a5-606f-4206-9144-62ef448a1094"
      },
      "outputs": [
        {
          "output_type": "stream",
          "name": "stdout",
          "text": [
            "  Do \n"
          ]
        }
      ],
      "source": [
        "b = \"  Do good and good will come to you.\"\n",
        "print(b[:5])"
      ]
    },
    {
      "cell_type": "markdown",
      "metadata": {
        "id": "rx4NBEQIgh1c"
      },
      "source": [
        "Slice To the End\n",
        "\n",
        "By leaving out the end index, the range will go to the end:\n",
        "\n",
        "Get the characters from position 2, and all the way to the end:"
      ]
    },
    {
      "cell_type": "code",
      "execution_count": 13,
      "metadata": {
        "colab": {
          "base_uri": "https://localhost:8080/"
        },
        "id": "hG26EuvAgh1d",
        "outputId": "f546214b-3e0f-42b8-d14d-8b561429462c"
      },
      "outputs": [
        {
          "output_type": "stream",
          "name": "stdout",
          "text": [
            "Do good and good will come to you.   \n"
          ]
        }
      ],
      "source": [
        "b = \"  Do good and good will come to you.   \"\n",
        "print(b[2:])"
      ]
    },
    {
      "cell_type": "markdown",
      "metadata": {
        "id": "6ckL8CODgh1d"
      },
      "source": [
        "# Python - Modify Strings"
      ]
    },
    {
      "cell_type": "markdown",
      "metadata": {
        "id": "7xp0Klytgh1d"
      },
      "source": [
        "Upper Case\n",
        "\n",
        "The **upper()** method returns the string in upper case:"
      ]
    },
    {
      "cell_type": "code",
      "execution_count": 14,
      "metadata": {
        "colab": {
          "base_uri": "https://localhost:8080/"
        },
        "id": "nh6hcZHigh1d",
        "outputId": "8c0c426e-0db3-4e0a-c413-a333d76f72c4"
      },
      "outputs": [
        {
          "output_type": "stream",
          "name": "stdout",
          "text": [
            "MAGIC IS BELIEVING IN YOURSELF, IF YOU CAN DO THAT, YOU CAN MAKE ANYTHING HAPPEN.   \n"
          ]
        }
      ],
      "source": [
        "a = \"Magic is believing in yourself, if you can do that, you can make anything happen.   \"\n",
        "print(a.upper())"
      ]
    },
    {
      "cell_type": "markdown",
      "source": [
        "  Lowercase      \n",
        "We can convert all the characters in a string to lower case using **lower()** method\n"
      ],
      "metadata": {
        "id": "LdWIp_xZ1h2U"
      }
    },
    {
      "cell_type": "code",
      "source": [
        "a = \"Magic is believing in yourself, if you can do that, you can make anything happen.   \"\n",
        "print(a.lower())"
      ],
      "metadata": {
        "colab": {
          "base_uri": "https://localhost:8080/"
        },
        "id": "H-UsctV71nF7",
        "outputId": "510d5adb-033f-4496-f585-c9b8f66c02f4"
      },
      "execution_count": 24,
      "outputs": [
        {
          "output_type": "stream",
          "name": "stdout",
          "text": [
            "magic is believing in yourself, if you can do that, you can make anything happen.   \n"
          ]
        }
      ]
    },
    {
      "cell_type": "markdown",
      "metadata": {
        "id": "b4U6FJLMgh1e"
      },
      "source": [
        "Remove Whitespace\n",
        "\n",
        "Whitespace is the space before and/or after the actual text, and very often you want to remove this space.\n",
        "\n",
        "1) **strip** - for both sides   \n",
        "2) **lstrip** - for left side only   \n",
        "3) **rstrip** - for right side only\n",
        "\n",
        "The **strip()** method removes any whitespace from both beginning and the end:"
      ]
    },
    {
      "cell_type": "code",
      "execution_count": 15,
      "metadata": {
        "colab": {
          "base_uri": "https://localhost:8080/"
        },
        "id": "_VtQpNrzgh1e",
        "outputId": "a7e380e8-9e48-4d49-e02b-62d7ecf50772"
      },
      "outputs": [
        {
          "output_type": "stream",
          "name": "stdout",
          "text": [
            "Magic is believing in yourself, if you can do that, you can make anything happen.\n"
          ]
        }
      ],
      "source": [
        "a = \"Magic is believing in yourself, if you can do that, you can make anything happen.   \"\n",
        "print(a.strip()) # returns \"Hello, World!\""
      ]
    },
    {
      "cell_type": "code",
      "source": [
        "print(a)\n",
        "a.rstrip()\n",
        "\n"
      ],
      "metadata": {
        "colab": {
          "base_uri": "https://localhost:8080/",
          "height": 58
        },
        "id": "F2cq4M7Ptbs6",
        "outputId": "5a0f3251-d80d-4920-9731-d6d8e75b1568"
      },
      "execution_count": 27,
      "outputs": [
        {
          "output_type": "stream",
          "name": "stdout",
          "text": [
            "Magic is believing in yourself, if you can do that, you can make anything happen.   \n"
          ]
        },
        {
          "output_type": "execute_result",
          "data": {
            "application/vnd.google.colaboratory.intrinsic+json": {
              "type": "string"
            },
            "text/plain": [
              "'Magic is believing in yourself, if you can do that, you can make anything happen.'"
            ]
          },
          "metadata": {},
          "execution_count": 27
        }
      ]
    },
    {
      "cell_type": "code",
      "source": [
        "print(b)\n",
        "\n",
        "b.lstrip()\n"
      ],
      "metadata": {
        "colab": {
          "base_uri": "https://localhost:8080/",
          "height": 58
        },
        "id": "XKKOgje6t839",
        "outputId": "672a3c72-e577-4160-ce3f-6688ae5f8237"
      },
      "execution_count": 28,
      "outputs": [
        {
          "output_type": "stream",
          "name": "stdout",
          "text": [
            "Magic is believing in yourself, if you can do that, you can make anything happen.   \n"
          ]
        },
        {
          "output_type": "execute_result",
          "data": {
            "application/vnd.google.colaboratory.intrinsic+json": {
              "type": "string"
            },
            "text/plain": [
              "'Magic is believing in yourself, if you can do that, you can make anything happen.   '"
            ]
          },
          "metadata": {},
          "execution_count": 28
        }
      ]
    },
    {
      "cell_type": "markdown",
      "source": [
        ""
      ],
      "metadata": {
        "id": "QKyZrYESBPwz"
      }
    },
    {
      "cell_type": "markdown",
      "source": [
        "Finding pattern      \n",
        "We can find the position of the first letter of first appearance of an expression in the string using **find()** method\n",
        "\n"
      ],
      "metadata": {
        "id": "WcrjIXNMvBGp"
      }
    },
    {
      "cell_type": "code",
      "source": [
        "print(a)\n",
        "a.find(\"you\")"
      ],
      "metadata": {
        "colab": {
          "base_uri": "https://localhost:8080/"
        },
        "id": "Vkdin8qau6I5",
        "outputId": "73edc623-01ea-43c3-a575-038934d084ca"
      },
      "execution_count": 30,
      "outputs": [
        {
          "output_type": "stream",
          "name": "stdout",
          "text": [
            "Magic is believing in yourself, if you can do that, you can make anything happen.   \n"
          ]
        },
        {
          "output_type": "execute_result",
          "data": {
            "text/plain": [
              "22"
            ]
          },
          "metadata": {},
          "execution_count": 30
        }
      ]
    },
    {
      "cell_type": "markdown",
      "source": [
        ""
      ],
      "metadata": {
        "id": "G0bpoYSABPJX"
      }
    },
    {
      "cell_type": "markdown",
      "metadata": {
        "id": "60sm_CABgh1f"
      },
      "source": [
        "Replace String\n",
        "\n",
        "The **replace()** method replaces a string with another string:"
      ]
    },
    {
      "cell_type": "code",
      "execution_count": 32,
      "metadata": {
        "colab": {
          "base_uri": "https://localhost:8080/"
        },
        "id": "M0oetsn-gh1f",
        "outputId": "06a90001-2c12-4788-e477-0fa90791b53b"
      },
      "outputs": [
        {
          "output_type": "stream",
          "name": "stdout",
          "text": [
            "Mag new_character c  new_character s bel new_character ev new_character ng  new_character n yourself,  new_character f you can do that, you can make anyth new_character ng happen.   \n"
          ]
        }
      ],
      "source": [
        "a = \"Magic is believing in yourself, if you can do that, you can make anything happen.   \"\n",
        "print(a.replace(\"i\", \" new_character \"))"
      ]
    },
    {
      "cell_type": "markdown",
      "metadata": {
        "id": "0_tlKRvGgh1f"
      },
      "source": [
        "Split String\n",
        "\n",
        "The **split()** method returns a list where the text between the specified separator becomes the list items.\n",
        "\n",
        "This method splits the string into substrings if it finds instances of the separator:"
      ]
    },
    {
      "cell_type": "code",
      "execution_count": 17,
      "metadata": {
        "colab": {
          "base_uri": "https://localhost:8080/"
        },
        "id": "ORDl9Z6Rgh1g",
        "outputId": "bee647f3-fc44-42a5-87e2-ff06262bddef"
      },
      "outputs": [
        {
          "output_type": "stream",
          "name": "stdout",
          "text": [
            "['Magic', 'is', 'believing', 'in', 'yourself,', 'if', 'you', 'can', 'do', 'that,', 'you', 'can', 'make', 'anything', 'happen.', '', '', '']\n"
          ]
        }
      ],
      "source": [
        "a = \"Magic is believing in yourself, if you can do that, you can make anything happen.   \"\n",
        "print(a.split(\" \")) "
      ]
    },
    {
      "cell_type": "markdown",
      "metadata": {
        "id": "oKJ7-i7pgh1g"
      },
      "source": [
        "# Python - String Concatenation"
      ]
    },
    {
      "cell_type": "markdown",
      "metadata": {
        "id": "GjCQY6eCgh1h"
      },
      "source": [
        "To concatenate, or combine, two strings you can use the + operator.\n",
        "\n",
        "Merge variable a with variable b into variable c:"
      ]
    },
    {
      "cell_type": "code",
      "execution_count": 18,
      "metadata": {
        "colab": {
          "base_uri": "https://localhost:8080/"
        },
        "id": "oUMoULuNgh1h",
        "outputId": "783f0057-c0bb-4cc2-a643-57b50858d42e"
      },
      "outputs": [
        {
          "output_type": "stream",
          "name": "stdout",
          "text": [
            " Do good and good will come to you.Magic is believing in yourself, if you can do that, you can make anything happen.   \n"
          ]
        }
      ],
      "source": [
        "a = \"Magic is believing in yourself, if you can do that, you can make anything happen.   \"\n",
        "b = \" Do good and good will come to you.\"\n",
        "c = b+a\n",
        "print(c)"
      ]
    },
    {
      "cell_type": "markdown",
      "metadata": {
        "id": "OWSlYv7Qgh1h"
      },
      "source": [
        "To add a space between them, add a \" \":"
      ]
    },
    {
      "cell_type": "code",
      "execution_count": 19,
      "metadata": {
        "colab": {
          "base_uri": "https://localhost:8080/"
        },
        "id": "Jd47snoJgh1h",
        "outputId": "2f695144-669f-4fcb-ce0e-8068b81e2431"
      },
      "outputs": [
        {
          "output_type": "stream",
          "name": "stdout",
          "text": [
            " Do good and good will come to you. Magic is believing in yourself, if you can do that, you can make anything happen.   \n"
          ]
        }
      ],
      "source": [
        "a = \" Do good and good will come to you.\"\n",
        "b = \"Magic is believing in yourself, if you can do that, you can make anything happen.   \"\n",
        "c = a + \" \" + b\n",
        "print(c)"
      ]
    },
    {
      "cell_type": "markdown",
      "metadata": {
        "id": "hvoclDLCgh1i"
      },
      "source": [
        "# Python - Format - Strings"
      ]
    },
    {
      "cell_type": "markdown",
      "metadata": {
        "id": "MdW5IWqNgh1i"
      },
      "source": [
        "String Format\n",
        "\n",
        "As we learned in the Python Variables chapter, we cannot combine strings and numbers like this:\n",
        "\n",
        "age = 36\n",
        "\n",
        "txt = \"My name is John, I am \" + age\n",
        "\n",
        "But we can combine strings and numbers by using the format() method!\n",
        "\n",
        "The format() method takes the passed arguments, formats them, and places them in the string where the placeholders {} are:\n",
        "    \n",
        "Use the format() method to insert numbers into strings:"
      ]
    },
    {
      "cell_type": "code",
      "execution_count": 20,
      "metadata": {
        "colab": {
          "base_uri": "https://localhost:8080/"
        },
        "id": "kjnjt_Hogh1i",
        "outputId": "79bc09b1-8a8d-44e0-cae4-38c38eb72c7f"
      },
      "outputs": [
        {
          "output_type": "stream",
          "name": "stdout",
          "text": [
            "My name is John, and I am 36\n"
          ]
        }
      ],
      "source": [
        "age = 36\n",
        "txt = \"My name is John, and I am {}\"\n",
        "print(txt.format(age))"
      ]
    },
    {
      "cell_type": "markdown",
      "metadata": {
        "id": "NCJkW32Lgh1i"
      },
      "source": [
        "The format() method takes unlimited number of arguments, and are placed into the respective placeholders:"
      ]
    },
    {
      "cell_type": "code",
      "execution_count": 21,
      "metadata": {
        "colab": {
          "base_uri": "https://localhost:8080/"
        },
        "id": "bU1kfzoFgh1j",
        "outputId": "2c6cccf1-14ff-4074-d3ce-7d4748a4f2ad"
      },
      "outputs": [
        {
          "output_type": "stream",
          "name": "stdout",
          "text": [
            "I want 3 pieces of item 567 for 49.95 dollars.\n"
          ]
        }
      ],
      "source": [
        "quantity = 3\n",
        "itemno = 567\n",
        "price = 49.95\n",
        "myorder = \"I want {} pieces of item {} for {} dollars.\"\n",
        "print(myorder.format(quantity, itemno, price))"
      ]
    },
    {
      "cell_type": "markdown",
      "metadata": {
        "id": "RQeZjDUFgh1j"
      },
      "source": [
        "You can use index numbers {0} to be sure the arguments are placed in the correct placeholders:"
      ]
    },
    {
      "cell_type": "code",
      "execution_count": 25,
      "metadata": {
        "colab": {
          "base_uri": "https://localhost:8080/"
        },
        "id": "sQklHQVpgh1j",
        "outputId": "cd2b3e09-749b-439a-8d7b-d1fa9c3c0680"
      },
      "outputs": [
        {
          "output_type": "stream",
          "name": "stdout",
          "text": [
            "I want to pay 49.95 dollars for 3 pieces of item 567.\n"
          ]
        }
      ],
      "source": [
        "quantity = 3\n",
        "itemno = 567\n",
        "price = 49.95\n",
        "myorder = \"I want to pay {2} dollars for {0} pieces of item {1}.\"\n",
        "print(myorder.format(quantity, itemno, price))"
      ]
    },
    {
      "cell_type": "markdown",
      "metadata": {
        "id": "_MhDtqUwgh1j"
      },
      "source": [
        "Exercise:\n",
        "    \n",
        "Use the len method to print the length of the string.\n",
        "\n",
        "x = \"Hello World\"\n"
      ]
    },
    {
      "cell_type": "code",
      "execution_count": 22,
      "metadata": {
        "id": "oqtxRZBqgh1k"
      },
      "outputs": [],
      "source": [
        ""
      ]
    }
  ],
  "metadata": {
    "kernelspec": {
      "display_name": "Python 3",
      "language": "python",
      "name": "python3"
    },
    "language_info": {
      "codemirror_mode": {
        "name": "ipython",
        "version": 3
      },
      "file_extension": ".py",
      "mimetype": "text/x-python",
      "name": "python",
      "nbconvert_exporter": "python",
      "pygments_lexer": "ipython3",
      "version": "3.7.1"
    },
    "colab": {
      "name": "02.Python_strings.ipynb",
      "provenance": [],
      "include_colab_link": true
    }
  },
  "nbformat": 4,
  "nbformat_minor": 0
}
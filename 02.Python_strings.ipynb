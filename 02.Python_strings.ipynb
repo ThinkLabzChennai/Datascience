{
  "cells": [
    {
      "cell_type": "markdown",
      "metadata": {
        "id": "view-in-github",
        "colab_type": "text"
      },
      "source": [
        "<a href=\"https://colab.research.google.com/github/ThinkLabzChennai/Datascience/blob/main/02.Python_strings.ipynb\" target=\"_parent\"><img src=\"https://colab.research.google.com/assets/colab-badge.svg\" alt=\"Open In Colab\"/></a>"
      ]
    },
    {
      "cell_type": "markdown",
      "metadata": {
        "id": "RCrYjJoUgh1H"
      },
      "source": [
        "# Python Strings"
      ]
    },
    {
      "cell_type": "markdown",
      "metadata": {
        "id": "R4dUPPdXgh1M"
      },
      "source": [
        "A string is a sequence of characters. Strings contain alphabets, numbers and symbols. Each character in a string can be accessed both individually and as a group. Strings are stored in Python **str**. Strings in python are surrounded by either single quotation marks, or double quotation marks.\n",
        "\n",
        "'hello' is the same as \"hello\".\n"
      ]
    },
    {
      "cell_type": "markdown",
      "metadata": {
        "id": "0tStCBsQgh1O"
      },
      "source": [
        "Multiline string can be assigned to a variable by using three quotes **\" \" \"**"
      ]
    },
    {
      "cell_type": "markdown",
      "metadata": {
        "id": "_m0OJHQzgh1O"
      },
      "source": [
        "Both single and double quotes can be used for assigning:"
      ]
    },
    {
      "cell_type": "code",
      "execution_count": 75,
      "metadata": {
        "colab": {
          "base_uri": "https://localhost:8080/"
        },
        "id": "yvdw94EGgh1P",
        "outputId": "af4ca61b-3c3b-49ca-db25-d8272369c0d2"
      },
      "outputs": [
        {
          "output_type": "stream",
          "name": "stdout",
          "text": [
            "Magic is believing in yourself,\n",
            " if you can do that, \n",
            " you can make anything happen.   \n"
          ]
        }
      ],
      "source": [
        "a = \"\"\"Magic is believing in yourself,\n",
        " if you can do that, \n",
        " you can make anything happen.   \"\"\"\n",
        "print(a)"
      ]
    },
    {
      "cell_type": "code",
      "source": [
        "a = '''Magic is believing in yourself,\n",
        " if you can do that, \n",
        " you can make anything happen.   '''\n",
        "print(a)"
      ],
      "metadata": {
        "colab": {
          "base_uri": "https://localhost:8080/"
        },
        "id": "PGuIbmBjwn00",
        "outputId": "e563fffa-8f50-47b6-ca0e-68c56e6848bb"
      },
      "execution_count": 76,
      "outputs": [
        {
          "output_type": "stream",
          "name": "stdout",
          "text": [
            "Magic is believing in yourself,\n",
            " if you can do that, \n",
            " you can make anything happen.   \n"
          ]
        }
      ]
    },
    {
      "cell_type": "markdown",
      "metadata": {
        "id": "_C24lhgWgh1S"
      },
      "source": [
        "# Strings are Arrays"
      ]
    },
    {
      "cell_type": "markdown",
      "metadata": {
        "id": "VsYnXokygh1T"
      },
      "source": [
        "Like many other popular programming languages, strings in Python are arrays of bytes representing unicode characters.\n",
        "\n",
        "However, Python does not have a character data type, a single character is simply a string with a length of 1.\n",
        "\n",
        "Square brackets **[** and **]** can be used to access elements of the string."
      ]
    },
    {
      "cell_type": "markdown",
      "metadata": {
        "id": "5FSjSPYrgh1U"
      },
      "source": [
        "Get the character at position 1 (remember that the first character has the position 0):"
      ]
    },
    {
      "cell_type": "code",
      "execution_count": 77,
      "metadata": {
        "colab": {
          "base_uri": "https://localhost:8080/"
        },
        "id": "g6Lj47Thgh1V",
        "outputId": "01a02a0b-357c-4319-f7df-78a8c0d9bcf4"
      },
      "outputs": [
        {
          "output_type": "stream",
          "name": "stdout",
          "text": [
            "a\n"
          ]
        }
      ],
      "source": [
        "a = \"Magic is believing in yourself, if you can do that, you can make anything happen.   \"\n",
        "print(a[1])"
      ]
    },
    {
      "cell_type": "markdown",
      "metadata": {
        "id": "5Mt9T28igh1X"
      },
      "source": [
        "To get the length of a string, use the **len()** function.\n",
        "\n",
        "This returns the length of a string:"
      ]
    },
    {
      "cell_type": "code",
      "execution_count": 78,
      "metadata": {
        "colab": {
          "base_uri": "https://localhost:8080/"
        },
        "id": "t43KfK-0gh1Y",
        "outputId": "60842e0c-d4a6-41ad-d76d-63ed6b4f9b50"
      },
      "outputs": [
        {
          "output_type": "stream",
          "name": "stdout",
          "text": [
            "84\n"
          ]
        }
      ],
      "source": [
        "a = \"Magic is believing in yourself, if you can do that, you can make anything happen.   \"\n",
        "print(len(a))"
      ]
    },
    {
      "cell_type": "markdown",
      "metadata": {
        "id": "ovyvn7Z6gh1Z"
      },
      "source": [
        "To check if a certain phrase or character is present in a string, we can use the keyword in.\n",
        "\n",
        "Check if \"free\" is present in the following text:"
      ]
    },
    {
      "cell_type": "code",
      "execution_count": 79,
      "metadata": {
        "colab": {
          "base_uri": "https://localhost:8080/"
        },
        "id": "bKCcSPFTgh1a",
        "outputId": "82dcf7e4-85e8-42bc-9c56-cb303eb620a8"
      },
      "outputs": [
        {
          "output_type": "stream",
          "name": "stdout",
          "text": [
            "True\n"
          ]
        }
      ],
      "source": [
        "txt = \"The best things in life are free!\"\n",
        "print(\"free\" in txt)"
      ]
    },
    {
      "cell_type": "markdown",
      "metadata": {
        "id": "2dZx8B43gh1b"
      },
      "source": [
        "# Python - Slicing Strings"
      ]
    },
    {
      "cell_type": "markdown",
      "metadata": {
        "id": "8-lmOtc2gh1b"
      },
      "source": [
        "You can return a range of characters by using the slice syntax.\n",
        "\n",
        "Specify the start index and the end index, separated by a colon, to return a part of the string.\n",
        "\n",
        "Get the characters from position 2 to position 5 (not included):"
      ]
    },
    {
      "cell_type": "code",
      "execution_count": 80,
      "metadata": {
        "colab": {
          "base_uri": "https://localhost:8080/"
        },
        "id": "F5r-VMungh1b",
        "outputId": "701c338c-a483-4d51-f812-be730e7521cb"
      },
      "outputs": [
        {
          "output_type": "stream",
          "name": "stdout",
          "text": [
            "Do \n"
          ]
        }
      ],
      "source": [
        "b = \"  Do good and good will come to you.\"\n",
        "print(b[2:5])"
      ]
    },
    {
      "cell_type": "markdown",
      "metadata": {
        "id": "1iFklxlygh1c"
      },
      "source": [
        "Slice From the Start\n",
        "\n",
        "By leaving out the start index, the range will start at the first character:\n",
        "\n",
        "Get the characters from the start to position 5 (not included):"
      ]
    },
    {
      "cell_type": "code",
      "execution_count": 81,
      "metadata": {
        "colab": {
          "base_uri": "https://localhost:8080/"
        },
        "id": "XGopP3uqgh1c",
        "outputId": "ebde390f-552e-4826-aecb-4af37e7b57ff"
      },
      "outputs": [
        {
          "output_type": "stream",
          "name": "stdout",
          "text": [
            "  Do \n"
          ]
        }
      ],
      "source": [
        "b = \"  Do good and good will come to you.\"\n",
        "print(b[:5])"
      ]
    },
    {
      "cell_type": "markdown",
      "metadata": {
        "id": "rx4NBEQIgh1c"
      },
      "source": [
        "Slice To the End\n",
        "\n",
        "By leaving out the end index, the range will go to the end:\n",
        "\n",
        "Get the characters from position 2, and all the way to the end:"
      ]
    },
    {
      "cell_type": "code",
      "execution_count": 82,
      "metadata": {
        "colab": {
          "base_uri": "https://localhost:8080/"
        },
        "id": "hG26EuvAgh1d",
        "outputId": "bf5754e8-e679-4ebd-ba6b-c9682f3bd6e4"
      },
      "outputs": [
        {
          "output_type": "stream",
          "name": "stdout",
          "text": [
            "Do good and good will come to you.   \n"
          ]
        }
      ],
      "source": [
        "b = \"  Do good and good will come to you.   \"\n",
        "print(b[2:])"
      ]
    },
    {
      "cell_type": "markdown",
      "metadata": {
        "id": "6ckL8CODgh1d"
      },
      "source": [
        "# Python - Modify Strings"
      ]
    },
    {
      "cell_type": "markdown",
      "metadata": {
        "id": "7xp0Klytgh1d"
      },
      "source": [
        "Upper Case\n",
        "\n",
        "The **upper()** method returns the string in upper case:"
      ]
    },
    {
      "cell_type": "code",
      "execution_count": 83,
      "metadata": {
        "colab": {
          "base_uri": "https://localhost:8080/"
        },
        "id": "nh6hcZHigh1d",
        "outputId": "64786f25-11d8-4bf3-e1fc-26721b3ecb28"
      },
      "outputs": [
        {
          "output_type": "stream",
          "name": "stdout",
          "text": [
            "MAGIC IS BELIEVING IN YOURSELF, IF YOU CAN DO THAT, YOU CAN MAKE ANYTHING HAPPEN.   \n"
          ]
        }
      ],
      "source": [
        "a = \"Magic is believing in yourself, if you can do that, you can make anything happen.   \"\n",
        "print(a.upper())"
      ]
    },
    {
      "cell_type": "markdown",
      "source": [
        "  Lowercase      \n",
        "We can convert all the characters in a string to lower case using **lower()** method\n"
      ],
      "metadata": {
        "id": "LdWIp_xZ1h2U"
      }
    },
    {
      "cell_type": "code",
      "source": [
        "a = \"Magic is believing in yourself, if you can do that, you can make anything happen.   \"\n",
        "print(a.lower())"
      ],
      "metadata": {
        "colab": {
          "base_uri": "https://localhost:8080/"
        },
        "id": "H-UsctV71nF7",
        "outputId": "ec542968-f470-4d8e-d00b-695bb20e1ae8"
      },
      "execution_count": 84,
      "outputs": [
        {
          "output_type": "stream",
          "name": "stdout",
          "text": [
            "magic is believing in yourself, if you can do that, you can make anything happen.   \n"
          ]
        }
      ]
    },
    {
      "cell_type": "markdown",
      "metadata": {
        "id": "b4U6FJLMgh1e"
      },
      "source": [
        "Remove Whitespace\n",
        "\n",
        "Whitespace is the space before and/or after the actual text, and very often you want to remove this space.\n",
        "\n",
        "1) **strip** - for both sides   \n",
        "2) **lstrip** - for left side only   \n",
        "3) **rstrip** - for right side only\n",
        "\n",
        "The **strip()** method removes any whitespace from both beginning and the end:"
      ]
    },
    {
      "cell_type": "code",
      "execution_count": 85,
      "metadata": {
        "colab": {
          "base_uri": "https://localhost:8080/"
        },
        "id": "_VtQpNrzgh1e",
        "outputId": "d9d1b3f1-78c7-4d9f-812d-86eac46dd6f6"
      },
      "outputs": [
        {
          "output_type": "stream",
          "name": "stdout",
          "text": [
            "Magic is believing in yourself, if you can do that, you can make anything happen.\n"
          ]
        }
      ],
      "source": [
        "a = \"Magic is believing in yourself, if you can do that, you can make anything happen.   \"\n",
        "print(a.strip()) # returns \"Hello, World!\""
      ]
    },
    {
      "cell_type": "code",
      "source": [
        "print(a)\n",
        "a.rstrip()\n",
        "\n"
      ],
      "metadata": {
        "colab": {
          "base_uri": "https://localhost:8080/",
          "height": 58
        },
        "id": "F2cq4M7Ptbs6",
        "outputId": "5f70f943-d8ba-4290-86e3-dda5406c4703"
      },
      "execution_count": 86,
      "outputs": [
        {
          "output_type": "stream",
          "name": "stdout",
          "text": [
            "Magic is believing in yourself, if you can do that, you can make anything happen.   \n"
          ]
        },
        {
          "output_type": "execute_result",
          "data": {
            "application/vnd.google.colaboratory.intrinsic+json": {
              "type": "string"
            },
            "text/plain": [
              "'Magic is believing in yourself, if you can do that, you can make anything happen.'"
            ]
          },
          "metadata": {},
          "execution_count": 86
        }
      ]
    },
    {
      "cell_type": "code",
      "source": [
        "print(b)\n",
        "\n",
        "b.lstrip()\n"
      ],
      "metadata": {
        "colab": {
          "base_uri": "https://localhost:8080/",
          "height": 58
        },
        "id": "XKKOgje6t839",
        "outputId": "ae445d12-03c3-46ac-86cc-9fabb0889b25"
      },
      "execution_count": 87,
      "outputs": [
        {
          "output_type": "stream",
          "name": "stdout",
          "text": [
            "  Do good and good will come to you.   \n"
          ]
        },
        {
          "output_type": "execute_result",
          "data": {
            "application/vnd.google.colaboratory.intrinsic+json": {
              "type": "string"
            },
            "text/plain": [
              "'Do good and good will come to you.   '"
            ]
          },
          "metadata": {},
          "execution_count": 87
        }
      ]
    },
    {
      "cell_type": "markdown",
      "source": [
        ""
      ],
      "metadata": {
        "id": "QKyZrYESBPwz"
      }
    },
    {
      "cell_type": "markdown",
      "source": [
        "Finding pattern      \n",
        "We can find the position of the first letter of first appearance of an expression in the string using **find()** method\n",
        "\n"
      ],
      "metadata": {
        "id": "WcrjIXNMvBGp"
      }
    },
    {
      "cell_type": "code",
      "source": [
        "print(a)\n",
        "a.find(\"you\")"
      ],
      "metadata": {
        "colab": {
          "base_uri": "https://localhost:8080/"
        },
        "id": "Vkdin8qau6I5",
        "outputId": "aaef4214-aff0-413f-df24-810b918b5ca4"
      },
      "execution_count": 88,
      "outputs": [
        {
          "output_type": "stream",
          "name": "stdout",
          "text": [
            "Magic is believing in yourself, if you can do that, you can make anything happen.   \n"
          ]
        },
        {
          "output_type": "execute_result",
          "data": {
            "text/plain": [
              "22"
            ]
          },
          "metadata": {},
          "execution_count": 88
        }
      ]
    },
    {
      "cell_type": "markdown",
      "source": [
        ""
      ],
      "metadata": {
        "id": "G0bpoYSABPJX"
      }
    },
    {
      "cell_type": "markdown",
      "metadata": {
        "id": "60sm_CABgh1f"
      },
      "source": [
        "Replace String\n",
        "\n",
        "The **replace()** method replaces a string with another string:"
      ]
    },
    {
      "cell_type": "code",
      "execution_count": 89,
      "metadata": {
        "colab": {
          "base_uri": "https://localhost:8080/"
        },
        "id": "M0oetsn-gh1f",
        "outputId": "4fe57c2f-09e5-4c8d-c411-bab867fdbb98"
      },
      "outputs": [
        {
          "output_type": "stream",
          "name": "stdout",
          "text": [
            "Mag new_character c  new_character s bel new_character ev new_character ng  new_character n yourself,  new_character f you can do that, you can make anyth new_character ng happen.   \n"
          ]
        }
      ],
      "source": [
        "a = \"Magic is believing in yourself, if you can do that, you can make anything happen.   \"\n",
        "print(a.replace(\"i\", \" new_character \"))"
      ]
    },
    {
      "cell_type": "markdown",
      "metadata": {
        "id": "0_tlKRvGgh1f"
      },
      "source": [
        "Split String\n",
        "\n",
        "The **split()** method returns a list where the text between the specified separator becomes the list items.\n",
        "\n",
        "This method splits the string into substrings if it finds instances of the separator:"
      ]
    },
    {
      "cell_type": "code",
      "execution_count": 90,
      "metadata": {
        "colab": {
          "base_uri": "https://localhost:8080/"
        },
        "id": "ORDl9Z6Rgh1g",
        "outputId": "6fb05564-874e-4c6f-f898-169c85f13c88"
      },
      "outputs": [
        {
          "output_type": "stream",
          "name": "stdout",
          "text": [
            "['Magic', 'is', 'believing', 'in', 'yourself,', 'if', 'you', 'can', 'do', 'that,', 'you', 'can', 'make', 'anything', 'happen.', '', '', '']\n"
          ]
        }
      ],
      "source": [
        "a = \"Magic is believing in yourself, if you can do that, you can make anything happen.   \"\n",
        "print(a.split(\" \")) "
      ]
    },
    {
      "cell_type": "markdown",
      "metadata": {
        "id": "oKJ7-i7pgh1g"
      },
      "source": [
        "# Python - String Concatenation"
      ]
    },
    {
      "cell_type": "markdown",
      "metadata": {
        "id": "GjCQY6eCgh1h"
      },
      "source": [
        "To concatenate, or combine, two strings you can use the + operator.\n",
        "\n",
        "Merge variable a with variable b into variable c:"
      ]
    },
    {
      "cell_type": "code",
      "execution_count": 91,
      "metadata": {
        "colab": {
          "base_uri": "https://localhost:8080/"
        },
        "id": "oUMoULuNgh1h",
        "outputId": "38874d44-93e4-4620-de4a-cd39d0b10097"
      },
      "outputs": [
        {
          "output_type": "stream",
          "name": "stdout",
          "text": [
            " Do good and good will come to you.Magic is believing in yourself, if you can do that, you can make anything happen.   \n"
          ]
        }
      ],
      "source": [
        "a = \"Magic is believing in yourself, if you can do that, you can make anything happen.   \"\n",
        "b = \" Do good and good will come to you.\"\n",
        "c = b+a\n",
        "print(c)"
      ]
    },
    {
      "cell_type": "markdown",
      "metadata": {
        "id": "OWSlYv7Qgh1h"
      },
      "source": [
        "To add a space between them, add a \" \":"
      ]
    },
    {
      "cell_type": "code",
      "execution_count": 92,
      "metadata": {
        "colab": {
          "base_uri": "https://localhost:8080/"
        },
        "id": "Jd47snoJgh1h",
        "outputId": "86328e00-6eaa-46d4-cc9f-b600023207b5"
      },
      "outputs": [
        {
          "output_type": "stream",
          "name": "stdout",
          "text": [
            " Do good and good will come to you. Magic is believing in yourself, if you can do that, you can make anything happen.   \n"
          ]
        }
      ],
      "source": [
        "a = \" Do good and good will come to you.\"\n",
        "b = \"Magic is believing in yourself, if you can do that, you can make anything happen.   \"\n",
        "c = a + \" \" + b\n",
        "print(c)"
      ]
    },
    {
      "cell_type": "markdown",
      "metadata": {
        "id": "hvoclDLCgh1i"
      },
      "source": [
        "# Python - Format - Strings"
      ]
    },
    {
      "cell_type": "markdown",
      "metadata": {
        "id": "MdW5IWqNgh1i"
      },
      "source": [
        "String Format\n",
        "\n",
        "As we learned in the Python Variables chapter, we cannot combine strings and numbers like this:\n",
        "\n",
        "age = 36\n",
        "\n",
        "txt = \"My name is John, I am \" + age\n",
        "\n",
        "But we can combine strings and numbers by using the format() method!\n",
        "\n",
        "The format() method takes the passed arguments, formats them, and places them in the string where the placeholders {} are:\n",
        "    \n",
        "Use the format() method to insert numbers into strings:"
      ]
    },
    {
      "cell_type": "code",
      "execution_count": 93,
      "metadata": {
        "colab": {
          "base_uri": "https://localhost:8080/"
        },
        "id": "kjnjt_Hogh1i",
        "outputId": "d941d99b-1cfb-44de-dfd1-43db1b9fdd28"
      },
      "outputs": [
        {
          "output_type": "stream",
          "name": "stdout",
          "text": [
            "My name is John, and I am 36\n"
          ]
        }
      ],
      "source": [
        "age = 36\n",
        "txt = \"My name is John, and I am {}\"\n",
        "print(txt.format(age))"
      ]
    },
    {
      "cell_type": "markdown",
      "metadata": {
        "id": "NCJkW32Lgh1i"
      },
      "source": [
        "The format() method takes unlimited number of arguments, and are placed into the respective placeholders:"
      ]
    },
    {
      "cell_type": "code",
      "execution_count": 94,
      "metadata": {
        "colab": {
          "base_uri": "https://localhost:8080/"
        },
        "id": "bU1kfzoFgh1j",
        "outputId": "4ba113e3-5cb8-4980-d654-29b0edd52829"
      },
      "outputs": [
        {
          "output_type": "stream",
          "name": "stdout",
          "text": [
            "I want 3 pieces of item 567 for 49.95 dollars.\n"
          ]
        }
      ],
      "source": [
        "quantity = 3\n",
        "itemno = 567\n",
        "price = 49.95\n",
        "myorder = \"I want {} pieces of item {} for {} dollars.\"\n",
        "print(myorder.format(quantity, itemno, price))"
      ]
    },
    {
      "cell_type": "markdown",
      "metadata": {
        "id": "RQeZjDUFgh1j"
      },
      "source": [
        "You can use index numbers {0} to be sure the arguments are placed in the correct placeholders:"
      ]
    },
    {
      "cell_type": "code",
      "execution_count": 95,
      "metadata": {
        "colab": {
          "base_uri": "https://localhost:8080/"
        },
        "id": "sQklHQVpgh1j",
        "outputId": "1358fcd2-5224-47b9-b20c-7e5e2f114dd9"
      },
      "outputs": [
        {
          "output_type": "stream",
          "name": "stdout",
          "text": [
            "I want to pay 49.95 dollars for 3 pieces of item 567.\n"
          ]
        }
      ],
      "source": [
        "quantity = 3\n",
        "itemno = 567\n",
        "price = 49.95\n",
        "myorder = \"I want to pay {2} dollars for {0} pieces of item {1}.\"\n",
        "print(myorder.format(quantity, itemno, price))"
      ]
    },
    {
      "cell_type": "markdown",
      "metadata": {
        "id": "_MhDtqUwgh1j"
      },
      "source": [
        "Exercise:\n",
        "    \n",
        "Use the len method to print the length of the string.\n",
        "\n",
        "x = \"Hello World\"\n"
      ]
    },
    {
      "cell_type": "code",
      "execution_count": 95,
      "metadata": {
        "id": "oqtxRZBqgh1k"
      },
      "outputs": [],
      "source": [
        ""
      ]
    }
  ],
  "metadata": {
    "kernelspec": {
      "display_name": "Python 3",
      "language": "python",
      "name": "python3"
    },
    "language_info": {
      "codemirror_mode": {
        "name": "ipython",
        "version": 3
      },
      "file_extension": ".py",
      "mimetype": "text/x-python",
      "name": "python",
      "nbconvert_exporter": "python",
      "pygments_lexer": "ipython3",
      "version": "3.7.1"
    },
    "colab": {
      "name": "02.Python_strings.ipynb",
      "provenance": [],
      "include_colab_link": true
    }
  },
  "nbformat": 4,
  "nbformat_minor": 0
}
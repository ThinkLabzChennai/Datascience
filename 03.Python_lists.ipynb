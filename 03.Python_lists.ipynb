{
  "cells": [
    {
      "cell_type": "markdown",
      "metadata": {
        "id": "view-in-github",
        "colab_type": "text"
      },
      "source": [
        "<a href=\"https://colab.research.google.com/github/ThinkLabzChennai/Datascience/blob/main/03.Python_lists.ipynb\" target=\"_parent\"><img src=\"https://colab.research.google.com/assets/colab-badge.svg\" alt=\"Open In Colab\"/></a>"
      ]
    },
    {
      "cell_type": "markdown",
      "metadata": {
        "id": "cqIoHSmO6-2y"
      },
      "source": [
        "# Python Lists"
      ]
    },
    {
      "cell_type": "markdown",
      "metadata": {
        "id": "PEPOnKPd6-25"
      },
      "source": [
        "# Python Collections (Arrays)\n",
        "\n",
        "There are four collection data types in the Python programming language:\n",
        "\n",
        "* List - a collection which is ordered and changeable. Allows duplicate members.\n",
        "\n",
        "* Tuple - a collection which is ordered and unchangeable. Allows duplicate members.\n",
        "\n",
        "* Set - a collection which is unordered and unindexed. No duplicate members.\n",
        "\n",
        "* Dictionary - a collection which is ordered and changeable. "
      ]
    },
    {
      "cell_type": "markdown",
      "metadata": {
        "id": "lSI5JSCq6-27"
      },
      "source": [
        "Lists are used to store multiple items in a single variable.\n",
        "\n",
        "The most versatile data type is the list, which can be written as a list of comma-separated values (items) between square brackets **[** and **]**. Lists might contain items of different types, but usually the items all have the same type. The values in a list are called elements or sometimes items. They have specific order in which we store them. This order is preserved as index. A list is mutable, which means the values in a list can be modified and new values can be easily added to the list.\n",
        "\n"
      ]
    },
    {
      "cell_type": "code",
      "execution_count": 4,
      "metadata": {
        "colab": {
          "base_uri": "https://localhost:8080/"
        },
        "id": "gK15n3Ox6-27",
        "outputId": "28d957a2-f6e5-499b-e63f-d78f55e0b32b"
      },
      "outputs": [
        {
          "output_type": "stream",
          "name": "stdout",
          "text": [
            "['Remote', '8_Batteries', 'Notepad', 'Marker', 'Bluetooth Speakers']\n"
          ]
        }
      ],
      "source": [
        "Items=[\"Remote\",\"8_Batteries\",\"Notepad\",\"Marker\",\"Bluetooth Speakers\"]\n",
        "Shop=[\"Electronic\",\"Stationary\",'123',\"art\"]\n",
        "print(Items)"
      ]
    },
    {
      "cell_type": "markdown",
      "metadata": {
        "id": "Phl2Uwp06-2-"
      },
      "source": [
        "\n",
        "1. List items are ordered (i.e the items have a defined order, and that order will not change.), changeable, and allow duplicate values.\n",
        "\n",
        "1. List items are indexed, the first item has index [0], the second item has index [1] etc.\n",
        "\n",
        "1. If we add new items to a list, the new items will be placed at the end of the list.\n",
        "\n",
        "1. The list items are changeable, meaning that we can modify or remove items in a list after it has been created.\n",
        "\n",
        "1. Allow Duplicates, Since lists are indexed, lists can have items with the same value:"
      ]
    },
    {
      "cell_type": "code",
      "execution_count": 5,
      "metadata": {
        "colab": {
          "base_uri": "https://localhost:8080/"
        },
        "id": "xP8QFt_S6-3A",
        "outputId": "c9bf1ddf-aa47-41b4-a106-43a310df83e3"
      },
      "outputs": [
        {
          "output_type": "stream",
          "name": "stdout",
          "text": [
            "['Electronic', 'Stationary', '123', 'art', 'Stationary']\n"
          ]
        }
      ],
      "source": [
        "Shop=[\"Electronic\",\"Stationary\",'123',\"art\",\"Stationary\"]\n",
        "print(Shop)\n"
      ]
    },
    {
      "cell_type": "markdown",
      "metadata": {
        "id": "M60g6CFP6-3B"
      },
      "source": [
        "To determine how many items a list has, use the len() function:"
      ]
    },
    {
      "cell_type": "code",
      "execution_count": 6,
      "metadata": {
        "colab": {
          "base_uri": "https://localhost:8080/"
        },
        "id": "QX4f6t_t6-3C",
        "outputId": "9f603387-e8b8-4b7d-d34b-c38e0c84384f"
      },
      "outputs": [
        {
          "output_type": "stream",
          "name": "stdout",
          "text": [
            "5\n"
          ]
        }
      ],
      "source": [
        "Shop=[\"Electronic\",\"Stationary\",'123',\"art\",\"Stationary\"]\n",
        "print(len(Shop))"
      ]
    },
    {
      "cell_type": "markdown",
      "metadata": {
        "id": "vEz5BPS76-3D"
      },
      "source": [
        "List Items - Data Types\n",
        "\n",
        "List items can be of any data type:\n",
        "\n",
        "String, int and boolean data types:"
      ]
    },
    {
      "cell_type": "code",
      "execution_count": 3,
      "metadata": {
        "colab": {
          "base_uri": "https://localhost:8080/"
        },
        "id": "NwFw_fr16-3D",
        "outputId": "6cac04ff-77e3-43d1-95bb-6920fccae3cb"
      },
      "outputs": [
        {
          "output_type": "stream",
          "name": "stdout",
          "text": [
            "[1, 5, 7, 9, ' 3']\n"
          ]
        }
      ],
      "source": [
        "list1 = [\"apple\", \"banana\", \"cherry\"]\n",
        "list2 = [1, 5, 7, 9,\" 3\"]\n",
        "list3 = [True, False, False]"
      ]
    },
    {
      "cell_type": "markdown",
      "metadata": {
        "id": "wPT9i81V6-3E"
      },
      "source": [
        "A list object is stored as **list** "
      ]
    },
    {
      "cell_type": "code",
      "execution_count": null,
      "metadata": {
        "id": "Ud68vNFz6-3E",
        "outputId": "7c007525-d8fa-41ac-ecfb-567965be2795"
      },
      "outputs": [
        {
          "name": "stdout",
          "output_type": "stream",
          "text": [
            "<class 'list'>\n"
          ]
        }
      ],
      "source": [
        "mylist = [\"apple\", \"banana\", \"cherry\"]\n",
        "print(type(mylist))"
      ]
    },
    {
      "cell_type": "markdown",
      "metadata": {
        "id": "V8-o3SCU6-3F"
      },
      "source": [
        "Access Items\n",
        "\n",
        "List items are indexed and you can access them by referring to the index number:\n",
        "\n",
        "Print the second item of the list:"
      ]
    },
    {
      "cell_type": "code",
      "execution_count": 7,
      "metadata": {
        "colab": {
          "base_uri": "https://localhost:8080/"
        },
        "id": "LFgyflkm6-3F",
        "outputId": "5da96632-922e-4d36-a384-ef54f34838d5"
      },
      "outputs": [
        {
          "output_type": "stream",
          "name": "stdout",
          "text": [
            "Stationary\n"
          ]
        }
      ],
      "source": [
        "Items=[\"Remote\",\"8_Batteries\",\"Notepad\",\"Marker\",\"Bluetooth Speakers\"]\n",
        "print(Items[1])"
      ]
    },
    {
      "cell_type": "markdown",
      "metadata": {
        "id": "SP5kRn9D6-3G"
      },
      "source": [
        "Change Item Value\n",
        "\n",
        "To change the value of a specific item, refer to the index number:\n",
        "    \n",
        "Change the second item:"
      ]
    },
    {
      "cell_type": "code",
      "execution_count": null,
      "metadata": {
        "id": "z-x3Dl2D6-3G",
        "outputId": "46a9e946-5044-462f-e442-2b323d867b9e"
      },
      "outputs": [
        {
          "name": "stdout",
          "output_type": "stream",
          "text": [
            "['apple', 'blackcurrant', 'cherry']\n"
          ]
        }
      ],
      "source": [
        "Items=[\"Remote\",\"8_Batteries\",\"Notepad\",\"Marker\",\"Bluetooth Speakers\"]\n",
        "Items[1] = \"blackcurrant\"\n",
        "print(thislist)"
      ]
    },
    {
      "cell_type": "markdown",
      "metadata": {
        "id": "i39GIN996-3H"
      },
      "source": [
        "Change a Range of Item Values\n",
        "\n",
        "To change the value of items within a specific range, define a list with the new values, and refer to the range of index numbers where you want to insert the new values:\n",
        "\n",
        "Change the values \"banana\" and \"cherry\" with the values \"blackcurrant\" and \"watermelon\":"
      ]
    },
    {
      "cell_type": "code",
      "execution_count": null,
      "metadata": {
        "id": "88Bq2P4R6-3H",
        "outputId": "a4fa309e-8dc9-4d34-aab5-234a5b669086"
      },
      "outputs": [
        {
          "name": "stdout",
          "output_type": "stream",
          "text": [
            "['apple', 'blackcurrant', 'watermelon', 'orange', 'kiwi', 'mango']\n"
          ]
        }
      ],
      "source": [
        "thislist = [\"apple\", \"banana\", \"cherry\", \"orange\", \"kiwi\", \"mango\"]\n",
        "thislist[1:3] = [\"blackcurrant\", \"watermelon\"]\n",
        "print(thislist)"
      ]
    },
    {
      "cell_type": "markdown",
      "metadata": {
        "id": "IvxvGjLd6-3I"
      },
      "source": [
        "Append Items\n",
        "\n",
        "To add an item to the end of the list, use the **append()** method:\n",
        "\n",
        "Using the append() method to append an item:"
      ]
    },
    {
      "cell_type": "code",
      "execution_count": null,
      "metadata": {
        "id": "w5M40xgm6-3I",
        "outputId": "33a9d94f-d8ce-4653-d831-79169329d12b"
      },
      "outputs": [
        {
          "name": "stdout",
          "output_type": "stream",
          "text": [
            "['apple', 'banana', 'cherry', 'orange']\n"
          ]
        }
      ],
      "source": [
        "thislist = [\"apple\", \"banana\", \"cherry\"]\n",
        "thislist.append(\"orange\")\n",
        "print(thislist)"
      ]
    },
    {
      "cell_type": "markdown",
      "metadata": {
        "id": "vpNlyjSg6-3J"
      },
      "source": [
        "To insert a list item at a specified index, use the insert() method.\n",
        "\n",
        "The insert() method inserts an item at the specified index:\n",
        "\n",
        "Insert an item as the second position:"
      ]
    },
    {
      "cell_type": "code",
      "execution_count": null,
      "metadata": {
        "id": "D41GEVKJ6-3J",
        "outputId": "9fdf9121-2b2b-4336-e140-39bec9c509d6"
      },
      "outputs": [
        {
          "name": "stdout",
          "output_type": "stream",
          "text": [
            "['apple', 'orange', 'banana', 'cherry']\n"
          ]
        }
      ],
      "source": [
        "thislist = [\"apple\", \"banana\", \"cherry\"]\n",
        "thislist.insert(1, \"orange\")\n",
        "print(thislist)"
      ]
    },
    {
      "cell_type": "markdown",
      "metadata": {
        "id": "OUVnoGft6-3K"
      },
      "source": [
        "Remove Specified Item\n",
        "\n",
        "The remove() method removes the specified item.\n",
        "\n",
        "Remove \"banana\":"
      ]
    },
    {
      "cell_type": "code",
      "execution_count": null,
      "metadata": {
        "id": "Z0U_CVMN6-3K",
        "outputId": "2bb6dbde-111c-44eb-8c5a-c9f03d359ddd"
      },
      "outputs": [
        {
          "name": "stdout",
          "output_type": "stream",
          "text": [
            "['apple', 'cherry']\n"
          ]
        }
      ],
      "source": [
        "thislist = [\"apple\", \"banana\", \"cherry\"]\n",
        "thislist.remove(\"banana\")\n",
        "print(thislist)"
      ]
    },
    {
      "cell_type": "markdown",
      "metadata": {
        "id": "0kN6AR5x6-3K"
      },
      "source": [
        "The del keyword can also delete the list completely.\n"
      ]
    },
    {
      "cell_type": "code",
      "execution_count": null,
      "metadata": {
        "id": "-tDog1cZ6-3K"
      },
      "outputs": [],
      "source": [
        "thislist = [\"apple\", \"banana\", \"cherry\"]\n",
        "del thislist"
      ]
    },
    {
      "cell_type": "markdown",
      "metadata": {
        "id": "TdnKQNG36-3K"
      },
      "source": [
        "# Python - Loop Lists"
      ]
    },
    {
      "cell_type": "markdown",
      "metadata": {
        "id": "dprmfGKn6-3L"
      },
      "source": [
        "Loop Through a List\n",
        "\n",
        "You can loop through the list items by using a for loop:\n",
        "\n",
        "Print all items in the list, one by one:\n",
        "\n"
      ]
    },
    {
      "cell_type": "code",
      "execution_count": null,
      "metadata": {
        "id": "N6eV5HAw6-3L",
        "outputId": "3a7d2160-4986-4207-f307-f84d58af4f11"
      },
      "outputs": [
        {
          "name": "stdout",
          "output_type": "stream",
          "text": [
            "apple\n",
            "banana\n",
            "cherry\n"
          ]
        }
      ],
      "source": [
        "thislist = [\"apple\", \"banana\", \"cherry\"]\n",
        "for x in thislist:\n",
        "  print(x)"
      ]
    },
    {
      "cell_type": "markdown",
      "metadata": {
        "id": "WbfA6WRx6-3L"
      },
      "source": [
        "Using a While Loop\n",
        "\n",
        "You can loop through the list items by using a while loop.\n",
        "\n",
        "Use the len() function to determine the length of the list, then start at 0 and loop your way through the list items by refering to their indexes.\n",
        "\n",
        "Remember to increase the index by 1 after each iteration."
      ]
    },
    {
      "cell_type": "markdown",
      "metadata": {
        "id": "aMJi5fP36-3L"
      },
      "source": [
        "Print all items, using a while loop to go through all the index numbers"
      ]
    },
    {
      "cell_type": "code",
      "execution_count": null,
      "metadata": {
        "id": "D_tRIufq6-3M",
        "outputId": "66c46f9b-5e1d-4615-8abc-874328a3e5d3"
      },
      "outputs": [
        {
          "name": "stdout",
          "output_type": "stream",
          "text": [
            "apple\n",
            "banana\n",
            "cherry\n"
          ]
        }
      ],
      "source": [
        "thislist = [\"apple\", \"banana\", \"cherry\"]\n",
        "i = 0\n",
        "while i < len(thislist):\n",
        "  print(thislist[i])\n",
        "  i = i + 1"
      ]
    },
    {
      "cell_type": "markdown",
      "metadata": {
        "id": "WeZ8UMxJ6-3M"
      },
      "source": [
        "# Python - Sort Lists"
      ]
    },
    {
      "cell_type": "markdown",
      "metadata": {
        "id": "FTOcipo06-3M"
      },
      "source": [
        "Sort List Alphanumerically\n",
        "\n",
        "List objects have a sort() method that will sort the list alphanumerically, ascending, by default:\n",
        "\n",
        "Sort the list alphabetically:"
      ]
    },
    {
      "cell_type": "code",
      "execution_count": null,
      "metadata": {
        "id": "DZwNUZ1_6-3M",
        "outputId": "7f9618fb-ed14-42f3-d5c7-f0417ef16e5f"
      },
      "outputs": [
        {
          "name": "stdout",
          "output_type": "stream",
          "text": [
            "['banana', 'kiwi', 'mango', 'orange', 'pineapple']\n"
          ]
        }
      ],
      "source": [
        "thislist = [\"orange\", \"mango\", \"kiwi\", \"pineapple\", \"banana\"]\n",
        "thislist.sort()\n",
        "print(thislist)"
      ]
    },
    {
      "cell_type": "markdown",
      "metadata": {
        "id": "nHKkn_g96-3N"
      },
      "source": [
        "To sort descending, use the keyword argument reverse = True:\n",
        "\n",
        "Sort the list descending:"
      ]
    },
    {
      "cell_type": "code",
      "execution_count": null,
      "metadata": {
        "id": "G3EaI2WF6-3N",
        "outputId": "8b7709dc-cd25-4891-b0ad-bf9a77f631fb"
      },
      "outputs": [
        {
          "name": "stdout",
          "output_type": "stream",
          "text": [
            "[100, 82, 65, 50, 23]\n"
          ]
        }
      ],
      "source": [
        "thislist = [100, 50, 65, 82, 23]\n",
        "thislist.sort(reverse = True)\n",
        "print(thislist)"
      ]
    },
    {
      "cell_type": "markdown",
      "metadata": {
        "id": "4roAii436-3N"
      },
      "source": [
        "Copy a List\n",
        "\n",
        "You cannot copy a list simply by typing list2 = list1, because: list2 will only be a reference to list1, and changes made in list1 will automatically also be made in list2.\n",
        "\n",
        "There are ways to make a copy, one way is to use the built-in List method copy().\n",
        "\n",
        "Make a copy of a list with the copy() method:"
      ]
    },
    {
      "cell_type": "code",
      "execution_count": null,
      "metadata": {
        "id": "X3Wr84JM6-3N",
        "outputId": "68fccba0-de09-4476-97f5-cb5fffb44c7a"
      },
      "outputs": [
        {
          "name": "stdout",
          "output_type": "stream",
          "text": [
            "['apple', 'banana', 'cherry']\n"
          ]
        }
      ],
      "source": [
        "thislist = [\"apple\", \"banana\", \"cherry\"]\n",
        "mylist = thislist.copy()\n",
        "print(mylist)"
      ]
    },
    {
      "cell_type": "markdown",
      "metadata": {
        "id": "lusTvJ9X6-3O"
      },
      "source": [
        "# Python - Join Lists"
      ]
    },
    {
      "cell_type": "markdown",
      "metadata": {
        "id": "rEf3OC7i6-3O"
      },
      "source": [
        "Join Two Lists\n",
        "\n",
        "There are several ways to join, or concatenate, two or more lists in Python.\n",
        "\n",
        "One of the easiest ways are by using the + operator.\n"
      ]
    },
    {
      "cell_type": "code",
      "execution_count": null,
      "metadata": {
        "id": "pWzn7KrK6-3O",
        "outputId": "a97d0ace-2820-449f-8e14-6677fcb4d1ef"
      },
      "outputs": [
        {
          "name": "stdout",
          "output_type": "stream",
          "text": [
            "['a', 'b', 'c', 1, 2, 3]\n"
          ]
        }
      ],
      "source": [
        "list1 = [\"a\", \"b\", \"c\"]\n",
        "list2 = [1, 2, 3]\n",
        "\n",
        "list3 = list1 + list2\n",
        "print(list3)"
      ]
    },
    {
      "cell_type": "code",
      "execution_count": null,
      "metadata": {
        "id": "rUP0x9QX6-3O"
      },
      "outputs": [],
      "source": [
        ""
      ]
    }
  ],
  "metadata": {
    "kernelspec": {
      "display_name": "Python 3",
      "language": "python",
      "name": "python3"
    },
    "language_info": {
      "codemirror_mode": {
        "name": "ipython",
        "version": 3
      },
      "file_extension": ".py",
      "mimetype": "text/x-python",
      "name": "python",
      "nbconvert_exporter": "python",
      "pygments_lexer": "ipython3",
      "version": "3.7.1"
    },
    "colab": {
      "name": "03.Python_lists.ipynb",
      "provenance": [],
      "include_colab_link": true
    }
  },
  "nbformat": 4,
  "nbformat_minor": 0
}
{
  "cells": [
    {
      "cell_type": "markdown",
      "metadata": {
        "id": "view-in-github",
        "colab_type": "text"
      },
      "source": [
        "<a href=\"https://colab.research.google.com/github/ThinkLabzChennai/Datascience/blob/main/03.Python_lists.ipynb\" target=\"_parent\"><img src=\"https://colab.research.google.com/assets/colab-badge.svg\" alt=\"Open In Colab\"/></a>"
      ]
    },
    {
      "cell_type": "markdown",
      "metadata": {
        "id": "cqIoHSmO6-2y"
      },
      "source": [
        "# Python Lists"
      ]
    },
    {
      "cell_type": "markdown",
      "metadata": {
        "id": "PEPOnKPd6-25"
      },
      "source": [
        "# Python Collections (Arrays)\n",
        "\n",
        "There are four collection data types in the Python programming language:\n",
        "\n",
        "* List - a collection which is ordered and changeable. Allows duplicate members.\n",
        "\n",
        "* Tuple - a collection which is ordered and unchangeable. Allows duplicate members.\n",
        "\n",
        "* Set - a collection which is unordered and unindexed. No duplicate members.\n",
        "\n",
        "* Dictionary - a collection which is ordered and changeable. "
      ]
    },
    {
      "cell_type": "markdown",
      "metadata": {
        "id": "lSI5JSCq6-27"
      },
      "source": [
        "Lists are used to store multiple items in a single variable.\n",
        "\n",
        "The most versatile data type is the list, which can be written as a list of comma-separated values (items) between square brackets **[** and **]**. Lists might contain items of different types, but usually the items all have the same type. The values in a list are called elements or sometimes items. They have specific order in which we store them. This order is preserved as index. A list is mutable, which means the values in a list can be modified and new values can be easily added to the list.\n",
        "\n"
      ]
    },
    {
      "cell_type": "code",
      "execution_count": 30,
      "metadata": {
        "colab": {
          "base_uri": "https://localhost:8080/"
        },
        "id": "gK15n3Ox6-27",
        "outputId": "d00a776c-264d-4489-fb25-1a36fe1f7771"
      },
      "outputs": [
        {
          "output_type": "stream",
          "name": "stdout",
          "text": [
            "['Remote', '8_Batteries', 'Notepad', 'Marker', 'Bluetooth Speakers']\n"
          ]
        }
      ],
      "source": [
        "Items=[\"Remote\",\"8_Batteries\",\"Notepad\",\"Marker\",\"Bluetooth Speakers\"]\n",
        "Shop=[\"Electronic\",\"Stationary\",'123',\"art\"]\n",
        "print(Items)"
      ]
    },
    {
      "cell_type": "markdown",
      "metadata": {
        "id": "Phl2Uwp06-2-"
      },
      "source": [
        "\n",
        "1. List items are ordered (i.e the items have a defined order, and that order will not change.), changeable, and allow duplicate values.\n",
        "\n",
        "1. List items are indexed, the first item has index [0], the second item has index [1] etc.\n",
        "\n",
        "1. If we add new items to a list, the new items will be placed at the end of the list.\n",
        "\n",
        "1. The list items are changeable, meaning that we can modify or remove items in a list after it has been created.\n",
        "\n",
        "1. Allow Duplicates, Since lists are indexed, lists can have items with the same value:"
      ]
    },
    {
      "cell_type": "code",
      "execution_count": 31,
      "metadata": {
        "colab": {
          "base_uri": "https://localhost:8080/"
        },
        "id": "xP8QFt_S6-3A",
        "outputId": "48618719-a725-4ec7-fa83-cd7f665ca04d"
      },
      "outputs": [
        {
          "output_type": "stream",
          "name": "stdout",
          "text": [
            "['Electronic', 'Stationary', '123', 'art', 'Stationary']\n"
          ]
        }
      ],
      "source": [
        "Shop=[\"Electronic\",\"Stationary\",'123',\"art\",\"Stationary\"]\n",
        "print(Shop)\n"
      ]
    },
    {
      "cell_type": "markdown",
      "metadata": {
        "id": "M60g6CFP6-3B"
      },
      "source": [
        "To determine how many items a list has, use the len() function:"
      ]
    },
    {
      "cell_type": "code",
      "execution_count": 32,
      "metadata": {
        "colab": {
          "base_uri": "https://localhost:8080/"
        },
        "id": "QX4f6t_t6-3C",
        "outputId": "260ef7fe-935c-4ef2-bd98-900cee88af83"
      },
      "outputs": [
        {
          "output_type": "stream",
          "name": "stdout",
          "text": [
            "5\n"
          ]
        }
      ],
      "source": [
        "Shop=[\"Electronic\",\"Stationary\",'123',\"art\",\"Stationary\"]\n",
        "print(len(Shop))"
      ]
    },
    {
      "cell_type": "markdown",
      "metadata": {
        "id": "vEz5BPS76-3D"
      },
      "source": [
        "List Items - Data Types\n",
        "\n",
        "List items can be of any data type:\n",
        "\n",
        "String, int and boolean data types:"
      ]
    },
    {
      "cell_type": "code",
      "execution_count": 33,
      "metadata": {
        "id": "NwFw_fr16-3D"
      },
      "outputs": [],
      "source": [
        "list1 = [\"apple\", \"banana\", \"cherry\"]\n",
        "list2 = [1, 5, 7, 9,\" 3\"]\n",
        "list3 = [True, False, False]"
      ]
    },
    {
      "cell_type": "markdown",
      "metadata": {
        "id": "wPT9i81V6-3E"
      },
      "source": [
        "A list object is stored as **list** "
      ]
    },
    {
      "cell_type": "code",
      "execution_count": 34,
      "metadata": {
        "id": "Ud68vNFz6-3E",
        "outputId": "ba5c7c6f-3ef2-4952-82b1-aacad97c235e",
        "colab": {
          "base_uri": "https://localhost:8080/"
        }
      },
      "outputs": [
        {
          "output_type": "stream",
          "name": "stdout",
          "text": [
            "<class 'list'>\n"
          ]
        }
      ],
      "source": [
        "mylist = [\"apple\", \"banana\", \"cherry\"]\n",
        "print(type(mylist))"
      ]
    },
    {
      "cell_type": "markdown",
      "metadata": {
        "id": "V8-o3SCU6-3F"
      },
      "source": [
        "Access Items\n",
        "\n",
        "List items are indexed and you can access them by referring to the index number:\n",
        "\n",
        "Print the second item of the list:"
      ]
    },
    {
      "cell_type": "code",
      "execution_count": 35,
      "metadata": {
        "colab": {
          "base_uri": "https://localhost:8080/"
        },
        "id": "LFgyflkm6-3F",
        "outputId": "ade8df72-24aa-426f-abfe-4386dcfb7af5"
      },
      "outputs": [
        {
          "output_type": "stream",
          "name": "stdout",
          "text": [
            "8_Batteries\n"
          ]
        }
      ],
      "source": [
        "Items=[\"Remote\",\"8_Batteries\",\"Notepad\",\"Marker\",\"Bluetooth Speakers\"]\n",
        "print(Items[1])"
      ]
    },
    {
      "cell_type": "markdown",
      "metadata": {
        "id": "SP5kRn9D6-3G"
      },
      "source": [
        "Change Item Value\n",
        "\n",
        "To change the value of a specific item, refer to the index number:\n",
        "    \n",
        "Change the second item:"
      ]
    },
    {
      "cell_type": "code",
      "execution_count": 36,
      "metadata": {
        "id": "z-x3Dl2D6-3G",
        "outputId": "fc6c9923-8f1f-494e-92d2-2090a354d2b1",
        "colab": {
          "base_uri": "https://localhost:8080/"
        }
      },
      "outputs": [
        {
          "output_type": "stream",
          "name": "stdout",
          "text": [
            "['Remote', 'blackcurrant', 'Notepad', 'Marker', 'Bluetooth Speakers']\n"
          ]
        }
      ],
      "source": [
        "Items=[\"Remote\",\"8_Batteries\",\"Notepad\",\"Marker\",\"Bluetooth Speakers\"]\n",
        "Items[1] = \"blackcurrant\"\n",
        "print(Items)"
      ]
    },
    {
      "cell_type": "markdown",
      "metadata": {
        "id": "i39GIN996-3H"
      },
      "source": [
        "Change a Range of Item Values\n",
        "\n",
        "To change the value of items within a specific range, define a list with the new values, and refer to the range of index numbers where you want to insert the new values:\n",
        "\n",
        "Change the values \"banana\" and \"cherry\" with the values \"blackcurrant\" and \"watermelon\":"
      ]
    },
    {
      "cell_type": "code",
      "execution_count": 37,
      "metadata": {
        "id": "88Bq2P4R6-3H",
        "outputId": "69923474-9f03-473e-8f63-7ec6d3b4871d",
        "colab": {
          "base_uri": "https://localhost:8080/"
        }
      },
      "outputs": [
        {
          "output_type": "stream",
          "name": "stdout",
          "text": [
            "['apple', 'blackcurrant', 'watermelon', 'orange', 'kiwi', 'mango']\n"
          ]
        }
      ],
      "source": [
        "fruits = [\"apple\", \"banana\", \"cherry\", \"orange\", \"kiwi\", \"mango\"]\n",
        "fruits[1:3] = [\"blackcurrant\", \"watermelon\"]\n",
        "print(fruits)"
      ]
    },
    {
      "cell_type": "markdown",
      "metadata": {
        "id": "IvxvGjLd6-3I"
      },
      "source": [
        "Append Items\n",
        "\n",
        "To add an item to the end of the list, use the **append()** method:\n",
        "\n",
        "Using the append() method to append an item:"
      ]
    },
    {
      "cell_type": "code",
      "execution_count": 38,
      "metadata": {
        "id": "w5M40xgm6-3I",
        "outputId": "25b29e6a-708c-4cff-9e46-56eb9b824104",
        "colab": {
          "base_uri": "https://localhost:8080/"
        }
      },
      "outputs": [
        {
          "output_type": "stream",
          "name": "stdout",
          "text": [
            "[100, 82, 65, 50, 23]\n"
          ]
        }
      ],
      "source": [
        "fruits = [\"apple\", \"banana\", \"cherry\"]\n",
        "fruits.append(\"orange\")\n",
        "print(thislist)"
      ]
    },
    {
      "cell_type": "markdown",
      "metadata": {
        "id": "vpNlyjSg6-3J"
      },
      "source": [
        "To insert a list item at a specified index, use the insert() method.\n",
        "\n",
        "The **insert()** method inserts an item at the specified index:\n",
        "\n",
        "Insert an item as the second position:"
      ]
    },
    {
      "cell_type": "code",
      "execution_count": 39,
      "metadata": {
        "id": "D41GEVKJ6-3J",
        "outputId": "830b932f-13a0-4009-f4f3-34ad4aa8d2c0",
        "colab": {
          "base_uri": "https://localhost:8080/"
        }
      },
      "outputs": [
        {
          "output_type": "stream",
          "name": "stdout",
          "text": [
            "['apple', 'orange', 'banana', 'cherry']\n"
          ]
        }
      ],
      "source": [
        "thislist = [\"apple\", \"banana\", \"cherry\"]\n",
        "thislist.insert(1, \"orange\")\n",
        "print(thislist)"
      ]
    },
    {
      "cell_type": "markdown",
      "metadata": {
        "id": "OUVnoGft6-3K"
      },
      "source": [
        "Remove Specified Item\n",
        "\n",
        "The **remove()** method removes the specified item.\n",
        "\n",
        "Remove \"banana\":"
      ]
    },
    {
      "cell_type": "code",
      "execution_count": 40,
      "metadata": {
        "id": "Z0U_CVMN6-3K",
        "outputId": "46495b86-2cf1-4602-ee68-256a63f1b00d",
        "colab": {
          "base_uri": "https://localhost:8080/"
        }
      },
      "outputs": [
        {
          "output_type": "stream",
          "name": "stdout",
          "text": [
            "['apple', 'cherry']\n"
          ]
        }
      ],
      "source": [
        "thislist = [\"apple\", \"banana\", \"cherry\"]\n",
        "thislist.remove(\"banana\")\n",
        "print(thislist)"
      ]
    },
    {
      "cell_type": "markdown",
      "metadata": {
        "id": "0kN6AR5x6-3K"
      },
      "source": [
        "The **del** keyword can also delete the list completely.\n"
      ]
    },
    {
      "cell_type": "code",
      "execution_count": 41,
      "metadata": {
        "id": "-tDog1cZ6-3K"
      },
      "outputs": [],
      "source": [
        "thislist = [\"apple\", \"banana\", \"cherry\"]\n",
        "del thislist"
      ]
    },
    {
      "cell_type": "markdown",
      "metadata": {
        "id": "TdnKQNG36-3K"
      },
      "source": [
        "# Python - Loop Lists"
      ]
    },
    {
      "cell_type": "markdown",
      "metadata": {
        "id": "dprmfGKn6-3L"
      },
      "source": [
        "Loop Through a List\n",
        "\n",
        "You can loop through the list items by using a for loop:\n",
        "\n",
        "Print all items in the list, one by one:\n",
        "\n"
      ]
    },
    {
      "cell_type": "code",
      "execution_count": 42,
      "metadata": {
        "id": "N6eV5HAw6-3L",
        "outputId": "8a590a21-1fe0-4941-8fbb-0784b611b622",
        "colab": {
          "base_uri": "https://localhost:8080/"
        }
      },
      "outputs": [
        {
          "output_type": "stream",
          "name": "stdout",
          "text": [
            "apple\n",
            "banana\n",
            "cherry\n"
          ]
        }
      ],
      "source": [
        "thislist = [\"apple\", \"banana\", \"cherry\"]\n",
        "for x in thislist:\n",
        "  print(x)"
      ]
    },
    {
      "cell_type": "markdown",
      "metadata": {
        "id": "WbfA6WRx6-3L"
      },
      "source": [
        "Using a While Loop\n",
        "\n",
        "You can loop through the list items by using a while loop.\n",
        "\n",
        "Use the len() function to determine the length of the list, then start at 0 and loop your way through the list items by refering to their indexes.\n",
        "\n",
        "Remember to increase the index by 1 after each iteration."
      ]
    },
    {
      "cell_type": "markdown",
      "metadata": {
        "id": "aMJi5fP36-3L"
      },
      "source": [
        "Print all items, using a while loop to go through all the index numbers"
      ]
    },
    {
      "cell_type": "code",
      "execution_count": 43,
      "metadata": {
        "id": "D_tRIufq6-3M",
        "outputId": "7a74b74b-590e-40db-8351-449df25f9214",
        "colab": {
          "base_uri": "https://localhost:8080/"
        }
      },
      "outputs": [
        {
          "output_type": "stream",
          "name": "stdout",
          "text": [
            "apple\n",
            "banana\n",
            "cherry\n"
          ]
        }
      ],
      "source": [
        "thislist = [\"apple\", \"banana\", \"cherry\"]\n",
        "i = 0\n",
        "while i < len(thislist):\n",
        "  print(thislist[i])\n",
        "  i = i + 1"
      ]
    },
    {
      "cell_type": "markdown",
      "metadata": {
        "id": "WeZ8UMxJ6-3M"
      },
      "source": [
        "# Python - Sort Lists"
      ]
    },
    {
      "cell_type": "markdown",
      "metadata": {
        "id": "FTOcipo06-3M"
      },
      "source": [
        "Sort List Alphanumerically\n",
        "\n",
        "List objects have a sort() method that will sort the list alphanumerically, ascending, by default:\n",
        "\n",
        "Sort the list alphabetically:"
      ]
    },
    {
      "cell_type": "code",
      "execution_count": 44,
      "metadata": {
        "id": "DZwNUZ1_6-3M",
        "outputId": "3805829a-8f6d-4b68-ccb7-25cd57128c12",
        "colab": {
          "base_uri": "https://localhost:8080/"
        }
      },
      "outputs": [
        {
          "output_type": "stream",
          "name": "stdout",
          "text": [
            "['banana', 'kiwi', 'mango', 'orange', 'pineapple']\n"
          ]
        }
      ],
      "source": [
        "thislist = [\"orange\", \"mango\", \"kiwi\", \"pineapple\", \"banana\"]\n",
        "thislist.sort()\n",
        "print(thislist)"
      ]
    },
    {
      "cell_type": "markdown",
      "metadata": {
        "id": "nHKkn_g96-3N"
      },
      "source": [
        "To sort descending, use the keyword argument reverse = True:\n",
        "\n",
        "Sort the list descending:"
      ]
    },
    {
      "cell_type": "code",
      "execution_count": 45,
      "metadata": {
        "id": "G3EaI2WF6-3N",
        "outputId": "501e1154-2f96-4cce-c105-b1bc72f7170c",
        "colab": {
          "base_uri": "https://localhost:8080/"
        }
      },
      "outputs": [
        {
          "output_type": "stream",
          "name": "stdout",
          "text": [
            "[100, 82, 65, 50, 23]\n"
          ]
        }
      ],
      "source": [
        "thislist = [100, 50, 65, 82, 23]\n",
        "thislist.sort(reverse = True)\n",
        "print(thislist)"
      ]
    },
    {
      "cell_type": "markdown",
      "metadata": {
        "id": "4roAii436-3N"
      },
      "source": [
        "Copy a List\n",
        "\n",
        "You cannot copy a list simply by typing list2 = list1, because: list2 will only be a reference to list1, and changes made in list1 will automatically also be made in list2.\n",
        "\n",
        "There are ways to make a copy, one way is to use the built-in List method copy().\n",
        "\n",
        "Make a copy of a list with the copy() method: this method creates the new list and keep it unaffected by the changes we perform in the original list except the changes in the nested list (list which is member of original list)."
      ]
    },
    {
      "cell_type": "code",
      "execution_count": 46,
      "metadata": {
        "id": "X3Wr84JM6-3N",
        "outputId": "f8a9000c-7424-4add-c6cb-25acc31f0a79",
        "colab": {
          "base_uri": "https://localhost:8080/"
        }
      },
      "outputs": [
        {
          "output_type": "stream",
          "name": "stdout",
          "text": [
            "['apple', 'banana', 'cherry', 'kiwi']\n",
            "['apple', 'banana', 'cherry']\n"
          ]
        }
      ],
      "source": [
        "fruit = [\"apple\", \"banana\", \"cherry\"]\n",
        "juice = fruit.copy()\n",
        "fruit.append(\"kiwi\")\n",
        "print(fruit)\n",
        "print(juice)"
      ]
    },
    {
      "cell_type": "markdown",
      "source": [
        "Adding new list to original one   \n",
        "We can add all the members of the new list at the end of original list using **extend()** method "
      ],
      "metadata": {
        "id": "HSHou9TyG2yQ"
      }
    },
    {
      "cell_type": "code",
      "source": [
        "marvel1=[['Dr.Strange','Ironman'],'Captain America','Spiderman','Hulk']\n",
        "marvel1.extend(Shop)\n",
        "print(marvel1)"
      ],
      "metadata": {
        "id": "lUQVtgbeHDs3",
        "outputId": "66d686ed-83c4-4eaa-f4c9-0a27a046bdd0",
        "colab": {
          "base_uri": "https://localhost:8080/"
        }
      },
      "execution_count": 47,
      "outputs": [
        {
          "output_type": "stream",
          "name": "stdout",
          "text": [
            "[['Dr.Strange', 'Ironman'], 'Captain America', 'Spiderman', 'Hulk', 'Electronic', 'Stationary', '123', 'art', 'Stationary']\n"
          ]
        }
      ]
    },
    {
      "cell_type": "markdown",
      "source": [
        "Finding Index   \n",
        "We can find position of an element in a list using index method. If the value is present more than once in the list, then first occurence position is returned."
      ],
      "metadata": {
        "id": "ZzLzqw4ZLS1C"
      }
    },
    {
      "cell_type": "code",
      "source": [
        "marvel1.index(\"Captain America\")"
      ],
      "metadata": {
        "id": "dbCXtMi2LV5w",
        "outputId": "d262745e-2014-444b-9c98-65ea67fc0ae4",
        "colab": {
          "base_uri": "https://localhost:8080/"
        }
      },
      "execution_count": 48,
      "outputs": [
        {
          "output_type": "execute_result",
          "data": {
            "text/plain": [
              "1"
            ]
          },
          "metadata": {},
          "execution_count": 48
        }
      ]
    },
    {
      "cell_type": "markdown",
      "source": [
        "Counting occurence of an element in a list   \n",
        "We can count number of times an element is present in a list using **count()** method, we need to give the element as the input for the function.\n"
      ],
      "metadata": {
        "id": "5RH4KbTRLg-o"
      }
    },
    {
      "cell_type": "code",
      "source": [
        "marvel1.count('Stationary')"
      ],
      "metadata": {
        "id": "g8TB_CJ54d_Z",
        "outputId": "5a972202-3979-40b6-fdaf-b8196977d6f4",
        "colab": {
          "base_uri": "https://localhost:8080/"
        }
      },
      "execution_count": 49,
      "outputs": [
        {
          "output_type": "execute_result",
          "data": {
            "text/plain": [
              "2"
            ]
          },
          "metadata": {},
          "execution_count": 49
        }
      ]
    },
    {
      "cell_type": "markdown",
      "source": [
        "Repeating list   \n",
        "We can repeate a list two or more number of times using * operator"
      ],
      "metadata": {
        "id": "CfelvED34oix"
      }
    },
    {
      "cell_type": "code",
      "source": [
        "marvel1*2"
      ],
      "metadata": {
        "id": "a_9xJ4eL4q9X",
        "outputId": "0531c9c4-36b1-4779-d30b-ac2784f3f8a1",
        "colab": {
          "base_uri": "https://localhost:8080/"
        }
      },
      "execution_count": 50,
      "outputs": [
        {
          "output_type": "execute_result",
          "data": {
            "text/plain": [
              "[['Dr.Strange', 'Ironman'],\n",
              " 'Captain America',\n",
              " 'Spiderman',\n",
              " 'Hulk',\n",
              " 'Electronic',\n",
              " 'Stationary',\n",
              " '123',\n",
              " 'art',\n",
              " 'Stationary',\n",
              " ['Dr.Strange', 'Ironman'],\n",
              " 'Captain America',\n",
              " 'Spiderman',\n",
              " 'Hulk',\n",
              " 'Electronic',\n",
              " 'Stationary',\n",
              " '123',\n",
              " 'art',\n",
              " 'Stationary']"
            ]
          },
          "metadata": {},
          "execution_count": 50
        }
      ]
    },
    {
      "cell_type": "markdown",
      "metadata": {
        "id": "lusTvJ9X6-3O"
      },
      "source": [
        "# Python - Join Lists"
      ]
    },
    {
      "cell_type": "markdown",
      "metadata": {
        "id": "rEf3OC7i6-3O"
      },
      "source": [
        "Join Two Lists\n",
        "\n",
        "There are several ways to join, or concatenate, two or more lists in Python.\n",
        "\n",
        "One of the easiest ways are by using the + operator.\n"
      ]
    },
    {
      "cell_type": "code",
      "execution_count": 51,
      "metadata": {
        "id": "pWzn7KrK6-3O",
        "outputId": "92a7a86f-8f5f-4995-c497-647216e1c4fb",
        "colab": {
          "base_uri": "https://localhost:8080/"
        }
      },
      "outputs": [
        {
          "output_type": "stream",
          "name": "stdout",
          "text": [
            "['a', 'b', 'c', 1, 2, 3]\n"
          ]
        }
      ],
      "source": [
        "list1 = [\"a\", \"b\", \"c\"]\n",
        "list2 = [1, 2, 3]\n",
        "\n",
        "list3 = list1 + list2\n",
        "print(list3)"
      ]
    },
    {
      "cell_type": "code",
      "execution_count": 51,
      "metadata": {
        "id": "rUP0x9QX6-3O"
      },
      "outputs": [],
      "source": [
        ""
      ]
    },
    {
      "cell_type": "markdown",
      "source": [
        "# **Range**\n",
        "we can create of sequence of numerical values. We can use it for purpose of iteration and also we can convert the variable to another type in Python. for creation we use **range(end_value)** where default start value is **0** or **range(start_value,end_value)** or **range(start_value,end_value,increment)**"
      ],
      "metadata": {
        "id": "Iec0MFJunufx"
      }
    },
    {
      "cell_type": "code",
      "source": [
        "sample_1=range(10)\n",
        "\n",
        "type(sample_1)"
      ],
      "metadata": {
        "colab": {
          "base_uri": "https://localhost:8080/"
        },
        "id": "HJOBfhNQoxvC",
        "outputId": "e5b78ea4-ed0f-4fab-a766-e62859dd51b7"
      },
      "execution_count": 52,
      "outputs": [
        {
          "output_type": "execute_result",
          "data": {
            "text/plain": [
              "range"
            ]
          },
          "metadata": {},
          "execution_count": 52
        }
      ]
    },
    {
      "cell_type": "code",
      "source": [
        "sample_2=range(1,10)\n",
        "\n",
        "type(sample_2)"
      ],
      "metadata": {
        "id": "RRcZx9IcpswP",
        "outputId": "7e4aa631-27cc-4e36-f3a5-e2c6b35ca146",
        "colab": {
          "base_uri": "https://localhost:8080/"
        }
      },
      "execution_count": 53,
      "outputs": [
        {
          "output_type": "execute_result",
          "data": {
            "text/plain": [
              "range"
            ]
          },
          "metadata": {},
          "execution_count": 53
        }
      ]
    },
    {
      "cell_type": "code",
      "source": [
        "sample_3=range(1,10,4)\n",
        "\n",
        "type(sample_3)"
      ],
      "metadata": {
        "colab": {
          "base_uri": "https://localhost:8080/"
        },
        "id": "1kCpiH_qpxB8",
        "outputId": "2bfcd582-e159-4dca-d6c8-39d6d2f115e2"
      },
      "execution_count": 54,
      "outputs": [
        {
          "output_type": "execute_result",
          "data": {
            "text/plain": [
              "range"
            ]
          },
          "metadata": {},
          "execution_count": 54
        }
      ]
    },
    {
      "cell_type": "code",
      "source": [
        ""
      ],
      "metadata": {
        "id": "rwc5QFbfD1Cm"
      },
      "execution_count": 54,
      "outputs": []
    }
  ],
  "metadata": {
    "kernelspec": {
      "display_name": "Python 3",
      "language": "python",
      "name": "python3"
    },
    "language_info": {
      "codemirror_mode": {
        "name": "ipython",
        "version": 3
      },
      "file_extension": ".py",
      "mimetype": "text/x-python",
      "name": "python",
      "nbconvert_exporter": "python",
      "pygments_lexer": "ipython3",
      "version": "3.7.1"
    },
    "colab": {
      "name": "03.Python_lists.ipynb",
      "provenance": [],
      "toc_visible": true,
      "include_colab_link": true
    }
  },
  "nbformat": 4,
  "nbformat_minor": 0
}
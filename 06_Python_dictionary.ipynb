{
  "cells": [
    {
      "cell_type": "markdown",
      "metadata": {
        "id": "view-in-github",
        "colab_type": "text"
      },
      "source": [
        "<a href=\"https://colab.research.google.com/github/ThinkLabzChennai/Datascience/blob/main/06_Python_dictionary.ipynb\" target=\"_parent\"><img src=\"https://colab.research.google.com/assets/colab-badge.svg\" alt=\"Open In Colab\"/></a>"
      ]
    },
    {
      "cell_type": "markdown",
      "metadata": {
        "id": "jOUlfwXTh3pQ"
      },
      "source": [
        "# Dictionary\n",
        "Dictionaries are sometimes found in other languages as “associative memories” or “associative arrays”. Unlike sequences, which are indexed by a range of numbers, dictionaries are indexed by keys, which can be any immutable type. It is best to think of a dictionary as a set of key: value pairs, with the requirement that the keys are unique (within one dictionary). A pair of braces creates an empty dictionary: {}. Placing a comma-separated list of key:value pairs within the braces adds initial key:value pairs to the dictionary; this is also the way dictionaries are written on output. A dictionary can contain dictionaries as elements, this is called nested dictionaries.      \n",
        "The assignment command can be any one of the folllowing methods   \n",
        " **Dictionary_name=** {**\"key1\"**:value1,**\"key2\"**:value2,**\"key3\"**:value2...} \n",
        "\n",
        "specifying key value pairs as list of tuples   \n",
        " **Dictionary_name=** dict( [ (**\"key1\"**,value1), (**\"key2\"**, value2), (**\"key3\"**, value2) ... ] ) \n",
        "\n",
        "If keys are simple strings we can use the following form   \n",
        " **Dictionary_name=** dict( **key1**=value1,**key2**= value2, **key3**=value2, ... ] ) \n"
      ]
    },
    {
      "cell_type": "markdown",
      "metadata": {
        "id": "mjfgRQlqh3pU"
      },
      "source": [
        "# Dictionary Items\n",
        "Dictionary items are ordered, changeable, and does not allow duplicates.\n",
        "\n",
        "Dictionary items are presented in key:value pairs, and can be referred to by using the key name.\n",
        "\n",
        "Print the \"brand\" value of the dictionary:"
      ]
    },
    {
      "cell_type": "code",
      "execution_count": 1,
      "metadata": {
        "id": "sexkiu-Bh3pV",
        "outputId": "36514607-f9bf-4d06-a329-44178ff78cf5",
        "colab": {
          "base_uri": "https://localhost:8080/"
        }
      },
      "outputs": [
        {
          "output_type": "stream",
          "name": "stdout",
          "text": [
            "Ford\n"
          ]
        }
      ],
      "source": [
        "thisdict = {\n",
        "  \"brand\": \"Ford\",\n",
        "  \"model\": \"Mustang\",\n",
        "  \"year\": 1964\n",
        "}\n",
        "print(thisdict[\"brand\"])"
      ]
    },
    {
      "cell_type": "markdown",
      "metadata": {
        "id": "FIrWOLskh3pX"
      },
      "source": [
        "Duplicate values will overwrite existing values:"
      ]
    },
    {
      "cell_type": "code",
      "execution_count": 2,
      "metadata": {
        "id": "asYf4lolh3pY",
        "outputId": "407b31bc-81d7-4eba-ae73-4e4cf6cc26af",
        "colab": {
          "base_uri": "https://localhost:8080/"
        }
      },
      "outputs": [
        {
          "output_type": "stream",
          "name": "stdout",
          "text": [
            "{'brand': 'Ford', 'model': 'Mustang', 'year': 2020}\n"
          ]
        }
      ],
      "source": [
        "thisdict = {\n",
        "  \"brand\": \"Ford\",\n",
        "  \"model\": \"Mustang\",\n",
        "  \"year\": 1964,\n",
        "  \"year\": 2020\n",
        "}\n",
        "print(thisdict)"
      ]
    },
    {
      "cell_type": "markdown",
      "metadata": {
        "id": "7N_53LPsh3pY"
      },
      "source": [
        "# Dictionary Items - Data Types\n",
        "The values in dictionary items can be of any data type:\n",
        "\n",
        "String, int, boolean, and list data types:"
      ]
    },
    {
      "cell_type": "code",
      "execution_count": 3,
      "metadata": {
        "id": "JSAtv1XBh3pZ"
      },
      "outputs": [],
      "source": [
        "thisdict = {\n",
        "  \"brand\": \"Ford\",\n",
        "  \"electric\": False,\n",
        "  \"year\": 1964,\n",
        "  \"colors\": [\"red\", \"white\", \"blue\"]\n",
        "}"
      ]
    },
    {
      "cell_type": "markdown",
      "metadata": {
        "id": "YZAaqCTTh3pa"
      },
      "source": [
        "# Python - Access Dictionary Items\n",
        "Accessing Items\n",
        "You can access the items of a dictionary by referring to its key name, inside square brackets  **[** and **]** or by using **get** method\n",
        "\n",
        "\n",
        "Get the value of the \"model\" key:"
      ]
    },
    {
      "cell_type": "code",
      "execution_count": 4,
      "metadata": {
        "id": "goGLm4nvh3pa",
        "outputId": "2a34d2be-77ca-456e-b289-ec01b52242c2",
        "colab": {
          "base_uri": "https://localhost:8080/"
        }
      },
      "outputs": [
        {
          "output_type": "stream",
          "name": "stdout",
          "text": [
            "Mustang\n"
          ]
        }
      ],
      "source": [
        "thisdict = {\n",
        "  \"brand\": \"Ford\",\n",
        "  \"model\": \"Mustang\",\n",
        "  \"year\": 1964\n",
        "}\n",
        "x = thisdict[\"model\"]\n",
        "print(thisdict.get(\"model\"))"
      ]
    },
    {
      "cell_type": "markdown",
      "metadata": {
        "id": "s9-oiPyDh3pb"
      },
      "source": [
        "# Python - Change Dictionary Items\n",
        "Change Values\n",
        "You can change the value of a specific item by referring to its key name:\n",
        "\n",
        "Change the \"year\" to 2018:"
      ]
    },
    {
      "cell_type": "code",
      "execution_count": 5,
      "metadata": {
        "id": "jYWCAlSih3pb"
      },
      "outputs": [],
      "source": [
        "thisdict = {\n",
        "  \"brand\": \"Ford\",\n",
        "  \"model\": \"Mustang\",\n",
        "  \"year\": 1964\n",
        "}\n",
        "thisdict[\"year\"] = 2018\n"
      ]
    },
    {
      "cell_type": "markdown",
      "metadata": {
        "id": "Y8IaYGRWh3pc"
      },
      "source": [
        "# Python - Add Dictionary Items\n",
        "Adding Items\n",
        "Adding an item to the dictionary is done by using a new index key and assigning a value to it:"
      ]
    },
    {
      "cell_type": "code",
      "execution_count": 6,
      "metadata": {
        "id": "zR_D0A5Ph3pc",
        "outputId": "21680bb0-750c-4a10-b6dd-15ce73ccee1d",
        "colab": {
          "base_uri": "https://localhost:8080/"
        }
      },
      "outputs": [
        {
          "output_type": "stream",
          "name": "stdout",
          "text": [
            "{'brand': 'Ford', 'model': 'Mustang', 'year': 1964, 'color': 'red'}\n"
          ]
        }
      ],
      "source": [
        "thisdict = {\n",
        "  \"brand\": \"Ford\",\n",
        "  \"model\": \"Mustang\",\n",
        "  \"year\": 1964\n",
        "}\n",
        "thisdict[\"color\"] = \"red\"\n",
        "print(thisdict)"
      ]
    },
    {
      "cell_type": "markdown",
      "source": [
        "# Obtaining items of Dictionary   \n",
        "**items** method can be used to obtain a view object. The view object contains the key-value pairs of the dictionary, as tuples in a list. The view object will reflect any changes done to the dictionary. We can store this output and by printing the saved variable we can notice the changes done to the dictionary"
      ],
      "metadata": {
        "id": "z-mmp3qle0hw"
      }
    },
    {
      "cell_type": "code",
      "source": [
        "my_data={'Chess':\"Vishwanathan Anand\",\n",
        "         'Cricket':\"Mahendrasingh Dhoni\",\n",
        "         'Badminton':\"P.V.Sindhu\"}\n",
        "\n",
        "my_data.items()"
      ],
      "metadata": {
        "colab": {
          "base_uri": "https://localhost:8080/"
        },
        "id": "VJ6Rd9sHeR06",
        "outputId": "01e39811-c431-46d8-91b5-dda3262ce52a"
      },
      "execution_count": 7,
      "outputs": [
        {
          "output_type": "execute_result",
          "data": {
            "text/plain": [
              "dict_items([('Chess', 'Vishwanathan Anand'), ('Cricket', 'Mahendrasingh Dhoni'), ('Badminton', 'P.V.Sindhu')])"
            ]
          },
          "metadata": {},
          "execution_count": 7
        }
      ]
    },
    {
      "cell_type": "markdown",
      "source": [
        "# Obtaining keys  \n",
        "We can use **keys** method to obtain just keys of dictionary, it returns list contains keys\n",
        "\n"
      ],
      "metadata": {
        "id": "NrxAbd7FfuD_"
      }
    },
    {
      "cell_type": "code",
      "source": [
        "my_data.keys()"
      ],
      "metadata": {
        "colab": {
          "base_uri": "https://localhost:8080/"
        },
        "id": "JOZRCe1eh438",
        "outputId": "3984eda8-01c8-46ed-9ccc-ab0aa71c9897"
      },
      "execution_count": 8,
      "outputs": [
        {
          "output_type": "execute_result",
          "data": {
            "text/plain": [
              "dict_keys(['Chess', 'Cricket', 'Badminton'])"
            ]
          },
          "metadata": {},
          "execution_count": 8
        }
      ]
    },
    {
      "cell_type": "markdown",
      "source": [
        "# Obtains values   \n",
        "Values of a dictionary can be obtained as list **values**"
      ],
      "metadata": {
        "id": "xNW6IviviBWH"
      }
    },
    {
      "cell_type": "code",
      "source": [
        "my_data.values()"
      ],
      "metadata": {
        "colab": {
          "base_uri": "https://localhost:8080/"
        },
        "id": "nzHhPfI-iEs_",
        "outputId": "e10aaceb-7c59-47c1-a3b7-e53dc4e60d14"
      },
      "execution_count": 9,
      "outputs": [
        {
          "output_type": "execute_result",
          "data": {
            "text/plain": [
              "dict_values(['Vishwanathan Anand', 'Mahendrasingh Dhoni', 'P.V.Sindhu'])"
            ]
          },
          "metadata": {},
          "execution_count": 9
        }
      ]
    },
    {
      "cell_type": "markdown",
      "source": [
        "# Removing last assigned element   \n",
        "The <font color='red'>**popitem**</font> method removes the item that was last inserted into the dictionary i.e  Last In, First Out (LIFO) order. The removed item is the return value of the popitem() method, it is returned as a tuple."
      ],
      "metadata": {
        "id": "bm3i_hTJjeVl"
      }
    },
    {
      "cell_type": "code",
      "source": [
        "my_data.popitem()"
      ],
      "metadata": {
        "colab": {
          "base_uri": "https://localhost:8080/"
        },
        "id": "uoLTASgqjdil",
        "outputId": "27b2874f-0196-465e-829c-f1be8afb3771"
      },
      "execution_count": 10,
      "outputs": [
        {
          "output_type": "execute_result",
          "data": {
            "text/plain": [
              "('Badminton', 'P.V.Sindhu')"
            ]
          },
          "metadata": {},
          "execution_count": 10
        }
      ]
    },
    {
      "cell_type": "code",
      "source": [
        "print(my_data)"
      ],
      "metadata": {
        "colab": {
          "base_uri": "https://localhost:8080/"
        },
        "id": "04f7h3Lriu0j",
        "outputId": "27f1c71e-5aba-431a-b175-de136977e250"
      },
      "execution_count": 11,
      "outputs": [
        {
          "output_type": "stream",
          "name": "stdout",
          "text": [
            "{'Chess': 'Vishwanathan Anand', 'Cricket': 'Mahendrasingh Dhoni'}\n"
          ]
        }
      ]
    },
    {
      "cell_type": "markdown",
      "metadata": {
        "id": "eIfTbQ2Wh3pd"
      },
      "source": [
        "# Python - Remove Dictionary Items\n",
        "Removing Items\n",
        "There are several methods to remove items from a dictionary:\n",
        "\n",
        "The **pop()** method removes the item with the specified key name:"
      ]
    },
    {
      "cell_type": "code",
      "execution_count": 12,
      "metadata": {
        "id": "D5Pbazudh3pd",
        "outputId": "b4aae380-b8ad-4441-dad6-8d7a8c7d2375",
        "colab": {
          "base_uri": "https://localhost:8080/"
        }
      },
      "outputs": [
        {
          "output_type": "stream",
          "name": "stdout",
          "text": [
            "{'brand': 'Ford', 'year': 1964}\n"
          ]
        }
      ],
      "source": [
        "thisdict = {\n",
        "  \"brand\": \"Ford\",\n",
        "  \"model\": \"Mustang\",\n",
        "  \"year\": 1964\n",
        "}\n",
        "thisdict.pop(\"model\")\n",
        "print(thisdict)\n"
      ]
    },
    {
      "cell_type": "markdown",
      "metadata": {
        "id": "APsxOvK6h3pe"
      },
      "source": [
        "# Python - Loop Dictionaries\n",
        "Loop Through a Dictionary\n",
        "You can loop through a dictionary by using a for loop.\n",
        "\n",
        "When looping through a dictionary, the return value are the keys of the dictionary, but there are methods to return the values as well.\n",
        "\n",
        "Print all key names in the dictionary, one by one:"
      ]
    },
    {
      "cell_type": "code",
      "execution_count": 13,
      "metadata": {
        "id": "hzFp2esXh3pe",
        "outputId": "a95ebb95-baf9-411e-850b-af679dcdad4e",
        "colab": {
          "base_uri": "https://localhost:8080/"
        }
      },
      "outputs": [
        {
          "output_type": "stream",
          "name": "stdout",
          "text": [
            "brand\n",
            "year\n"
          ]
        }
      ],
      "source": [
        "for x in thisdict:\n",
        "  print(x)"
      ]
    },
    {
      "cell_type": "markdown",
      "metadata": {
        "id": "AbOfuE7Kh3pe"
      },
      "source": [
        "You can also use the values() method to return values of a dictionary:"
      ]
    },
    {
      "cell_type": "code",
      "execution_count": 14,
      "metadata": {
        "id": "gssBgzPxh3pf",
        "outputId": "07b4e761-5892-4b8c-f3c3-af6c18b0e2d6",
        "colab": {
          "base_uri": "https://localhost:8080/"
        }
      },
      "outputs": [
        {
          "output_type": "stream",
          "name": "stdout",
          "text": [
            "Ford\n",
            "1964\n"
          ]
        }
      ],
      "source": [
        "for x in thisdict.values():\n",
        "  print(x)"
      ]
    },
    {
      "cell_type": "markdown",
      "metadata": {
        "id": "sY1QNXlVh3pf"
      },
      "source": [
        "# Python - Copy Dictionaries\n",
        "Copy a Dictionary\n",
        "You cannot copy a dictionary simply by typing dict2 = dict1, because: dict2 will only be a reference to dict1, and changes made in dict1 will automatically also be made in dict2.\n",
        "\n",
        "There are ways to make a copy, one way is to use the built-in Dictionary method copy().\n",
        "\n",
        "Make a copy of a dictionary with the copy() method:"
      ]
    },
    {
      "cell_type": "code",
      "execution_count": 15,
      "metadata": {
        "id": "C7JVyMvRh3pf",
        "outputId": "4a16c585-d45f-4de9-ff66-e56ebd4260f5",
        "colab": {
          "base_uri": "https://localhost:8080/"
        }
      },
      "outputs": [
        {
          "output_type": "stream",
          "name": "stdout",
          "text": [
            "{'brand': 'Ford', 'model': 'Mustang', 'year': 1964}\n"
          ]
        }
      ],
      "source": [
        "thisdict = {\n",
        "  \"brand\": \"Ford\",\n",
        "  \"model\": \"Mustang\",\n",
        "  \"year\": 1964\n",
        "}\n",
        "mydict = thisdict.copy()\n",
        "print(mydict)"
      ]
    },
    {
      "cell_type": "markdown",
      "metadata": {
        "id": "IGLdtYj-h3pg"
      },
      "source": [
        "# Python - Nested Dictionaries\n",
        "Nested Dictionaries\n",
        "A dictionary can contain dictionaries, this is called nested dictionaries.\n",
        "\n",
        "Create a dictionary that contain three dictionaries:"
      ]
    },
    {
      "cell_type": "code",
      "execution_count": 16,
      "metadata": {
        "id": "M4GbhyK8h3pg"
      },
      "outputs": [],
      "source": [
        "myfamily = {\n",
        "  \"child1\" : {\n",
        "    \"name\" : \"Emil\",\n",
        "    \"year\" : 2004\n",
        "  },\n",
        "  \"child2\" : {\n",
        "    \"name\" : \"Tobias\",\n",
        "    \"year\" : 2007\n",
        "  },\n",
        "  \"child3\" : {\n",
        "    \"name\" : \"Linus\",\n",
        "    \"year\" : 2011\n",
        "  }\n",
        "}"
      ]
    },
    {
      "cell_type": "code",
      "execution_count": 16,
      "metadata": {
        "id": "JhVxRT1qh3pg"
      },
      "outputs": [],
      "source": [
        ""
      ]
    }
  ],
  "metadata": {
    "kernelspec": {
      "display_name": "Python 3",
      "language": "python",
      "name": "python3"
    },
    "language_info": {
      "codemirror_mode": {
        "name": "ipython",
        "version": 3
      },
      "file_extension": ".py",
      "mimetype": "text/x-python",
      "name": "python",
      "nbconvert_exporter": "python",
      "pygments_lexer": "ipython3",
      "version": "3.7.1"
    },
    "colab": {
      "name": "06.Python_dictionary.ipynb",
      "provenance": [],
      "toc_visible": true,
      "include_colab_link": true
    }
  },
  "nbformat": 4,
  "nbformat_minor": 0
}
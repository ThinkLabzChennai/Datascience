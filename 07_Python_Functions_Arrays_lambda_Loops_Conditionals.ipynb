{
  "cells": [
    {
      "cell_type": "markdown",
      "metadata": {
        "id": "view-in-github",
        "colab_type": "text"
      },
      "source": [
        "<a href=\"https://colab.research.google.com/github/ThinkLabzChennai/Datascience/blob/main/07_Python_Functions_Arrays_lambda_Loops_Conditionals.ipynb\" target=\"_parent\"><img src=\"https://colab.research.google.com/assets/colab-badge.svg\" alt=\"Open In Colab\"/></a>"
      ]
    },
    {
      "cell_type": "markdown",
      "source": [
        "#  **Functions Loops and Control statements**\n",
        "\n",
        "This notes will recce through the concepts such as Looping, Control statements, Creation and execution of new functions in Python. These are important concepts which will aid us to guide our machine to perform desired tasks.    \n",
        "\n"
      ],
      "metadata": {
        "id": "qrV5NcbStja5"
      }
    },
    {
      "cell_type": "markdown",
      "source": [
        "#  **Indentation**\n",
        "In the written form of many languages, an indentation or indent is an empty space at the beginning of a line to signal the start of a new paragraph. In Python this indentation is very important and some tasks will only be performed if the indentation is proper.\n",
        "\n",
        "For executing single line of code, there is no need to give indent in the beginning.   \n",
        "\n",
        "There are situations like defining a function with more than one instruction or while executing the conditional iteration using loops and control statements where we will be dealing with a bunch of instructions, these can be collectively considered as blocks and one thing which helps us separate these code blocks is **indentation**. It can be 2 spaces, 3 spaces and so on but for each block indent must be same, once we are starting a code without indent the function definition or looping gets completed \n"
      ],
      "metadata": {
        "id": "V8b4tDFntrrA"
      }
    },
    {
      "cell_type": "markdown",
      "source": [
        "##  **Conditional statements and Flow control**\n",
        "Programming requires controlling the flow from one part of the program to another. Flow control occurs through the use of loops, conditional statements and branching, and stopping conditions that cause the program to stop executing one thing and execute something else or quit entirely. Conditional statements helps in specifying which blocks of code to run on which elements under different contexts.   \n",
        "\n",
        "The loops available in Python are\n",
        "\n",
        "1. for\n",
        "1. while\n",
        "\n",
        "Conditional Statements available are   \n",
        "1. if\n",
        "1. Nested if\n",
        "1. else\n",
        "1. elif\n",
        "1. Nested elif\n",
        "1. try except\n",
        "\n",
        "Control Statements available are   \n",
        "1. break\n",
        "1. continue\n",
        "1. pass"
      ],
      "metadata": {
        "id": "XBME1sLnuX7Q"
      }
    },
    {
      "cell_type": "markdown",
      "metadata": {
        "id": "b38ZEzS_tW9W"
      },
      "source": [
        "# Conditional statements\n",
        "# Python If ... Else\n",
        "Python Conditions and If statements\n",
        "Python supports the usual logical conditions from mathematics:\n",
        "\n",
        "Equals: a == b\n",
        "Not Equals: a != b\n",
        "Less than: a < b\n",
        "Less than or equal to: a <= b\n",
        "Greater than: a > b\n",
        "Greater than or equal to: a >= b\n",
        "These conditions can be used in several ways, most commonly in \"if statements\" and loops.\n",
        "\n",
        "**if** conditional statement is used to specify instruction to the machine if certain condition is satisfied, this statement will execute the instruction only when the condition is satisfied otherwise it does nothing. The statement will be of the form   \n",
        "\n",
        "**if** Condition:   \n",
        "$~~~~~$ Instruction 1   \n",
        "$~~~~~$ Instruction 2   \n",
        "$~~~~~~~~~~~~~~~\\vdots$    \n",
        "$~~~~~$ Instruction n\n",
        "   \n",
        "Next command outside if loop"
      ]
    },
    {
      "cell_type": "code",
      "execution_count": null,
      "metadata": {
        "id": "VdXyMyHXtW9b",
        "outputId": "4ee7564b-826c-40d2-af6f-f26e8c7a30bb",
        "colab": {
          "base_uri": "https://localhost:8080/"
        }
      },
      "outputs": [
        {
          "output_type": "stream",
          "name": "stdout",
          "text": [
            "b is greater than a\n"
          ]
        }
      ],
      "source": [
        "a = 33\n",
        "b = 200\n",
        "if b > a:\n",
        "  print(\"b is greater than a\")"
      ]
    },
    {
      "cell_type": "markdown",
      "source": [
        "#  **if else**\n",
        "**if** statement checks and when condition  is not met it will not do any action, instead if we wish to perform another task when condition is not met then we can use **else**conditional statement. The statement will be of the form   \n",
        "\n",
        "**if** Condition :   \n",
        "$~~~~~$ Instruction 1   \n",
        "$~~~~~$ Instruction 2   \n",
        "$~~~~~~~~~~~~~~~\\vdots$    \n",
        "$~~~~~$ Instruction n   \n",
        "**else** :   \n",
        "$~~~~~$$~~~~~$$~~~~~$Alternate instruction1   \n",
        "$~~~~~$$~~~~~$$~~~~~$Alternate instruction2\n",
        "   \n",
        "Next command outside if loop"
      ],
      "metadata": {
        "id": "wUWEKimI3Bpp"
      }
    },
    {
      "cell_type": "code",
      "source": [
        "if(500<90):\n",
        "  print(\"Condition is met\")\n",
        "else:\n",
        "  print(\"Condition is not been met\")\n"
      ],
      "metadata": {
        "colab": {
          "base_uri": "https://localhost:8080/"
        },
        "id": "lecdgEwqPGVQ",
        "outputId": "905b2bd9-9461-43c6-9d03-81498976fc13"
      },
      "execution_count": null,
      "outputs": [
        {
          "output_type": "stream",
          "name": "stdout",
          "text": [
            "Condition is not been met\n"
          ]
        }
      ]
    },
    {
      "cell_type": "markdown",
      "source": [
        "# **Nested if** \n",
        "We can write one if conditional state within another, this structure is called as Nested if. It looks like \n",
        " \n",
        "**if** Condition 1:   \n",
        "$~~~~~$ Instruction 1  \n",
        "$~~~~~$  **if** Conditon 2:  \n",
        "$~~~~~$$~~~~~$ Instruction 2   \n",
        "$~~~~~~~~~~~~~~~\\vdots$    \n",
        "$~~~~~$$~~~~~$ Instruction n\n",
        "\n",
        "Next command outside for loop\n",
        "  "
      ],
      "metadata": {
        "id": "vUaw6lL9Ifr6"
      }
    },
    {
      "cell_type": "code",
      "source": [
        "x = 41\n",
        "\n",
        "if x > 10:\n",
        "  print(\"Above ten,\")\n",
        "  if x > 20:\n",
        "    print(\"and also above 20!\")\n",
        "  else:\n",
        "    print(\"but not above 20.\")"
      ],
      "metadata": {
        "id": "Da4gdOVSvcm0"
      },
      "execution_count": null,
      "outputs": []
    },
    {
      "cell_type": "markdown",
      "source": [
        "Let us print only 4 seaters using the nested if and for statements. Observe closely in which manner jeep acts."
      ],
      "metadata": {
        "id": "OyIOzvbNPrJr"
      }
    },
    {
      "cell_type": "code",
      "source": [
        "for jeep in range(len(Cars)):\n",
        "  if len(Cars)<10:\n",
        "    if No_of_seats[jeep]==4:\n",
        "      print(Cars[jeep])"
      ],
      "metadata": {
        "colab": {
          "base_uri": "https://localhost:8080/"
        },
        "id": "iOBqNse4OmR8",
        "outputId": "d9c687e7-7ef7-43ba-dc64-e6d27d995696"
      },
      "execution_count": null,
      "outputs": [
        {
          "output_type": "stream",
          "name": "stdout",
          "text": [
            "Honda\n",
            "Maruthi\n"
          ]
        }
      ]
    },
    {
      "cell_type": "markdown",
      "metadata": {
        "id": "N_YLSI2TtW9f"
      },
      "source": [
        "# Elif\n",
        "The elif keyword is pythons way of saying \"if the previous conditions were not true, then try this condition\". Instead of just executing one alternative action than the conditional **if** statement, we can check for more conditions using **elif** conditional statement. The statement will be of the form   \n",
        "\n",
        "**if** Condition :   \n",
        "$~~~~~$ Instruction 1   \n",
        "$~~~~~$ Instruction 2   \n",
        "$~~~~~~~~~~~~~~~\\vdots$    \n",
        "$~~~~~$ Instruction n   \n",
        "**elif** Condition 2 :   \n",
        "$~~~~~$$~~~~~$Alternate instruction1   \n",
        "$~~~~~$$~~~~~$Alternate instruction2   \n",
        "**elif** Condition 3 :   \n",
        "$~~~~~$$~~~~~$Alternate instruction4   \n",
        "$~~~~~$$~~~~~$Alternate instruction5\n",
        "   \n",
        "Next command outside if loop"
      ]
    },
    {
      "cell_type": "code",
      "execution_count": null,
      "metadata": {
        "id": "lVnvty2ItW9f",
        "outputId": "d9debf3e-d422-4225-f2b6-1af63e264900",
        "colab": {
          "base_uri": "https://localhost:8080/"
        }
      },
      "outputs": [
        {
          "output_type": "stream",
          "name": "stdout",
          "text": [
            "Honda 4 Seater\n",
            "Maruthi 4 Seater\n",
            "BMW 5 Seater\n",
            "Mahindra 7 Seater\n",
            "Tata 7 Seater\n",
            "Toyota 7 Seater\n"
          ]
        }
      ],
      "source": [
        "for jeep in range(len(Cars)):\n",
        "  if len(Cars)<10:\n",
        "    if No_of_seats[jeep]==4:\n",
        "      print(Cars[jeep],\"4 Seater\")\n",
        "    elif No_of_seats[jeep]==7:\n",
        "      print(Cars[jeep],\"7 Seater\")\n",
        "    elif No_of_seats[jeep]==5:\n",
        "      print(Cars[jeep],\"5 Seater\")"
      ]
    },
    {
      "cell_type": "markdown",
      "metadata": {
        "id": "h9G5Gl92tW9g"
      },
      "source": [
        "# And\n",
        "The **and** keyword is a logical operator, and is used to combine conditional statements. This checks for the conditions and will execute the instructions only when all of the conditions are true\n",
        "\n"
      ]
    },
    {
      "cell_type": "code",
      "execution_count": null,
      "metadata": {
        "id": "hYvtAKIHtW9h",
        "outputId": "597dc53e-3efc-4cdc-fce7-7dc2794cd1ef",
        "colab": {
          "base_uri": "https://localhost:8080/"
        }
      },
      "outputs": [
        {
          "output_type": "stream",
          "name": "stdout",
          "text": [
            "Both conditions are True\n"
          ]
        }
      ],
      "source": [
        "a = 200\n",
        "b = 33\n",
        "c = 500\n",
        "if a > b and c > a:\n",
        "  print(\"Both conditions are True\")\n"
      ]
    },
    {
      "cell_type": "markdown",
      "metadata": {
        "id": "rUu7klkFtW9h"
      },
      "source": [
        "# Or\n",
        "The **or** keyword is a logical operator, and is used to combine conditional statements. This checks for the conditions and will execute the instructions when atleast one of the conditions are true\n",
        "\n",
        "Test if a is greater than b, **OR** if a is greater than c:"
      ]
    },
    {
      "cell_type": "code",
      "execution_count": null,
      "metadata": {
        "id": "RVchhPV_tW9i",
        "outputId": "c6fb32bb-2c31-486b-c366-2080b6221eda",
        "colab": {
          "base_uri": "https://localhost:8080/"
        }
      },
      "outputs": [
        {
          "output_type": "stream",
          "name": "stdout",
          "text": [
            "At least one of the conditions is True\n"
          ]
        }
      ],
      "source": [
        "a = 200\n",
        "b = 33\n",
        "c = 500\n",
        "if a > b or a > c:\n",
        "  print(\"At least one of the conditions is True\")"
      ]
    },
    {
      "cell_type": "markdown",
      "source": [
        ""
      ],
      "metadata": {
        "id": "gy6kIcji0QVE"
      }
    },
    {
      "cell_type": "markdown",
      "source": [
        "# try except\n",
        "When we are having doubt that a program might not execute due to some error for some value of the iterating variable, we can avoid executing the instructions for that value, this can be done using **try except**. The execution will look like   \n",
        "\n",
        "**try** :   \n",
        "$~~~~~$ Instruction 1   \n",
        "$~~~~~$ Instruction 2   \n",
        "$~~~~~~~~~~~~~~~\\vdots$    \n",
        "$~~~~~$ Instruction n   \n",
        "**except** :   \n",
        "$~~~~~$Alternate instruction1   \n",
        "$~~~~~$Alternate instruction2\n",
        "   \n",
        "Next command outside else\n",
        " "
      ],
      "metadata": {
        "id": "brXOxiSkeEx_"
      }
    },
    {
      "cell_type": "code",
      "source": [
        "try:\n",
        "  print(3)\n",
        "  print(\"5\"+7)\n",
        "except:\n",
        "  print(\"An exception occurred\")\n",
        "  print(5+7)"
      ],
      "metadata": {
        "colab": {
          "base_uri": "https://localhost:8080/"
        },
        "id": "1XC_cAOihCe5",
        "outputId": "1c6ee2b4-c995-4be8-9d27-c745696dd011"
      },
      "execution_count": null,
      "outputs": [
        {
          "output_type": "stream",
          "name": "stdout",
          "text": [
            "3\n",
            "An exception occurred\n",
            "12\n"
          ]
        }
      ]
    },
    {
      "cell_type": "markdown",
      "metadata": {
        "id": "HNXCNZcFtW9k"
      },
      "source": [
        "# Python While Loops\n",
        "**while** loop is used to execute the set of instructions over and over again till the condition is met. i.e For a while loop we specify a condition and if the condition is true the block of instructions will be executed again and again until the condition becomes false. It may happen sometimes that the loop executes forever. To overcome this, we can initiate a integer iterator variable and update its value within the loop so that the condition for execution becomes false and program stops at a particular time.   \n",
        "\n",
        "**while** Condition:   \n",
        "$~~~~~$ Instruction 1   \n",
        "$~~~~~$ Instruction 2   \n",
        "$~~~~~~~~~~~~~~~\\vdots$    \n",
        "$~~~~~$ Instruction n\n",
        "\n",
        "Next command outside for loop\n",
        "\n",
        "Print i as long as i is less than 6:"
      ]
    },
    {
      "cell_type": "code",
      "execution_count": null,
      "metadata": {
        "id": "4Hncf8KWtW9l",
        "outputId": "30ed1919-adba-4f86-c79f-07ef592e2f52",
        "colab": {
          "base_uri": "https://localhost:8080/"
        }
      },
      "outputs": [
        {
          "output_type": "stream",
          "name": "stdout",
          "text": [
            "1\n",
            "2\n",
            "3\n",
            "4\n",
            "5\n"
          ]
        }
      ],
      "source": [
        "i = 1\n",
        "while i < 6:\n",
        "  print(i)\n",
        "  i += 1"
      ]
    },
    {
      "cell_type": "markdown",
      "source": [
        "If you wish to know how error can occur, you can run the following program and see **Note** If the loop goes on forever, interrupt and stop the execution   \n",
        "```\n",
        "i=1         \n",
        "while 4>3:\n",
        "  print(\"iteration\",i)\n",
        "  i=i+1\n",
        "```\n"
      ],
      "metadata": {
        "id": "uS1A8qnX1E4S"
      }
    },
    {
      "cell_type": "markdown",
      "source": [
        ""
      ],
      "metadata": {
        "id": "KVv17o4RvtFD"
      }
    },
    {
      "cell_type": "markdown",
      "metadata": {
        "id": "BJm19lLptW9m"
      },
      "source": [
        "# Python For Loops\n",
        "\n",
        "**for** loop is used to execute same set of instructions for selected elements of a sequence. Every execution of the statement is called as iteration.  We can initiate a for loop using positive integers (We can use **range** function in python for this) and use them as index or we can specify iterating variable which takes corresponding value of the members of sequence for each iteration   \n",
        "The loop looks like    \n",
        "\n",
        "**for** iterator in Range / Sequence:   \n",
        "$~~~~~$ Instruction 1   \n",
        "$~~~~~$ Instruction 2   \n",
        "$~~~~~~~~~~~~~~~\\vdots$    \n",
        "$~~~~~$ Instruction n\n",
        "   \n",
        "Next command outside for loop\n",
        "\n",
        "Let us look at two examples and understand the iterators\n",
        "\n",
        "* Using the elements of list as iterators\n",
        "\n"
      ]
    },
    {
      "cell_type": "code",
      "execution_count": null,
      "metadata": {
        "id": "PqcpQXIwtW9m",
        "outputId": "91a82da2-8a85-421a-8aac-f71e101791b1",
        "colab": {
          "base_uri": "https://localhost:8080/"
        }
      },
      "outputs": [
        {
          "output_type": "stream",
          "name": "stdout",
          "text": [
            "apple\n",
            "banana\n",
            "cherry\n"
          ]
        }
      ],
      "source": [
        "fruits = [\"apple\", \"banana\", \"cherry\"]\n",
        "for x in fruits:\n",
        "  print(x)"
      ]
    },
    {
      "cell_type": "code",
      "source": [
        "Cars=['Honda','Maruthi',\"BMW\",\"Mahindra\",\"Tata\",\"Toyota\"]\n",
        "No_of_seats=[4,4,5,7,7,7]"
      ],
      "metadata": {
        "id": "ikPKkwwLxwxg"
      },
      "execution_count": null,
      "outputs": []
    },
    {
      "cell_type": "markdown",
      "source": [
        "* Using iterators as integers to access positions\n",
        "We can use the integer iterator to access elements of sequence as follows"
      ],
      "metadata": {
        "id": "P_NuuTSc15VK"
      }
    },
    {
      "cell_type": "code",
      "source": [
        "for i in range(0,len(Cars)):\n",
        "  print(\"iteration\",i+1)\n",
        "  print(Cars[i])"
      ],
      "metadata": {
        "colab": {
          "base_uri": "https://localhost:8080/"
        },
        "id": "JUiI7afM14jr",
        "outputId": "b6a9515d-84c3-4346-fbda-a02ecd014492"
      },
      "execution_count": null,
      "outputs": [
        {
          "output_type": "stream",
          "name": "stdout",
          "text": [
            "iteration 1\n",
            "Honda\n",
            "iteration 2\n",
            "Maruthi\n",
            "iteration 3\n",
            "BMW\n",
            "iteration 4\n",
            "Mahindra\n",
            "iteration 5\n",
            "Tata\n",
            "iteration 6\n",
            "Toyota\n"
          ]
        }
      ]
    },
    {
      "cell_type": "markdown",
      "metadata": {
        "id": "dtn9sLQLtW9l"
      },
      "source": [
        "# The break Statement\n",
        "With the break statement we can stop the loop even if the while condition is true. This statement is used to stop the execution and come out of any loop and conditional statement i.e if we wish to stop a while loop when some specific condition is met, we can do that using break statement"
      ]
    },
    {
      "cell_type": "code",
      "execution_count": null,
      "metadata": {
        "id": "gWZr7JYLtW9m",
        "outputId": "90bae323-59cb-4a20-9dc3-3b710318722b",
        "colab": {
          "base_uri": "https://localhost:8080/"
        }
      },
      "outputs": [
        {
          "output_type": "stream",
          "name": "stdout",
          "text": [
            "1\n",
            "2\n",
            "3\n"
          ]
        }
      ],
      "source": [
        "i = 1\n",
        "while 4 < 6:\n",
        "  print(i)\n",
        "  if i == 3:\n",
        "    break\n",
        "  i += 1"
      ]
    },
    {
      "cell_type": "code",
      "execution_count": null,
      "metadata": {
        "id": "Nmaj0LwgtW9n",
        "outputId": "48799277-8c47-497e-a91e-a7ec906cd58b",
        "colab": {
          "base_uri": "https://localhost:8080/"
        }
      },
      "outputs": [
        {
          "output_type": "stream",
          "name": "stdout",
          "text": [
            "apple\n",
            "banana\n"
          ]
        }
      ],
      "source": [
        "fruits = [\"apple\", \"banana\", \"cherry\"]\n",
        "for x in fruits:\n",
        "  print(x)\n",
        "  if x == \"banana\":\n",
        "    break"
      ]
    },
    {
      "cell_type": "markdown",
      "metadata": {
        "id": "PrM6q1BztW9o"
      },
      "source": [
        "Exit the loop when x is \"banana\", but this time the break comes before the print:"
      ]
    },
    {
      "cell_type": "code",
      "execution_count": null,
      "metadata": {
        "id": "S9MOiLU2tW9o",
        "outputId": "2d0ff9a3-1cf9-4c27-dbb1-fb1bdee63428",
        "colab": {
          "base_uri": "https://localhost:8080/"
        }
      },
      "outputs": [
        {
          "output_type": "stream",
          "name": "stdout",
          "text": [
            "apple\n"
          ]
        }
      ],
      "source": [
        "fruits = [\"apple\", \"banana\", \"cherry\"]\n",
        "for x in fruits:\n",
        "  if x == \"banana\":\n",
        "    break\n",
        "  print(x)"
      ]
    },
    {
      "cell_type": "markdown",
      "source": [
        ""
      ],
      "metadata": {
        "id": "aAYwwwic2wBJ"
      }
    },
    {
      "cell_type": "markdown",
      "source": [
        "#  **continue** \n",
        "This statement is used to stop the execution of current iteration and moves on to the next iteration of loop i.e if we wish to skip a single step of while loop when some specific condition is met, we can do that usingcontinue statement"
      ],
      "metadata": {
        "id": "ye-wPk1Tl3XY"
      }
    },
    {
      "cell_type": "code",
      "source": [
        "c_sam=[1,2,3,4,5]\n",
        "for iter in c_sam:\n",
        "  if iter==3:\n",
        "    continue\n",
        "  print(iter)\n"
      ],
      "metadata": {
        "colab": {
          "base_uri": "https://localhost:8080/"
        },
        "id": "BpCyUH7gll0E",
        "outputId": "8870ba20-8d4d-4766-a8c4-1b7a89826b53"
      },
      "execution_count": null,
      "outputs": [
        {
          "output_type": "stream",
          "name": "stdout",
          "text": [
            "1\n",
            "2\n",
            "4\n",
            "5\n"
          ]
        }
      ]
    },
    {
      "cell_type": "markdown",
      "source": [
        "#  **pass**\n",
        "The pass statement is a null statement. It is used when we wish to do nothing but there needs to be some task to be given to the compiler eg. we are checking for some condition and we're not sure which action to perform when it is true, in this scenario we can use **pass**"
      ],
      "metadata": {
        "id": "ylMSpyKeoFWY"
      }
    },
    {
      "cell_type": "code",
      "source": [
        "pt=3.3245\n",
        "if pt<3:\n",
        "  pass\n",
        "elif pt>3.1:\n",
        "  pass\n",
        "else:\n",
        "  print(\"KK\")\n",
        "if pt>3.3:\n",
        "  print(\"Greater than 3.3\")\n"
      ],
      "metadata": {
        "colab": {
          "base_uri": "https://localhost:8080/"
        },
        "id": "hoj3tDtVtQA3",
        "outputId": "63ef1361-d985-4e03-9e87-b0d181ab1502"
      },
      "execution_count": null,
      "outputs": [
        {
          "output_type": "stream",
          "name": "stdout",
          "text": [
            "Greater than 3.3\n"
          ]
        }
      ]
    },
    {
      "cell_type": "markdown",
      "metadata": {
        "id": "TbX0pwtOtg8n"
      },
      "source": [
        "# Python Functions\n",
        "\n",
        "So far we have seen some pre defined functions in Python with their usage eg. print. Using keywords, conditionals we can create a new function in Python which can do the desired task.\n",
        "\n",
        "A function is a block of code which only runs when it is called.\n",
        "\n",
        "You can pass data, known as parameters, into a function.\n",
        "\n",
        "A function can return data as a result.\n",
        "\n",
        "Creating a Function\n",
        "\n",
        " Functions are compound form of codes \n",
        "1. They are helpful for reuse of codes\n",
        "1. Used to define a general framework of a set of instructions to process when required\n",
        "\n",
        "A function has 3 attributes \n",
        "1. name \n",
        "1. input values/ parameters / arguments\n",
        "1. instructions and output value/action\n",
        "\n",
        "**def**  is the key word for function creation, follwed by name of the function\n",
        "\n",
        "We specify parameters within braces **(** and **)**\n",
        "\n",
        "Instructions are given with proper indentation for function\n",
        "\n",
        "**return()** function is used to return the output of the function   \n",
        "\n",
        "The function definition looks like\n",
        "\n",
        " The execution will look like   \n",
        "\n",
        "**def** function_name(input1) :   \n",
        "$~~~~~$ Instruction 1   \n",
        "$~~~~~$ Instruction 2   \n",
        "$~~~~~~~~~~~~~~~\\vdots$    \n",
        "$~~~~~$ Instruction n   \n",
        "$~~~~~$return(value)\n",
        "\n",
        "Next command outside function\n",
        " \n",
        "\n",
        "The function can be used as   \n",
        "\n",
        "**function_name(some input)**\n",
        " "
      ]
    },
    {
      "cell_type": "code",
      "execution_count": null,
      "metadata": {
        "id": "0bnnQDMhtg8w"
      },
      "outputs": [],
      "source": [
        "def my_function():\n",
        "  print(\"Hello from a function\")"
      ]
    },
    {
      "cell_type": "markdown",
      "metadata": {
        "id": "MF8Ahauitg8y"
      },
      "source": [
        "To call a function, use the function name followed by parenthesis:"
      ]
    },
    {
      "cell_type": "code",
      "execution_count": null,
      "metadata": {
        "id": "oii5PFkotg8z",
        "outputId": "0f748aa9-0b84-44d6-d9ab-d69f44714dfc",
        "colab": {
          "base_uri": "https://localhost:8080/"
        }
      },
      "outputs": [
        {
          "output_type": "stream",
          "name": "stdout",
          "text": [
            "Hello from a function\n"
          ]
        }
      ],
      "source": [
        "def my_function():\n",
        "  print(\"Hello from a function\")\n",
        "\n",
        "my_function()"
      ]
    },
    {
      "cell_type": "markdown",
      "metadata": {
        "id": "wJifQwIjtg81"
      },
      "source": [
        "# Arguments\n",
        "Information can be passed into functions as arguments.\n",
        "\n",
        "Arguments are specified after the function name, inside the parentheses. You can add as many arguments as you want, just separate them with a comma.\n",
        "\n",
        "The following example has a function with one argument (fname). When the function is called, we pass along a first name, which is used inside the function to print the full name:"
      ]
    },
    {
      "cell_type": "code",
      "execution_count": null,
      "metadata": {
        "id": "VuRIfj9Atg82",
        "outputId": "9d59c1d4-e990-46cc-ade7-d61725707944",
        "colab": {
          "base_uri": "https://localhost:8080/"
        }
      },
      "outputs": [
        {
          "output_type": "stream",
          "name": "stdout",
          "text": [
            "Emil Refsnes\n",
            "Tobias Refsnes\n",
            "Linus Refsnes\n"
          ]
        }
      ],
      "source": [
        "def my_function(fname):\n",
        "  print(fname + \" Refsnes\")\n",
        "\n",
        "my_function(\"Emil\")\n",
        "my_function(\"Tobias\")\n",
        "my_function(\"Linus\")"
      ]
    },
    {
      "cell_type": "markdown",
      "metadata": {
        "id": "AR60J60Gtg82"
      },
      "source": [
        "The terms parameter and argument can be used for the same thing: information that are passed into a function.\n",
        "\n",
        "From a function's perspective:\n",
        "\n",
        "A parameter is the variable listed inside the parentheses in the function definition.\n",
        "\n",
        "An argument is the value that is sent to the function when it is called.\n",
        "\n",
        "Number of Arguments\n",
        "By default, a function must be called with the correct number of arguments. Meaning that if your function expects 2 arguments, you have to call the function with 2 arguments, not more, and not less."
      ]
    },
    {
      "cell_type": "markdown",
      "metadata": {
        "id": "maS7Peoqtg84"
      },
      "source": [
        "This function expects 2 arguments, and gets 2 arguments:"
      ]
    },
    {
      "cell_type": "code",
      "execution_count": null,
      "metadata": {
        "id": "IlgbopKYtg84",
        "outputId": "938ff52a-9e0d-4d6a-d0d4-36fa45972605",
        "colab": {
          "base_uri": "https://localhost:8080/"
        }
      },
      "outputs": [
        {
          "output_type": "stream",
          "name": "stdout",
          "text": [
            "Emil Refsnes\n"
          ]
        }
      ],
      "source": [
        "def my_function(fname, lname):\n",
        "  print(fname + \" \" + lname)\n",
        "\n",
        "my_function(\"Emil\", \"Refsnes\")\n"
      ]
    },
    {
      "cell_type": "markdown",
      "metadata": {
        "id": "qr0QIvd2tg86"
      },
      "source": [
        "# Arbitrary Arguments, *args\n",
        "If you do not know how many arguments that will be passed into your function, add a * before the parameter name in the function definition.\n",
        "\n",
        "This way the function will receive a tuple of arguments, and can access the items accordingly:\n",
        "\n",
        "If the number of arguments is unknown, add a * before the parameter name:"
      ]
    },
    {
      "cell_type": "code",
      "execution_count": null,
      "metadata": {
        "id": "ZT2j1GUbtg87",
        "outputId": "0ec037ba-72db-4799-d526-4780dfeb726e",
        "colab": {
          "base_uri": "https://localhost:8080/"
        }
      },
      "outputs": [
        {
          "output_type": "stream",
          "name": "stdout",
          "text": [
            "The youngest child is Linus\n"
          ]
        }
      ],
      "source": [
        "def my_function(*kids):\n",
        "  print(\"The youngest child is \" + kids[2])\n",
        "\n",
        "my_function(\"Emil\", \"Tobias\", \"Linus\")"
      ]
    },
    {
      "cell_type": "markdown",
      "metadata": {
        "id": "JAC8TACZtg87"
      },
      "source": [
        "# Default Parameter Value\n",
        "The following example shows how to use a default parameter value.\n",
        "\n",
        "If we call the function without argument, it uses the default value:"
      ]
    },
    {
      "cell_type": "code",
      "execution_count": null,
      "metadata": {
        "id": "148zXFhctg88",
        "outputId": "dad8ab49-6d79-4017-82c3-e90820621b49",
        "colab": {
          "base_uri": "https://localhost:8080/"
        }
      },
      "outputs": [
        {
          "output_type": "stream",
          "name": "stdout",
          "text": [
            "I am from Sweden\n",
            "I am from India\n",
            "I am from Norway\n",
            "I am from Brazil\n"
          ]
        }
      ],
      "source": [
        "def my_function(country = \"Norway\"):\n",
        "  print(\"I am from \" + country)\n",
        "\n",
        "my_function(\"Sweden\")\n",
        "my_function(\"India\")\n",
        "my_function()\n",
        "my_function(\"Brazil\")"
      ]
    },
    {
      "cell_type": "markdown",
      "metadata": {
        "id": "EZi33ry4tg88"
      },
      "source": [
        "# Passing a List as an Argument\n",
        "You can send any data types of argument to a function (string, number, list, dictionary etc.), and it will be treated as the same data type inside the function.\n",
        "\n",
        "E.g. if you send a List as an argument, it will still be a List when it reaches the function:"
      ]
    },
    {
      "cell_type": "code",
      "execution_count": null,
      "metadata": {
        "id": "ZWduIwxQtg89",
        "outputId": "f37784ff-07c4-4149-e413-a3a82fc32549",
        "colab": {
          "base_uri": "https://localhost:8080/"
        }
      },
      "outputs": [
        {
          "output_type": "stream",
          "name": "stdout",
          "text": [
            "apple\n",
            "banana\n",
            "cherry\n"
          ]
        }
      ],
      "source": [
        "def my_function(food):\n",
        "  for x in food:\n",
        "    print(x)\n",
        "\n",
        "fruits = [\"apple\", \"banana\", \"cherry\"]\n",
        "\n",
        "my_function(fruits)\n"
      ]
    },
    {
      "cell_type": "markdown",
      "metadata": {
        "id": "OPxQbF2Jtg89"
      },
      "source": [
        "# Python Lambda\n",
        "A lambda function is a small anonymous function. It can take any number of arguments, but can only have one expression.\n",
        "\n",
        "Syntax\n",
        "\n",
        "**lambda arguments : expression**\n",
        "\n",
        "The expression is executed and the result is returned:\n",
        "\n",
        "Add 10 to argument a, and return the result:"
      ]
    },
    {
      "cell_type": "code",
      "execution_count": null,
      "metadata": {
        "id": "9WcZs8Xqtg8-",
        "outputId": "6c103063-a4d2-42f8-e1f0-ad86199c7ba2",
        "colab": {
          "base_uri": "https://localhost:8080/"
        }
      },
      "outputs": [
        {
          "output_type": "stream",
          "name": "stdout",
          "text": [
            "15\n"
          ]
        }
      ],
      "source": [
        "x = lambda a : a + 10\n",
        "print(x(5))"
      ]
    },
    {
      "cell_type": "markdown",
      "metadata": {
        "id": "fp5Ou64ytg8_"
      },
      "source": [
        "Lambda functions can take any number of arguments:\n",
        "\n",
        "Multiply argument a with argument b and return the result:"
      ]
    },
    {
      "cell_type": "code",
      "execution_count": null,
      "metadata": {
        "id": "Ex8ZxWwxtg8_",
        "outputId": "e7bcdbe8-93d7-4241-c7e5-3488838d6aa3",
        "colab": {
          "base_uri": "https://localhost:8080/"
        }
      },
      "outputs": [
        {
          "output_type": "stream",
          "name": "stdout",
          "text": [
            "30\n"
          ]
        }
      ],
      "source": [
        "x = lambda a, b : a * b\n",
        "print(x(5, 6))"
      ]
    },
    {
      "cell_type": "markdown",
      "metadata": {
        "id": "0gY7ahlytg9A"
      },
      "source": [
        "Summarize argument a, b, and c and return the result:"
      ]
    },
    {
      "cell_type": "code",
      "execution_count": null,
      "metadata": {
        "id": "snroDL-ntg9A",
        "outputId": "a421e2ac-ccac-4337-c144-b045e3b55f9f",
        "colab": {
          "base_uri": "https://localhost:8080/"
        }
      },
      "outputs": [
        {
          "output_type": "stream",
          "name": "stdout",
          "text": [
            "13\n"
          ]
        }
      ],
      "source": [
        "x = lambda a, b, c : a + b + c\n",
        "print(x(5, 6, 2))"
      ]
    },
    {
      "cell_type": "markdown",
      "metadata": {
        "id": "xltocg58tg9B"
      },
      "source": [
        "# Why Use Lambda Functions?\n",
        "The power of lambda is better shown when you use them as an anonymous function inside another function.\n",
        "\n",
        "Say you have a function definition that takes one argument, and that argument will be multiplied with an unknown number:"
      ]
    },
    {
      "cell_type": "code",
      "execution_count": null,
      "metadata": {
        "id": "YU48zyvRtg9B"
      },
      "outputs": [],
      "source": [
        "def myfunc(n):\n",
        "  return lambda a : a * n"
      ]
    },
    {
      "cell_type": "markdown",
      "metadata": {
        "id": "c06cSfGDtg9C"
      },
      "source": [
        "Use that function definition to make a function that always doubles the number you send in:"
      ]
    },
    {
      "cell_type": "code",
      "execution_count": null,
      "metadata": {
        "id": "3weFzFgmtg9C",
        "outputId": "4b38370a-7e84-4cbc-f009-2101ec3c475c",
        "colab": {
          "base_uri": "https://localhost:8080/"
        }
      },
      "outputs": [
        {
          "output_type": "stream",
          "name": "stdout",
          "text": [
            "22\n"
          ]
        }
      ],
      "source": [
        "def myfunc(n):\n",
        "  return lambda a : a * n\n",
        "\n",
        "mydoubler = myfunc(2)\n",
        "\n",
        "print(mydoubler(11))"
      ]
    },
    {
      "cell_type": "markdown",
      "metadata": {
        "id": "_Vq8wUgMtg9C"
      },
      "source": [
        "# Python Arrays\n",
        "Note: Python does not have built-in support for Arrays, but Python Lists can be used instead.\n",
        "\n",
        "Arrays"
      ]
    },
    {
      "cell_type": "markdown",
      "metadata": {
        "id": "6IY19pobtg9C"
      },
      "source": [
        "Arrays are used to store multiple values in one single variable:\n",
        "\n",
        "Create an array containing car names:"
      ]
    },
    {
      "cell_type": "code",
      "execution_count": null,
      "metadata": {
        "id": "AwFxH-3Ktg9D"
      },
      "outputs": [],
      "source": [
        "cars = [\"Ford\", \"Volvo\", \"BMW\"]"
      ]
    },
    {
      "cell_type": "markdown",
      "metadata": {
        "id": "7qcyJtiqtg9D"
      },
      "source": [
        "# What is an Array?\n",
        "An array is a special variable, which can hold more than one value at a time.\n",
        "\n",
        "If you have a list of items (a list of car names, for example), storing the cars in single variables could look like this:\n",
        "\n",
        "car1 = \"Ford\"\n",
        "\n",
        "car2 = \"Volvo\"\n",
        "\n",
        "car3 = \"BMW\"\n",
        "\n",
        "However, what if you want to loop through the cars and find a specific one? And what if you had not 3 cars, but 300?\n",
        "\n",
        "The solution is an array!\n",
        "\n",
        "An array can hold many values under a single name, and you can access the values by referring to an index number.\n",
        "\n",
        "Access the Elements of an Array\n",
        "\n",
        "You refer to an array element by referring to the index number.\n",
        "\n",
        "Get the value of the first array item:"
      ]
    },
    {
      "cell_type": "code",
      "execution_count": null,
      "metadata": {
        "id": "JXxzzO0Ctg9D"
      },
      "outputs": [],
      "source": [
        "x = cars[0]"
      ]
    },
    {
      "cell_type": "markdown",
      "metadata": {
        "id": "KAieQ7iutg9D"
      },
      "source": [
        "Modify the value of the first array item:"
      ]
    },
    {
      "cell_type": "code",
      "execution_count": null,
      "metadata": {
        "id": "dx32Ot2Xtg9E"
      },
      "outputs": [],
      "source": [
        "cars[0] = \"Toyota\""
      ]
    },
    {
      "cell_type": "markdown",
      "metadata": {
        "id": "rPioo5dLtg9E"
      },
      "source": [
        "The Length of an Array\n",
        "\n",
        "Use the len() method to return the length of an array (the number of elements in an array).\n",
        "\n",
        "Return the number of elements in the cars array:"
      ]
    },
    {
      "cell_type": "code",
      "execution_count": null,
      "metadata": {
        "id": "LW7kIv5Ltg9E"
      },
      "outputs": [],
      "source": [
        "x = len(cars)"
      ]
    },
    {
      "cell_type": "markdown",
      "metadata": {
        "id": "o3jEc_zitg9E"
      },
      "source": [
        "# Looping Array Elements\n",
        "\n",
        "You can use the for in loop to loop through all the elements of an array.\n",
        "\n",
        "Print each item in the cars array:"
      ]
    },
    {
      "cell_type": "code",
      "execution_count": null,
      "metadata": {
        "id": "KSah0USvtg9E",
        "outputId": "e366a267-662b-43cb-f9cd-ea281d60b61b",
        "colab": {
          "base_uri": "https://localhost:8080/"
        }
      },
      "outputs": [
        {
          "output_type": "stream",
          "name": "stdout",
          "text": [
            "Toyota\n",
            "Volvo\n",
            "BMW\n"
          ]
        }
      ],
      "source": [
        "for x in cars:\n",
        "  print(x)"
      ]
    },
    {
      "cell_type": "code",
      "execution_count": null,
      "metadata": {
        "id": "IasvvjPqtg9F"
      },
      "outputs": [],
      "source": [
        ""
      ]
    }
  ],
  "metadata": {
    "kernelspec": {
      "display_name": "Python 3",
      "language": "python",
      "name": "python3"
    },
    "language_info": {
      "codemirror_mode": {
        "name": "ipython",
        "version": 3
      },
      "file_extension": ".py",
      "mimetype": "text/x-python",
      "name": "python",
      "nbconvert_exporter": "python",
      "pygments_lexer": "ipython3",
      "version": "3.7.1"
    },
    "colab": {
      "name": "07.Python_Functions_Arrays_lambda_Loops_Conditionals.ipynb",
      "provenance": [],
      "collapsed_sections": [],
      "include_colab_link": true
    }
  },
  "nbformat": 4,
  "nbformat_minor": 0
}
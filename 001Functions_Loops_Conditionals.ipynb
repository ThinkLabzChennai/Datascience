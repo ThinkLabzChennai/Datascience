{
  "nbformat": 4,
  "nbformat_minor": 0,
  "metadata": {
    "colab": {
      "name": "Functions_Loops_Conditionals.ipynb",
      "provenance": [],
      "collapsed_sections": [],
      "toc_visible": true,
      "authorship_tag": "ABX9TyOwUAJMwO0r6tlVC02NC6u9",
      "include_colab_link": true
    },
    "kernelspec": {
      "name": "python3",
      "display_name": "Python 3"
    },
    "language_info": {
      "name": "python"
    }
  },
  "cells": [
    {
      "cell_type": "markdown",
      "metadata": {
        "id": "view-in-github",
        "colab_type": "text"
      },
      "source": [
        "<a href=\"https://colab.research.google.com/github/ThinkLabzChennai/Datascience/blob/main/001Functions_Loops_Conditionals.ipynb\" target=\"_parent\"><img src=\"https://colab.research.google.com/assets/colab-badge.svg\" alt=\"Open In Colab\"/></a>"
      ]
    },
    {
      "cell_type": "markdown",
      "source": [
        "#  <font color='green'>**Functions Loops and Control statements**</font>\n",
        "\n",
        "This notes will recce through the concepts such as Looping, Control statements, Creation and execution of new functions in Python. These are important concepts which will aid us to guide our machine to perform desired tasks.    \n",
        "\n",
        "\n",
        "\n",
        "\n"
      ],
      "metadata": {
        "id": "_VjqqRv_WgX0"
      }
    },
    {
      "cell_type": "markdown",
      "source": [
        "##  <font color='darkviolet'>**Indentation**</font> \n",
        "In the written form of many languages, an indentation or indent is an empty space at the beginning of a line to signal the start of a new paragraph. In Python this indentation is very important and some tasks will only be performed if the indentation is proper.\n",
        "\n",
        "For executing single line of code, there is no need to give indent in the beginning.   \n",
        "\n",
        "There are situations like defining a function with more than one instruction or while executing the conditional iteration using loops and control statements where we will be dealing with a bunch of instructions, these can be collectively considered as blocks and one thing which helps us separate these code blocks is **indentation**. It can be 2 spaces, 3 spaces and so on but for each block indent must be same, once we are starting a code without indent the function definition or looping gets completed \n"
      ],
      "metadata": {
        "id": "2vWwSs1GaZX2"
      }
    },
    {
      "cell_type": "markdown",
      "source": [
        "##  <font color='darkviolet'>**Conditional statements and Flow control**</font> \n",
        "Programming requires controlling the flow from one part of the program to another. Flow control occurs through the use of loops, conditional statements and branching, and stopping conditions that cause the program to stop executing one thing and execute something else or quit entirely. Conditional statements helps in specifying which blocks of code to run on which elements under different contexts.   \n",
        "\n",
        "The loops available in Python are\n",
        "\n",
        "1. for\n",
        "1. while\n",
        "\n",
        "Conditional Statements available are   \n",
        "1. if\n",
        "1. Nested if\n",
        "1. else\n",
        "1. elif\n",
        "1. Nested elif\n",
        "1. try except\n",
        "\n",
        "Control Statements available are   \n",
        "1. break\n",
        "1. continue\n",
        "1. pass\n",
        "\n",
        "Let us go through the methods one by one. For Understanding purpose lets create an example data\n",
        "\n",
        "\n",
        "\n",
        "\n"
      ],
      "metadata": {
        "id": "8g0tuM4DdPQU"
      }
    },
    {
      "cell_type": "code",
      "source": [
        "Cars=['Honda','Maruthi',\"BMW\",\"Mahindra\",\"Tata\",\"Toyota\"]\n",
        "No_of_seats=[4,4,5,7,7,7]"
      ],
      "metadata": {
        "id": "EeS6_cs7vikd"
      },
      "execution_count": null,
      "outputs": []
    },
    {
      "cell_type": "markdown",
      "source": [
        "### Loops"
      ],
      "metadata": {
        "id": "IOmzSiYwc5-n"
      }
    },
    {
      "cell_type": "markdown",
      "source": [
        "\n",
        "####  <font color='brown'>**for**</font> \n",
        "<font color='red'>**for**</font> loop is used to execute same set of instructions for selected elements of a sequence. Every execution of the statement is called as iteration.  We can initiate a for loop using positive integers (We can use **range** function in python for this) and use them as index or we can specify iterating variable which takes corresponding value of the members of sequence for each iteration   \n",
        "The loop looks like    \n",
        "<font color='indigo'>\n",
        "**for** iterator in Range / Sequence:   \n",
        "$~~~~~$ Instruction 1   \n",
        "$~~~~~$ Instruction 2   \n",
        "$~~~~~~~~~~~~~~~\\vdots$    \n",
        "$~~~~~$ Instruction n\n",
        " </font>    \n",
        "Next command outside for loop\n",
        "\n",
        "Let us look at two examples and understand the iterators\n",
        "\n",
        "1. Using integers as iterators"
      ],
      "metadata": {
        "id": "jGGWJv1YwKXS"
      }
    },
    {
      "cell_type": "code",
      "source": [
        "for wheel in range(0,len(Cars)):\n",
        "  print(wheel)"
      ],
      "metadata": {
        "colab": {
          "base_uri": "https://localhost:8080/"
        },
        "id": "AGKD_aADySB7",
        "outputId": "9a7c090b-c25f-4fe9-934c-d4caf6be35a1"
      },
      "execution_count": null,
      "outputs": [
        {
          "output_type": "stream",
          "name": "stdout",
          "text": [
            "0\n",
            "1\n",
            "2\n",
            "3\n",
            "4\n",
            "5\n"
          ]
        }
      ]
    },
    {
      "cell_type": "markdown",
      "source": [
        "We can use the integer iterator to access elements of sequence as follows"
      ],
      "metadata": {
        "id": "P_NuuTSc15VK"
      }
    },
    {
      "cell_type": "code",
      "source": [
        "for i in range(0,len(Cars)):\n",
        "  print(\"iteration\",i+1)\n",
        "  print(Cars[i])"
      ],
      "metadata": {
        "colab": {
          "base_uri": "https://localhost:8080/"
        },
        "id": "JUiI7afM14jr",
        "outputId": "203be26f-09ab-4084-8024-5b919f0fc583"
      },
      "execution_count": null,
      "outputs": [
        {
          "output_type": "stream",
          "name": "stdout",
          "text": [
            "iteration 1\n",
            "Honda\n",
            "iteration 2\n",
            "Maruthi\n",
            "iteration 3\n",
            "BMW\n",
            "iteration 4\n",
            "Mahindra\n",
            "iteration 5\n",
            "Tata\n",
            "iteration 6\n",
            "Toyota\n"
          ]
        }
      ]
    },
    {
      "cell_type": "markdown",
      "source": [
        "2. Initiating iterators which takes values of sequence\n"
      ],
      "metadata": {
        "id": "9_4s0Q5u3Hj6"
      }
    },
    {
      "cell_type": "code",
      "source": [
        "for door in Cars:\n",
        "  print(door)\n",
        "\n",
        "print(\"This Statement is outside loop\")"
      ],
      "metadata": {
        "colab": {
          "base_uri": "https://localhost:8080/"
        },
        "id": "3DUF5vMg3VMK",
        "outputId": "e6f7c566-b985-4ef1-caf9-6537ceabf30c"
      },
      "execution_count": null,
      "outputs": [
        {
          "output_type": "stream",
          "name": "stdout",
          "text": [
            "Honda\n",
            "Maruthi\n",
            "BMW\n",
            "Mahindra\n",
            "Tata\n",
            "Toyota\n",
            "This Statement is outside loop\n"
          ]
        }
      ]
    },
    {
      "cell_type": "markdown",
      "source": [
        "####  <font color='brown'>**while**</font> \n",
        "<font color='red'>**while**</font> loop is used to execute the set of instructions over and over again till the condition is met. i.e For a while loop we specify a condition and if the condition is true the block of instructions will be executed again and again until the condition becomes false. It may happen sometimes that the loop executes forever. To overcome this, we can initiate a integer iterator variable and update its value within the loop so that the condition for execution becomes false and program stops at a particular time.   \n",
        "<font color='indigo'>\n",
        "**while** Condition:   \n",
        "$~~~~~$ Instruction 1   \n",
        "$~~~~~$ Instruction 2   \n",
        "$~~~~~~~~~~~~~~~\\vdots$    \n",
        "$~~~~~$ Instruction n\n",
        " </font>    \n",
        "Next command outside for loop"
      ],
      "metadata": {
        "id": "jSS6JVMv9T0z"
      }
    },
    {
      "cell_type": "code",
      "source": [
        "i=0\n",
        "while i<4:\n",
        "  print(Cars[i])\n",
        "  i=i+1\n"
      ],
      "metadata": {
        "colab": {
          "base_uri": "https://localhost:8080/"
        },
        "id": "WinACnGa-pk8",
        "outputId": "c039db2d-7094-40de-c0ed-c51440623808"
      },
      "execution_count": null,
      "outputs": [
        {
          "output_type": "stream",
          "name": "stdout",
          "text": [
            "Honda\n",
            "Maruthi\n",
            "BMW\n",
            "Mahindra\n"
          ]
        }
      ]
    },
    {
      "cell_type": "markdown",
      "source": [
        "If you wish to know how error can occur, you can run the following program and see <font color='maroon'>**Note**</font> If the loop goes on forever, interrupt and stop the execution   \n",
        "```\n",
        "i=1         \n",
        "while 4>3:\n",
        "  print(\"iteration\",i)\n",
        "  i=i+1\n",
        "```\n",
        "\n",
        "\n"
      ],
      "metadata": {
        "id": "OmL-9kiu_wLj"
      }
    },
    {
      "cell_type": "markdown",
      "source": [
        "### Conditional statements"
      ],
      "metadata": {
        "id": "HD6yo-Qbc-b2"
      }
    },
    {
      "cell_type": "markdown",
      "source": [
        "####  <font color='brown'>**if**</font> \n",
        "<font color='red'>**if**</font> conditional statement is used to specify instruction to the machine if certain condition is satisfied, this statement will execute the instruction only when the condition is satisfied otherwise it does nothing. The statement will be of the form   \n",
        "<font color='indigo'>\n",
        "**if** Condition:   \n",
        "$~~~~~$ Instruction 1   \n",
        "$~~~~~$ Instruction 2   \n",
        "$~~~~~~~~~~~~~~~\\vdots$    \n",
        "$~~~~~$ Instruction n\n",
        "   \n",
        "Next command outside if loop\n",
        " </font> "
      ],
      "metadata": {
        "id": "06b_eARyFNe0"
      }
    },
    {
      "cell_type": "code",
      "source": [
        "if(5<7):\n",
        "  print(\"Condition is satisfied\")"
      ],
      "metadata": {
        "colab": {
          "base_uri": "https://localhost:8080/"
        },
        "id": "Ubbtux90IQCr",
        "outputId": "08f75b72-6b03-45ff-d06c-9b8aba54fad1"
      },
      "execution_count": null,
      "outputs": [
        {
          "output_type": "stream",
          "name": "stdout",
          "text": [
            "Condition is satisfied\n"
          ]
        }
      ]
    },
    {
      "cell_type": "code",
      "source": [
        "if(99<7):\n",
        "  print(\"Condition is satisfied\")"
      ],
      "metadata": {
        "id": "IgtiE1P_GJK0"
      },
      "execution_count": null,
      "outputs": []
    },
    {
      "cell_type": "markdown",
      "source": [
        "####  <font color='brown'>**Nested if**</font> \n",
        "We can write one if conditional state within another, this structure is called as Nested if. It looks like \n",
        "<font color='indigo'>\n",
        "**if** Condition 1:   \n",
        "$~~~~~$ Instruction 1  \n",
        "$~~~~~$  **if** Conditon 2:  \n",
        "$~~~~~$$~~~~~$ Instruction 2   \n",
        "$~~~~~~~~~~~~~~~\\vdots$    \n",
        "$~~~~~$$~~~~~$ Instruction n\n",
        "\n",
        "Next command outside for loop\n",
        " </font>    "
      ],
      "metadata": {
        "id": "vUaw6lL9Ifr6"
      }
    },
    {
      "cell_type": "markdown",
      "source": [
        "Let us print only 4 seaters using the nested if and for statements. Observe closely in which manner jeep acts."
      ],
      "metadata": {
        "id": "OyIOzvbNPrJr"
      }
    },
    {
      "cell_type": "code",
      "source": [
        "for jeep in range(len(Cars)):\n",
        "  if len(Cars)<10:\n",
        "    if No_of_seats[jeep]==4:\n",
        "      print(Cars[jeep])"
      ],
      "metadata": {
        "colab": {
          "base_uri": "https://localhost:8080/"
        },
        "id": "iOBqNse4OmR8",
        "outputId": "ee1efd63-4290-40e6-b1e7-6c3247c8541b"
      },
      "execution_count": null,
      "outputs": [
        {
          "output_type": "stream",
          "name": "stdout",
          "text": [
            "Honda\n",
            "Maruthi\n"
          ]
        }
      ]
    },
    {
      "cell_type": "markdown",
      "source": [
        "####  <font color='brown'>**if else**</font> \n",
        "<font color='red'>**if**</font> statement checks and when condition  is not met it will not do any action, instead if we wish to perform another task when condition is not met then we can use <font color='red'>**else**</font> conditional statement. The statement will be of the form   \n",
        "<font color='indigo'>\n",
        "**if** Condition :   \n",
        "$~~~~~$ Instruction 1   \n",
        "$~~~~~$ Instruction 2   \n",
        "$~~~~~~~~~~~~~~~\\vdots$    \n",
        "$~~~~~$ Instruction n   \n",
        "**else** :   \n",
        "$~~~~~$$~~~~~$$~~~~~$Alternate instruction1   \n",
        "$~~~~~$$~~~~~$$~~~~~$Alternate instruction2\n",
        "   \n",
        "Next command outside if loop\n",
        " </font> "
      ],
      "metadata": {
        "id": "w7R4IJ6OQCxS"
      }
    },
    {
      "cell_type": "code",
      "source": [
        "if(500<90):\n",
        "  print(\"Condition is met\")\n",
        "else:\n",
        "  print(\"Condition is not been met\")\n"
      ],
      "metadata": {
        "colab": {
          "base_uri": "https://localhost:8080/"
        },
        "id": "lecdgEwqPGVQ",
        "outputId": "905b2bd9-9461-43c6-9d03-81498976fc13"
      },
      "execution_count": null,
      "outputs": [
        {
          "output_type": "stream",
          "name": "stdout",
          "text": [
            "Condition is not been met\n"
          ]
        }
      ]
    },
    {
      "cell_type": "markdown",
      "source": [
        "####  <font color='brown'>**elif**</font> \n",
        "Instead of just executing one alternative action than the conditional <font color='red'>**if**</font> statement, we can check for more conditions using <font color='red'>**elif**</font> conditional statement. The statement will be of the form   \n",
        "<font color='indigo'>\n",
        "**if** Condition :   \n",
        "$~~~~~$ Instruction 1   \n",
        "$~~~~~$ Instruction 2   \n",
        "$~~~~~~~~~~~~~~~\\vdots$    \n",
        "$~~~~~$ Instruction n   \n",
        "**elif** Condition 2 :   \n",
        "$~~~~~$$~~~~~$Alternate instruction1   \n",
        "$~~~~~$$~~~~~$Alternate instruction2   \n",
        "**elif** Condition 3 :   \n",
        "$~~~~~$$~~~~~$Alternate instruction4   \n",
        "$~~~~~$$~~~~~$Alternate instruction5\n",
        "   \n",
        "Next command outside if loop\n",
        " </font> "
      ],
      "metadata": {
        "id": "NT9YTosoVAO_"
      }
    },
    {
      "cell_type": "code",
      "source": [
        "for jeep in range(len(Cars)):\n",
        "  if len(Cars)<10:\n",
        "    if No_of_seats[jeep]==4:\n",
        "      print(Cars[jeep],\"4 Seater\")\n",
        "    elif No_of_seats[jeep]==7:\n",
        "      print(Cars[jeep],\"7 Seater\")\n",
        "    elif No_of_seats[jeep]==5:\n",
        "      print(Cars[jeep],\"5 Seater\")"
      ],
      "metadata": {
        "colab": {
          "base_uri": "https://localhost:8080/"
        },
        "id": "0MGpm92qSG9h",
        "outputId": "07bed94c-aa89-42e3-de27-02375cccfaf0"
      },
      "execution_count": null,
      "outputs": [
        {
          "output_type": "stream",
          "name": "stdout",
          "text": [
            "Honda 4 Seater\n",
            "Maruthi 4 Seater\n",
            "BMW 5 Seater\n",
            "Mahindra 7 Seater\n",
            "Tata 7 Seater\n",
            "Toyota 7 Seater\n"
          ]
        }
      ]
    },
    {
      "cell_type": "markdown",
      "source": [
        "####  <font color='brown'>**try except**</font> \n",
        "When we are having doubt that a program might not execute due to some error for some value of the iterating variable, we can avoid executing the instructions for that value, this can be done using <font color='red'>**try except**</font>. The execution will look like   \n",
        "<font color='indigo'>\n",
        "**try** :   \n",
        "$~~~~~$ Instruction 1   \n",
        "$~~~~~$ Instruction 2   \n",
        "$~~~~~~~~~~~~~~~\\vdots$    \n",
        "$~~~~~$ Instruction n   \n",
        "**except** :   \n",
        "$~~~~~$Alternate instruction1   \n",
        "$~~~~~$Alternate instruction2\n",
        "   \n",
        "Next command outside else\n",
        " </font>\n"
      ],
      "metadata": {
        "id": "brXOxiSkeEx_"
      }
    },
    {
      "cell_type": "code",
      "source": [
        "try:\n",
        "  print(3)\n",
        "  print(\"5\"+7)\n",
        "except:\n",
        "  print(\"An exception occurred\")\n",
        "  print(5+7)"
      ],
      "metadata": {
        "colab": {
          "base_uri": "https://localhost:8080/"
        },
        "id": "1XC_cAOihCe5",
        "outputId": "1c6ee2b4-c995-4be8-9d27-c745696dd011"
      },
      "execution_count": null,
      "outputs": [
        {
          "output_type": "stream",
          "name": "stdout",
          "text": [
            "3\n",
            "An exception occurred\n",
            "12\n"
          ]
        }
      ]
    },
    {
      "cell_type": "markdown",
      "source": [
        "### Control statements\n",
        "When we wish to control the machine while executing a loop or conditional statement we can use Control statements, there are 3 control statements and let us see them one by one"
      ],
      "metadata": {
        "id": "4-M9u7TSXB8r"
      }
    },
    {
      "cell_type": "markdown",
      "source": [
        "####  <font color='brown'>**break**</font> \n",
        "This statement is used to stop the execution and come out of any loop and conditional statement i.e if we wish to stop a while loop when some specific condition is met, we can do that using <font color=red>break</font> statement"
      ],
      "metadata": {
        "id": "FtDG4dMYdKBH"
      }
    },
    {
      "cell_type": "code",
      "source": [
        "x=\"Hello\"\n",
        "while len(x)>4:\n",
        "  print(x)\n",
        "  x=x+\"1\"\n",
        "  if len(x)>=7:\n",
        "    break\n",
        "\n",
        "print(\"Outside loop\")\n"
      ],
      "metadata": {
        "colab": {
          "base_uri": "https://localhost:8080/"
        },
        "id": "ZUqJgwMSlOte",
        "outputId": "5039132c-79b7-4d0a-8d9b-bf7bd046017f"
      },
      "execution_count": null,
      "outputs": [
        {
          "output_type": "stream",
          "name": "stdout",
          "text": [
            "Hello\n",
            "Hello1\n",
            "Outside loop\n"
          ]
        }
      ]
    },
    {
      "cell_type": "markdown",
      "source": [
        "####  <font color='brown'>**continue**</font> \n",
        "This statement is used to stop the execution of current iteration and moves on to the next iteration of loop i.e if we wish to skip a single step of while loop when some specific condition is met, we can do that using <font color=red>continue</font> statement"
      ],
      "metadata": {
        "id": "ye-wPk1Tl3XY"
      }
    },
    {
      "cell_type": "code",
      "source": [
        "c_sam=[1,2,3,4,5]\n",
        "for iter in c_sam:\n",
        "  if iter==3:\n",
        "    continue\n",
        "  print(iter)\n"
      ],
      "metadata": {
        "colab": {
          "base_uri": "https://localhost:8080/"
        },
        "id": "BpCyUH7gll0E",
        "outputId": "8870ba20-8d4d-4766-a8c4-1b7a89826b53"
      },
      "execution_count": null,
      "outputs": [
        {
          "output_type": "stream",
          "name": "stdout",
          "text": [
            "1\n",
            "2\n",
            "4\n",
            "5\n"
          ]
        }
      ]
    },
    {
      "cell_type": "markdown",
      "source": [
        "####  <font color='brown'>**pass**</font> \n",
        "The pass statement is a null statement. It is used when we wish to do nothing but there needs to be some task to be given to the compiler eg. we are checking for some condition and we're not sure which action to perform when it is true, in this scenario we can use <font color='red'>**pass**</font> . "
      ],
      "metadata": {
        "id": "ylMSpyKeoFWY"
      }
    },
    {
      "cell_type": "code",
      "source": [
        "pt=3.3245\n",
        "if pt<3:\n",
        "  pass\n",
        "elif pt>3.1:\n",
        "  pass\n",
        "else:\n",
        "  print(\"KK\")\n",
        "if pt>3.3:\n",
        "  print(\"Greater than 3.3\")\n"
      ],
      "metadata": {
        "colab": {
          "base_uri": "https://localhost:8080/"
        },
        "id": "hoj3tDtVtQA3",
        "outputId": "63ef1361-d985-4e03-9e87-b0d181ab1502"
      },
      "execution_count": null,
      "outputs": [
        {
          "output_type": "stream",
          "name": "stdout",
          "text": [
            "Greater than 3.3\n"
          ]
        }
      ]
    },
    {
      "cell_type": "markdown",
      "source": [
        "##  <font color='darkviolet'>**Functions**</font> \n",
        "So far we have seen some pre defined functions in Python with their usage eg. print. Using keywords, conditionals we can create a new function in Python which can do the desired task.\n",
        "\n",
        "1. Functions are compound form of codes \n",
        "1. They are helpful for reuse of codes\n",
        "1. Used to define a general framework of a set of instructions to process when required\n",
        "\n",
        "A function has 3 attributes \n",
        "1. name \n",
        "1. input values/ parameters\n",
        "1. instructions and output value/action\n",
        "\n",
        "<font color='green'>**def**</font>  is the key word for function creation, follwed by name of the function\n",
        "\n",
        "We specify parameters within braces <font color='green'>**(**</font> and <font color='green'>**)**</font>\n",
        "\n",
        "Instructions are given with proper indentation for function\n",
        "\n",
        "<font color='red'>**return()**</font> function is used to return the output of the function   \n",
        "\n",
        "The function definition looks like\n",
        "\n",
        " The execution will look like   \n",
        "<font color='indigo'>\n",
        "**def** function_name(input1) :   \n",
        "$~~~~~$ Instruction 1   \n",
        "$~~~~~$ Instruction 2   \n",
        "$~~~~~~~~~~~~~~~\\vdots$    \n",
        "$~~~~~$ Instruction n   \n",
        "$~~~~~$return(value)\n",
        "\n",
        "Next command outside function\n",
        " </font>\n",
        "\n",
        "The function can be used as   \n",
        "<font color='indigo'>\n",
        "function_name(some input)\n",
        "  </font>\n",
        "\n",
        "Let us create our first function in Python\n"
      ],
      "metadata": {
        "id": "YThkjZi3wox4"
      }
    },
    {
      "cell_type": "code",
      "source": [
        "def multiplication_tab(num,times):\n",
        "  print('The multiplication table of ',num,\"from 1 to\",times)\n",
        "  for n in range(1,times+1):\n",
        "    print(num,\"x\",n,\"=\",num*n)\n",
        "multiplication_tab(500,5)"
      ],
      "metadata": {
        "colab": {
          "base_uri": "https://localhost:8080/"
        },
        "id": "mDYX2cd1Nslu",
        "outputId": "faf89354-7b32-4358-c20e-c448436206a5"
      },
      "execution_count": null,
      "outputs": [
        {
          "output_type": "stream",
          "name": "stdout",
          "text": [
            "The multiplication table of  500 from 1 to 5\n",
            "500 x 1 = 500\n",
            "500 x 2 = 1000\n",
            "500 x 3 = 1500\n",
            "500 x 4 = 2000\n",
            "500 x 5 = 2500\n"
          ]
        }
      ]
    },
    {
      "cell_type": "code",
      "source": [
        "#Finding arithmetic mean of a list of numbers\n",
        "d=[1,2,3,4,5]\n",
        "def am(n):\n",
        "  m=sum(n)/len(n)\n",
        "  return m\n",
        "am(d)"
      ],
      "metadata": {
        "colab": {
          "base_uri": "https://localhost:8080/"
        },
        "id": "UfJyFiXQRXua",
        "outputId": "e6ca145c-fdc6-47a9-d4c4-6b6dea2260e1"
      },
      "execution_count": null,
      "outputs": [
        {
          "output_type": "execute_result",
          "data": {
            "text/plain": [
              "3.0"
            ]
          },
          "metadata": {},
          "execution_count": 25
        }
      ]
    },
    {
      "cell_type": "markdown",
      "source": [
        "#  <font color='green'>**Final note**</font>\n",
        "In this notes we have attempted to learn about Conditional statements and how to control the flow of the program, for this we have discussed loops, conditional statement and control statements. Finally we have looked at how to create a function and execute it."
      ],
      "metadata": {
        "id": "ZGpwmBXDRV5M"
      }
    }
  ]
}
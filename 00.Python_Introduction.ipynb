{
  "cells": [
    {
      "cell_type": "markdown",
      "metadata": {
        "id": "view-in-github",
        "colab_type": "text"
      },
      "source": [
        "<a href=\"https://colab.research.google.com/github/ThinkLabzChennai/Datascience/blob/main/00.Python_Introduction.ipynb\" target=\"_parent\"><img src=\"https://colab.research.google.com/assets/colab-badge.svg\" alt=\"Open In Colab\"/></a>"
      ]
    },
    {
      "cell_type": "markdown",
      "source": [
        "\n",
        "![python.jpg](data:image/jpeg;base64,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)"
      ],
      "metadata": {
        "id": "JDrp3IvCgIjW"
      }
    },
    {
      "cell_type": "markdown",
      "metadata": {
        "id": "T4Uw9rVQgFDv"
      },
      "source": [
        "# What is Python?"
      ]
    },
    {
      "cell_type": "markdown",
      "metadata": {
        "id": "r2zq7i2WgFD1"
      },
      "source": [
        "Python is a popular programming language. It was created by Guido van Rossum, and released in 1991 at Centrum Wiskunde & Informatica (CWI) in the Netherlands as a successor to the ABC programming language. the name of the Python programming language comes from an old BBC television comedy sketch series called **Monty Python’s Flying Circus**. Python is an interpreted high-level general-purpose programming language. \n",
        "\n",
        "Programs written in a high-level language have to be processed before they can run. This extra processing takes some time.  \n",
        "\n",
        " An interpreter is a computer program that directly executes instructions written in a programming or scripting language, without requiring them previously to have been compiled into a machine language program.   \n",
        "It is used for:\n",
        "* web development (server-side)\n",
        "* software development\n",
        "* mathematics\n",
        "* system scripting\n",
        "\n"
      ]
    },
    {
      "cell_type": "markdown",
      "source": [
        "**Goals of Python**   \n",
        "In 1999, Guido van Rossum defined his goals for Python:\n",
        "\n",
        "* An easy and intuitive language just as powerful as those of the major competitors;\n",
        "* Open source, so anyone can contribute to its development;\n",
        "* Code that is as understandable as plain English;\n",
        "* Suitable for everyday tasks, allowing for short development times."
      ],
      "metadata": {
        "id": "BTpimOT3lBh4"
      }
    },
    {
      "cell_type": "markdown",
      "metadata": {
        "id": "-82P0ahpgFD2"
      },
      "source": [
        "The most recent major version of Python is Python  3.10.0\n",
        "However, Python 2, although not being updated with anything other than security updates, is still quite popular."
      ]
    },
    {
      "cell_type": "markdown",
      "metadata": {
        "id": "AG4cq0C8gFD3"
      },
      "source": [
        "# Python Variables"
      ]
    },
    {
      "cell_type": "markdown",
      "metadata": {
        "id": "Tpc7XV3BgFD3"
      },
      "source": [
        "Variables are containers for storing data values i.e A variable is a name which refers to the location of particular information on the Computer. Every variable holds a value, which is the information associated with that variable.   \n",
        "\n",
        "An assignment statement is used to assign a particular value to a variable. Let us assign a variable and diplay its value using **print(variable / value)** function.\n",
        "Python has no command for declaring a variable.\n",
        "A variable is created the moment you first assign a value to it."
      ]
    },
    {
      "cell_type": "code",
      "execution_count": 38,
      "metadata": {
        "id": "ZYJ_1Dj9gFD4",
        "outputId": "73003620-0d1e-4610-c029-c19afcaf946f",
        "colab": {
          "base_uri": "https://localhost:8080/"
        }
      },
      "outputs": [
        {
          "output_type": "stream",
          "name": "stdout",
          "text": [
            "5\n",
            "John\n"
          ]
        }
      ],
      "source": [
        "x = 5\n",
        "y = \"John\"\n",
        "print(x)\n",
        "print(y)"
      ]
    },
    {
      "cell_type": "markdown",
      "metadata": {
        "id": "Gi-_dlkzgFD6"
      },
      "source": [
        "Variables do not need to be declared with any particular type, and can even change type after they have been set."
      ]
    },
    {
      "cell_type": "code",
      "execution_count": 39,
      "metadata": {
        "id": "fQPWuYaIgFD6",
        "outputId": "6548cb6d-78e4-4e4e-abe3-424cd8713707",
        "colab": {
          "base_uri": "https://localhost:8080/"
        }
      },
      "outputs": [
        {
          "output_type": "stream",
          "name": "stdout",
          "text": [
            "Sally\n"
          ]
        }
      ],
      "source": [
        "x = 4       # x is of type int\n",
        "x = \"Sally\" # x is now of type str\n",
        "print(x)\n"
      ]
    },
    {
      "cell_type": "markdown",
      "metadata": {
        "id": "OYhdRjwugFD7"
      },
      "source": [
        "# Casting"
      ]
    },
    {
      "cell_type": "markdown",
      "metadata": {
        "id": "mFcfpVZBgFD8"
      },
      "source": [
        "If you want to specify the data type of a variable, this can be done with casting."
      ]
    },
    {
      "cell_type": "code",
      "execution_count": 40,
      "metadata": {
        "id": "wk2rud7OgFD8"
      },
      "outputs": [],
      "source": [
        "x = str(3)    # x will be '3'\n",
        "y = int(3)    # y will be 3\n",
        "z = float(3)  # z will be 3.0"
      ]
    },
    {
      "cell_type": "markdown",
      "metadata": {
        "id": "1jezdKpMgFD9"
      },
      "source": [
        "Get the Type\n",
        "You can get the data type of a variable with the type() function."
      ]
    },
    {
      "cell_type": "code",
      "execution_count": 41,
      "metadata": {
        "id": "ONDuwvkqgFD9",
        "outputId": "aa108994-c952-428a-e436-c4b2189e3816",
        "colab": {
          "base_uri": "https://localhost:8080/"
        }
      },
      "outputs": [
        {
          "output_type": "stream",
          "name": "stdout",
          "text": [
            "<class 'int'>\n",
            "<class 'str'>\n"
          ]
        }
      ],
      "source": [
        "x = 5\n",
        "y = \"John\"\n",
        "print(type(x))\n",
        "print(type(y))"
      ]
    },
    {
      "cell_type": "markdown",
      "metadata": {
        "id": "v4326IESgFD-"
      },
      "source": [
        "String variables can be declared either by using single or double quotes:"
      ]
    },
    {
      "cell_type": "markdown",
      "metadata": {
        "id": "sylJJLEFgFD-"
      },
      "source": [
        "x = \"John\"\n",
        "is the same as\n",
        "x = 'John'"
      ]
    },
    {
      "cell_type": "markdown",
      "metadata": {
        "id": "B8h6qSqLgFD-"
      },
      "source": [
        "Variable names are case-sensitive."
      ]
    },
    {
      "cell_type": "markdown",
      "metadata": {
        "id": "8jVaikqMgFD_"
      },
      "source": [
        "This will create two variables:\n",
        "\n",
        "\n",
        "a = 4\n",
        "A = \"Sally\"\n",
        "A will not overwrite a"
      ]
    },
    {
      "cell_type": "markdown",
      "metadata": {
        "id": "V76kSWfJgFD_"
      },
      "source": [
        "# Python - Variable Names"
      ]
    },
    {
      "cell_type": "markdown",
      "metadata": {
        "id": "slJoeCedgFEA"
      },
      "source": [
        "A variable can have a short name (like x and y) or a more descriptive name (age, carname, total_volume).\n",
        "Rules for Python variables:\n",
        "    \n",
        "A variable name must start with a letter or the underscore character\n",
        "A variable name cannot start with a number\n",
        "A variable name can only contain alpha-numeric characters and underscores (A-z, 0-9, and _ )\n",
        "Variable names are case-sensitive (age, Age and AGE are three different variables)"
      ]
    },
    {
      "cell_type": "markdown",
      "metadata": {
        "id": "cqltwRHkgFEA"
      },
      "source": [
        "# Legal variable names:"
      ]
    },
    {
      "cell_type": "markdown",
      "metadata": {
        "id": "GVP5MvdIgFEB"
      },
      "source": [
        "myvar = \"John\"\n",
        "my_var = \"John\"\n",
        "_my_var = \"John\"\n",
        "myVar = \"John\"\n",
        "MYVAR = \"John\"\n",
        "myvar2 = \"John\""
      ]
    },
    {
      "cell_type": "markdown",
      "metadata": {
        "id": "86qYPU57gFEB"
      },
      "source": [
        "# Illegal variable names:\n",
        "```\n",
        "2myvar = \"John\"\n",
        "my-var = \"John\"\n",
        "my var = \"John\"\n",
        "```\n"
      ]
    },
    {
      "cell_type": "markdown",
      "metadata": {
        "id": "DuzCvIm0gFEC"
      },
      "source": [
        "# Python Variables - Assign Multiple Values"
      ]
    },
    {
      "cell_type": "markdown",
      "metadata": {
        "id": "ei1J7N1TgFEC"
      },
      "source": [
        "Python allows you to assign values to multiple variables in one line:"
      ]
    },
    {
      "cell_type": "code",
      "execution_count": 42,
      "metadata": {
        "id": "37CWaa1BgFEC",
        "outputId": "4d3ed82b-b1d0-4ebe-d2c4-4592245b2801",
        "colab": {
          "base_uri": "https://localhost:8080/"
        }
      },
      "outputs": [
        {
          "output_type": "stream",
          "name": "stdout",
          "text": [
            "Orange\n",
            "Banana\n",
            "Cherry\n"
          ]
        }
      ],
      "source": [
        "x, y, z = \"Orange\", \"Banana\", \"Cherry\"\n",
        "print(x)\n",
        "print(y)\n",
        "print(z)"
      ]
    },
    {
      "cell_type": "markdown",
      "metadata": {
        "id": "tIZORJwQgFED"
      },
      "source": [
        "One Value to Multiple Variables\n",
        "\n",
        "And you can assign the same value to multiple variables in one line:"
      ]
    },
    {
      "cell_type": "code",
      "execution_count": 43,
      "metadata": {
        "id": "_XP8vfKdgFED",
        "outputId": "7afa4cd5-667f-4e8b-8c1d-77fad32c69aa",
        "colab": {
          "base_uri": "https://localhost:8080/"
        }
      },
      "outputs": [
        {
          "output_type": "stream",
          "name": "stdout",
          "text": [
            "Orange\n",
            "Orange\n",
            "Orange\n"
          ]
        }
      ],
      "source": [
        "x = y = z = \"Orange\"\n",
        "print(x)\n",
        "print(y)\n",
        "print(z)"
      ]
    },
    {
      "cell_type": "markdown",
      "metadata": {
        "id": "qkCO95J3gFEE"
      },
      "source": [
        "# Python - Output Variables"
      ]
    },
    {
      "cell_type": "markdown",
      "metadata": {
        "id": "tOfsITNmgFEE"
      },
      "source": [
        "The Python print statement is often used to output variables.\n",
        "\n",
        "To combine both text and a variable, Python uses the + character:"
      ]
    },
    {
      "cell_type": "code",
      "execution_count": 44,
      "metadata": {
        "id": "26_ZzP0ygFEE",
        "outputId": "ea423ca5-23fa-4e30-b5c8-d4cd90d8bc79",
        "colab": {
          "base_uri": "https://localhost:8080/"
        }
      },
      "outputs": [
        {
          "output_type": "stream",
          "name": "stdout",
          "text": [
            "Python is awesome\n"
          ]
        }
      ],
      "source": [
        "x = \"awesome\"\n",
        "print(\"Python is \" + x)"
      ]
    },
    {
      "cell_type": "markdown",
      "metadata": {
        "id": "KiAtW9IHgFEE"
      },
      "source": [
        "You can also use the + character to add a variable to another variable.\n",
        "\n",
        "For numbers, the + character works as a mathematical operator.\n",
        "    \n",
        "If you try to combine a string and a number, Python will give you an error."
      ]
    },
    {
      "cell_type": "code",
      "execution_count": 45,
      "metadata": {
        "id": "1Qi8iKhTgFEE",
        "outputId": "4049361b-ed5d-4064-a6c6-2886b8984acd",
        "colab": {
          "base_uri": "https://localhost:8080/"
        }
      },
      "outputs": [
        {
          "output_type": "stream",
          "name": "stdout",
          "text": [
            "Python is awesome\n"
          ]
        }
      ],
      "source": [
        "x = \"Python is \"\n",
        "y = \"awesome\"\n",
        "z =  x + y\n",
        "print(z)"
      ]
    },
    {
      "cell_type": "markdown",
      "metadata": {
        "id": "NkIyLSm0gFEF"
      },
      "source": [
        "# Python - Global Variables"
      ]
    },
    {
      "cell_type": "markdown",
      "metadata": {
        "id": "1DRluxuegFEF"
      },
      "source": [
        "Variables that are created outside of a function (as in all of the examples above) are known as global variables.\n",
        "\n",
        "Global variables can be used by everyone, both inside of functions and outside.\n",
        "\n",
        "Create a variable outside of a function, and use it inside the function"
      ]
    },
    {
      "cell_type": "code",
      "execution_count": 46,
      "metadata": {
        "id": "bHWzxThsgFEF",
        "outputId": "d33d4a5c-52bf-4c6f-f2f3-7219126c36bf",
        "colab": {
          "base_uri": "https://localhost:8080/"
        }
      },
      "outputs": [
        {
          "output_type": "stream",
          "name": "stdout",
          "text": [
            "Python is awesome\n"
          ]
        }
      ],
      "source": [
        "x = \"awesome\"\n",
        "\n",
        "def myfunc():\n",
        "  print(\"Python is \" + x)\n",
        "\n",
        "myfunc()"
      ]
    },
    {
      "cell_type": "markdown",
      "metadata": {
        "id": "ih3r_RefgFEG"
      },
      "source": [
        "If you create a variable with the same name inside a function, this variable will be local, and can only be used inside the function. \n",
        "The global variable with the same name will remain as it was, global and with the original value.\n",
        "\n",
        "Create a variable inside a function, with the same name as the global variable"
      ]
    },
    {
      "cell_type": "code",
      "execution_count": 47,
      "metadata": {
        "id": "oPk6RR6PgFEG",
        "outputId": "4ad18210-25cb-481c-f8fc-b819b0429af7",
        "colab": {
          "base_uri": "https://localhost:8080/"
        }
      },
      "outputs": [
        {
          "output_type": "stream",
          "name": "stdout",
          "text": [
            "Python is fantastic\n",
            "Python is awesome\n"
          ]
        }
      ],
      "source": [
        "x = \"awesome\"\n",
        "\n",
        "def myfunc():\n",
        "  x = \"fantastic\"\n",
        "  print(\"Python is \" + x)\n",
        "\n",
        "myfunc()\n",
        "\n",
        "print(\"Python is \" + x)"
      ]
    },
    {
      "cell_type": "markdown",
      "metadata": {
        "id": "auaTtyYKgFEH"
      },
      "source": [
        "The global Keyword\n",
        "\n",
        "Normally, when you create a variable inside a function, that variable is local, and can only be used inside that function.\n",
        "\n",
        "To create a global variable inside a function, you can use the global keyword.\n",
        "\n",
        "If you use the global keyword, the variable belongs to the global scope:"
      ]
    },
    {
      "cell_type": "code",
      "execution_count": 48,
      "metadata": {
        "id": "65LtAF51gFEH",
        "outputId": "4cea6d17-f305-4bf8-a928-1319c96d50c9",
        "colab": {
          "base_uri": "https://localhost:8080/"
        }
      },
      "outputs": [
        {
          "output_type": "stream",
          "name": "stdout",
          "text": [
            "Python is fantastic\n"
          ]
        }
      ],
      "source": [
        "def myfunc():\n",
        "  global x\n",
        "  x = \"fantastic\"\n",
        "\n",
        "myfunc()\n",
        "\n",
        "print(\"Python is \" + x)"
      ]
    },
    {
      "cell_type": "markdown",
      "metadata": {
        "id": "62-4SERKgFEH"
      },
      "source": [
        "Also, use the global keyword if you want to change a global variable inside a function.\n",
        "\n",
        "To change the value of a global variable inside a function, refer to the variable by using the global keyword:\n"
      ]
    },
    {
      "cell_type": "code",
      "execution_count": 49,
      "metadata": {
        "id": "5ham2UEVgFEI",
        "outputId": "2678d1ee-a3c2-4b0e-8931-e4be1999b9b9",
        "colab": {
          "base_uri": "https://localhost:8080/"
        }
      },
      "outputs": [
        {
          "output_type": "stream",
          "name": "stdout",
          "text": [
            "Python is fantastic\n"
          ]
        }
      ],
      "source": [
        "x = \"awesome\"\n",
        "\n",
        "def myfunc():\n",
        "  global x\n",
        "  x = \"fantastic\"\n",
        "\n",
        "myfunc()\n",
        "\n",
        "print(\"Python is \" + x)"
      ]
    },
    {
      "cell_type": "markdown",
      "source": [
        "## **Operators**\n",
        "Operators are special symbols that represent computations like addition and multiplication. The values for which the operator is applied to are called operands.Using some numerical variables a,b and c let us look at the operators one by one.\n"
      ],
      "metadata": {
        "id": "TiDk00Db-bKO"
      }
    },
    {
      "cell_type": "markdown",
      "source": [
        "### Arithmetic Operators"
      ],
      "metadata": {
        "id": "sxIuaiJTCuje"
      }
    },
    {
      "cell_type": "markdown",
      "source": [
        "**Addition**   \n",
        "For adding 2 or more numbers we can use the  $~ + ~$  operator. example $a+b+c$\n"
      ],
      "metadata": {
        "id": "gxz8alqF39eD"
      }
    },
    {
      "cell_type": "code",
      "source": [
        "# Example\n",
        "55321 + 2654 + 455.32"
      ],
      "metadata": {
        "colab": {
          "base_uri": "https://localhost:8080/"
        },
        "id": "BVY1YFzU4TBd",
        "outputId": "65f838d1-3c5e-4d5b-f307-65251c4813d2"
      },
      "execution_count": 50,
      "outputs": [
        {
          "output_type": "execute_result",
          "data": {
            "text/plain": [
              "58430.32"
            ]
          },
          "metadata": {},
          "execution_count": 50
        }
      ]
    },
    {
      "cell_type": "markdown",
      "source": [
        "**Subtraction**   \n",
        "One number can be subtracted from another number using $~-~$ operator. example $a-c$\n"
      ],
      "metadata": {
        "id": "gPmG9Mhw4ekD"
      }
    },
    {
      "cell_type": "code",
      "source": [
        "5 - 990.24"
      ],
      "metadata": {
        "colab": {
          "base_uri": "https://localhost:8080/"
        },
        "id": "_nwwidJJ57e9",
        "outputId": "3f437991-0bc4-45cd-9539-e85ff588ff2f"
      },
      "execution_count": 51,
      "outputs": [
        {
          "output_type": "execute_result",
          "data": {
            "text/plain": [
              "-985.24"
            ]
          },
          "metadata": {},
          "execution_count": 51
        }
      ]
    },
    {
      "cell_type": "markdown",
      "source": [
        "**Multiplication**   \n",
        "Two or more numbers can be multiplied using $~*~$ operator. example $a*c*b$"
      ],
      "metadata": {
        "id": "SDMeoERR6PUr"
      }
    },
    {
      "cell_type": "code",
      "source": [
        "5 * 88 * 9098271822113597"
      ],
      "metadata": {
        "colab": {
          "base_uri": "https://localhost:8080/"
        },
        "id": "6PlcFeiO6txW",
        "outputId": "d4efcb65-1477-4a33-cfa4-b62e15e0c634"
      },
      "execution_count": 52,
      "outputs": [
        {
          "output_type": "execute_result",
          "data": {
            "text/plain": [
              "4003239601729982680"
            ]
          },
          "metadata": {},
          "execution_count": 52
        }
      ]
    },
    {
      "cell_type": "markdown",
      "source": [
        "**Exponentiation**     \n",
        "$a * * n$   \n",
        "$n^{th}$ power of a number can be obtained using $~**~$ operator. Let us see an example below. "
      ],
      "metadata": {
        "id": "6gGtd7zy6_B2"
      }
    },
    {
      "cell_type": "code",
      "source": [
        "# Finding 3 to the power 2 \n",
        "3**2"
      ],
      "metadata": {
        "colab": {
          "base_uri": "https://localhost:8080/"
        },
        "id": "Qm_w9zT47lj9",
        "outputId": "2df74a76-efc8-4f43-cef1-cb7239ceae15"
      },
      "execution_count": 53,
      "outputs": [
        {
          "output_type": "execute_result",
          "data": {
            "text/plain": [
              "9"
            ]
          },
          "metadata": {},
          "execution_count": 53
        }
      ]
    },
    {
      "cell_type": "markdown",
      "source": [
        "**Division**   \n",
        "$a/b$   \n",
        "We can divide one number by another using $~/~$ operator. example "
      ],
      "metadata": {
        "id": "HfSNzaSA77ak"
      }
    },
    {
      "cell_type": "code",
      "source": [
        "10570/10\n"
      ],
      "metadata": {
        "colab": {
          "base_uri": "https://localhost:8080/"
        },
        "id": "hjxNyXV58kt9",
        "outputId": "9f1849d8-31e6-4aa1-9bc0-033e5803176c"
      },
      "execution_count": 54,
      "outputs": [
        {
          "output_type": "execute_result",
          "data": {
            "text/plain": [
              "1057.0"
            ]
          },
          "metadata": {},
          "execution_count": 54
        }
      ]
    },
    {
      "cell_type": "markdown",
      "source": [
        "**Modulo**      \n",
        "$a~\\%~b$   \n",
        "Modulo operator $~\\%~$ is used to find remainder when a is divided by b. If $a < b$ then $a$ will be returned. Let us see an example below."
      ],
      "metadata": {
        "id": "nzWDeLVt8v3p"
      }
    },
    {
      "cell_type": "code",
      "source": [
        "3%4"
      ],
      "metadata": {
        "colab": {
          "base_uri": "https://localhost:8080/"
        },
        "id": "_1O02W5BBH83",
        "outputId": "d816b502-30a4-4a41-f2b9-02a12fb0d0f8"
      },
      "execution_count": 55,
      "outputs": [
        {
          "output_type": "execute_result",
          "data": {
            "text/plain": [
              "3"
            ]
          },
          "metadata": {},
          "execution_count": 55
        }
      ]
    },
    {
      "cell_type": "code",
      "source": [
        "10%3"
      ],
      "metadata": {
        "colab": {
          "base_uri": "https://localhost:8080/"
        },
        "id": "Wgc7Ka8WBOt9",
        "outputId": "8a97e257-e1c3-4b97-85ab-61d0e724913c"
      },
      "execution_count": 56,
      "outputs": [
        {
          "output_type": "execute_result",
          "data": {
            "text/plain": [
              "1"
            ]
          },
          "metadata": {},
          "execution_count": 56
        }
      ]
    },
    {
      "cell_type": "markdown",
      "source": [
        "**Floor division**   \n",
        " $~//~$ operator is used to get integer quotient when a is divided by b. Let us see an example below."
      ],
      "metadata": {
        "id": "pa5qFRhVBRgc"
      }
    },
    {
      "cell_type": "code",
      "source": [
        "9//4"
      ],
      "metadata": {
        "colab": {
          "base_uri": "https://localhost:8080/"
        },
        "id": "jb0vAdavBoiV",
        "outputId": "ac28b25c-987f-43df-a567-15e10a28b2d5"
      },
      "execution_count": 57,
      "outputs": [
        {
          "output_type": "execute_result",
          "data": {
            "text/plain": [
              "2"
            ]
          },
          "metadata": {},
          "execution_count": 57
        }
      ]
    },
    {
      "cell_type": "markdown",
      "source": [
        "**Relational Operators**   \n",
        "These operators are used to determine relationship between variables. If we perform this operator boolean values(True/False) will be returned, indicating whether relationship we have checked is correct or not.\n"
      ],
      "metadata": {
        "id": "3SOtaZXuDH8N"
      }
    },
    {
      "cell_type": "markdown",
      "source": [
        "$a < b $   \n",
        "$<$ operator is used to check whether first variable is less than another. "
      ],
      "metadata": {
        "id": "tgPb24ldI0bi"
      }
    },
    {
      "cell_type": "code",
      "source": [
        "9<5"
      ],
      "metadata": {
        "colab": {
          "base_uri": "https://localhost:8080/"
        },
        "id": "5oT5TUnpLGpo",
        "outputId": "b3d4737a-0482-4434-c026-60fc401b3b11"
      },
      "execution_count": 58,
      "outputs": [
        {
          "output_type": "execute_result",
          "data": {
            "text/plain": [
              "False"
            ]
          },
          "metadata": {},
          "execution_count": 58
        }
      ]
    },
    {
      "cell_type": "markdown",
      "source": [
        "$a <= b $   \n",
        "$<=$ operator is used to check whether first number is less than or equal to the other number. "
      ],
      "metadata": {
        "id": "MObLi3xzLMK1"
      }
    },
    {
      "cell_type": "code",
      "source": [
        "10<=10"
      ],
      "metadata": {
        "colab": {
          "base_uri": "https://localhost:8080/"
        },
        "id": "YF9e-4vgLn2H",
        "outputId": "d17e6f7d-c4c0-45c6-92d6-d7301ba90a08"
      },
      "execution_count": 59,
      "outputs": [
        {
          "output_type": "execute_result",
          "data": {
            "text/plain": [
              "True"
            ]
          },
          "metadata": {},
          "execution_count": 59
        }
      ]
    },
    {
      "cell_type": "markdown",
      "source": [
        "$a > b $   \n",
        "$>$ operator is used to check whether first variable is greater than the other variable. "
      ],
      "metadata": {
        "id": "F_8ABzGELrYL"
      }
    },
    {
      "cell_type": "code",
      "source": [
        "9>5"
      ],
      "metadata": {
        "colab": {
          "base_uri": "https://localhost:8080/"
        },
        "id": "c_wJ7w3YLyvN",
        "outputId": "28e122b7-1336-43a9-8415-1a6a22cb6c16"
      },
      "execution_count": 60,
      "outputs": [
        {
          "output_type": "execute_result",
          "data": {
            "text/plain": [
              "True"
            ]
          },
          "metadata": {},
          "execution_count": 60
        }
      ]
    },
    {
      "cell_type": "markdown",
      "source": [
        "$a >= b $   \n",
        "$>=$ operator is used to check whether first variable is greater than or equal to the other variable. "
      ],
      "metadata": {
        "id": "y6_Up0oUL1Dc"
      }
    },
    {
      "cell_type": "code",
      "source": [
        "10>=10"
      ],
      "metadata": {
        "colab": {
          "base_uri": "https://localhost:8080/"
        },
        "id": "eAEtsBpQMMLs",
        "outputId": "f23e1d8e-3617-45f3-f84b-ddf1089984d7"
      },
      "execution_count": 61,
      "outputs": [
        {
          "output_type": "execute_result",
          "data": {
            "text/plain": [
              "True"
            ]
          },
          "metadata": {},
          "execution_count": 61
        }
      ]
    },
    {
      "cell_type": "markdown",
      "source": [
        "$a==b$ (Equity)   \n",
        "$==$ operator is used to check whether two variables are equal"
      ],
      "metadata": {
        "id": "zDyzENtTM2WV"
      }
    },
    {
      "cell_type": "code",
      "source": [
        "books=10\n",
        "books==11"
      ],
      "metadata": {
        "colab": {
          "base_uri": "https://localhost:8080/"
        },
        "id": "dmvJGnEPNpH5",
        "outputId": "5a56e24b-e657-4cb3-abe8-499294908d89"
      },
      "execution_count": 62,
      "outputs": [
        {
          "output_type": "execute_result",
          "data": {
            "text/plain": [
              "False"
            ]
          },
          "metadata": {},
          "execution_count": 62
        }
      ]
    },
    {
      "cell_type": "markdown",
      "source": [
        "$a!=b$   \n",
        "$!=$ is used to check whether one variable is not equal to another\n"
      ],
      "metadata": {
        "id": "gP1v0SzENvwk"
      }
    },
    {
      "cell_type": "code",
      "source": [
        "books!=99"
      ],
      "metadata": {
        "colab": {
          "base_uri": "https://localhost:8080/"
        },
        "id": "qUol6tf5OogE",
        "outputId": "b24df056-014a-4a06-f23b-cecf1220f2de"
      },
      "execution_count": 63,
      "outputs": [
        {
          "output_type": "execute_result",
          "data": {
            "text/plain": [
              "True"
            ]
          },
          "metadata": {},
          "execution_count": 63
        }
      ]
    },
    {
      "cell_type": "markdown",
      "source": [
        "**Logical Operators**   \n",
        "A logical operator is a symbol or word used to connect two or more expressions. The logical operators are **\"and\", \"or\", and \"not\"**."
      ],
      "metadata": {
        "id": "HJmX5I_bO8gd"
      }
    },
    {
      "cell_type": "markdown",
      "source": [
        "\n",
        "**and**   \n",
        "**condition_1 and condition_2**   \n",
        "We consider two conditions (Specified using relational operators) and this operator returns true when both conditions are satisfied.\n"
      ],
      "metadata": {
        "id": "bwazPXbkP0IN"
      }
    },
    {
      "cell_type": "code",
      "source": [
        "books = 99\n",
        "books<100 and books>5"
      ],
      "metadata": {
        "colab": {
          "base_uri": "https://localhost:8080/"
        },
        "id": "LZIXR08QQrsC",
        "outputId": "e9cc82ac-0975-4cbe-d2ff-499cd09d3a38"
      },
      "execution_count": 64,
      "outputs": [
        {
          "output_type": "execute_result",
          "data": {
            "text/plain": [
              "True"
            ]
          },
          "metadata": {},
          "execution_count": 64
        }
      ]
    },
    {
      "cell_type": "markdown",
      "source": [
        "**or**   \n",
        "**condition_1 or condition_2**   \n",
        "We consider two conditions (Specified using relational operators) and this operator returns true when any one condition is satisfied."
      ],
      "metadata": {
        "id": "X9nJIPWJR6gG"
      }
    },
    {
      "cell_type": "code",
      "source": [
        "books = 99\n",
        "books<100 or books>500"
      ],
      "metadata": {
        "colab": {
          "base_uri": "https://localhost:8080/"
        },
        "id": "eo94mEE2SKh1",
        "outputId": "1bb68fea-fd61-4635-ddae-28d5ade64201"
      },
      "execution_count": 65,
      "outputs": [
        {
          "output_type": "execute_result",
          "data": {
            "text/plain": [
              "True"
            ]
          },
          "metadata": {},
          "execution_count": 65
        }
      ]
    },
    {
      "cell_type": "markdown",
      "source": [
        "**not**   \n",
        "**not condition**   \n",
        "Checks the condition and returns False if the condition is satisfied, True otherwise. i.e checks the condition and gives back opposite boolean value."
      ],
      "metadata": {
        "id": "T84J_cNqScWV"
      }
    },
    {
      "cell_type": "code",
      "source": [
        "books==99"
      ],
      "metadata": {
        "colab": {
          "base_uri": "https://localhost:8080/"
        },
        "id": "t6HX7thtU1Il",
        "outputId": "d018111c-8468-4702-80de-a9743dc16cf7"
      },
      "execution_count": 66,
      "outputs": [
        {
          "output_type": "execute_result",
          "data": {
            "text/plain": [
              "True"
            ]
          },
          "metadata": {},
          "execution_count": 66
        }
      ]
    },
    {
      "cell_type": "code",
      "source": [
        "not books==99"
      ],
      "metadata": {
        "colab": {
          "base_uri": "https://localhost:8080/"
        },
        "id": "IifIAskeUuq_",
        "outputId": "1f124074-7030-4235-98e4-a6035339ed0d"
      },
      "execution_count": 67,
      "outputs": [
        {
          "output_type": "execute_result",
          "data": {
            "text/plain": [
              "False"
            ]
          },
          "metadata": {},
          "execution_count": 67
        }
      ]
    },
    {
      "cell_type": "markdown",
      "source": [
        "**Membership Operators**   \n",
        "A membership operator checks for existence of particular object within a compound data structure. We use **\"in\"** or **\"not in\"**. to check whether an element exists or doesn't exist in particular data structure"
      ],
      "metadata": {
        "id": "Weq3qxyE-WMx"
      }
    },
    {
      "cell_type": "code",
      "source": [
        "shop_list=['Pen','Water bottle',3]\n",
        "3 in shop_list\n"
      ],
      "metadata": {
        "colab": {
          "base_uri": "https://localhost:8080/"
        },
        "id": "iLB3VoFq-75d",
        "outputId": "fcf40bab-80d8-4073-ef64-14487c2e0212"
      },
      "execution_count": 68,
      "outputs": [
        {
          "output_type": "execute_result",
          "data": {
            "text/plain": [
              "True"
            ]
          },
          "metadata": {},
          "execution_count": 68
        }
      ]
    },
    {
      "cell_type": "code",
      "source": [
        "'Pen' not in shop_list"
      ],
      "metadata": {
        "colab": {
          "base_uri": "https://localhost:8080/"
        },
        "id": "bAVaCnKn_HOP",
        "outputId": "e95e3b1b-afd9-439b-f4e3-61aa757637ba"
      },
      "execution_count": 69,
      "outputs": [
        {
          "output_type": "execute_result",
          "data": {
            "text/plain": [
              "False"
            ]
          },
          "metadata": {},
          "execution_count": 69
        }
      ]
    },
    {
      "cell_type": "markdown",
      "metadata": {
        "id": "g5gvTEZGgFEI"
      },
      "source": [
        "# Quiz"
      ]
    },
    {
      "cell_type": "markdown",
      "metadata": {
        "id": "7dPbNy-mgFEI"
      },
      "source": [
        "# Create a variable named carname and assign the value Volvo to it."
      ]
    },
    {
      "cell_type": "code",
      "execution_count": 69,
      "metadata": {
        "id": "pK_y-GT3gFEI"
      },
      "outputs": [],
      "source": [
        ""
      ]
    }
  ],
  "metadata": {
    "kernelspec": {
      "display_name": "Python 3",
      "language": "python",
      "name": "python3"
    },
    "language_info": {
      "codemirror_mode": {
        "name": "ipython",
        "version": 3
      },
      "file_extension": ".py",
      "mimetype": "text/x-python",
      "name": "python",
      "nbconvert_exporter": "python",
      "pygments_lexer": "ipython3",
      "version": "3.7.1"
    },
    "colab": {
      "name": "00.Python_Variables.ipynb",
      "provenance": [],
      "include_colab_link": true
    }
  },
  "nbformat": 4,
  "nbformat_minor": 0
}
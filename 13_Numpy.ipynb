{
  "nbformat": 4,
  "nbformat_minor": 0,
  "metadata": {
    "colab": {
      "name": "13_Numpy.ipynb",
      "provenance": [],
      "collapsed_sections": [],
      "authorship_tag": "ABX9TyOFaxsiy9Q7N2JMFbXZlNSr",
      "include_colab_link": true
    },
    "kernelspec": {
      "name": "python3",
      "display_name": "Python 3"
    },
    "language_info": {
      "name": "python"
    }
  },
  "cells": [
    {
      "cell_type": "markdown",
      "metadata": {
        "id": "view-in-github",
        "colab_type": "text"
      },
      "source": [
        "<a href=\"https://colab.research.google.com/github/ThinkLabzChennai/Datascience/blob/main/13_Numpy.ipynb\" target=\"_parent\"><img src=\"https://colab.research.google.com/assets/colab-badge.svg\" alt=\"Open In Colab\"/></a>"
      ]
    },
    {
      "cell_type": "markdown",
      "source": [
        "#  <font color='green'>**Numpy**</font>\n",
        "\n"
      ],
      "metadata": {
        "id": "N-SLV5GP6yU0"
      }
    },
    {
      "cell_type": "markdown",
      "source": [
        "The word numpy stands for numerical python. Numpy equips python with great power of numerical computation. In addition to the elegance it is also simple to understand numpy and use it for various desired tasks. Numpy arrays are faster than lists ( by $50$ times), since they are stored in one continuous place unlike lists.\n",
        "\n",
        "NumPy forms the basis of powerful machine learning libraries like scikit-learn and SciPy. As machine learning grows, so does the list of libraries built on NumPy. TensorFlow’s deep learning capabilities have broad applications — among them speech and image recognition, text-based applications, time-series analysis, and video detection. PyTorch, another deep learning library, is popular among researchers in computer vision and natural language processing. MXNet is another AI package, providing blueprints and templates for deep learning.\n",
        "\n",
        "Statistical techniques called ensemble methods such as binning, bagging, stacking, and boosting are also done using numpy library."
      ],
      "metadata": {
        "id": "sNiq9gGqr9kS"
      }
    },
    {
      "cell_type": "markdown",
      "source": [
        "If we are going to start using numpy for the first time, we should install it, we can perform this using the following command\n",
        "```\n",
        "pip install numpy\n",
        "```\n",
        "if it is already installed in the machine python will show message as\n",
        "\"Requirement already satisfied: numpy in \" followed by its location and version"
      ],
      "metadata": {
        "id": "V7ZpqBb1y4qz"
      }
    },
    {
      "cell_type": "code",
      "source": [
        "pip install numpy"
      ],
      "metadata": {
        "colab": {
          "base_uri": "https://localhost:8080/"
        },
        "id": "uHzX0W5Dz4j5",
        "outputId": "6261cb84-ac7d-4087-ecd3-370774ffc2a0"
      },
      "execution_count": null,
      "outputs": [
        {
          "output_type": "stream",
          "name": "stdout",
          "text": [
            "Requirement already satisfied: numpy in /usr/local/lib/python3.7/dist-packages (1.19.5)\n"
          ]
        }
      ]
    },
    {
      "cell_type": "markdown",
      "source": [
        "For ever time we restart python, we need to load numpy library in the beginning, we can do this using <font color='red'>**import**</font> keyword, the statement will look like    \n",
        "<font color='indigo'>\n",
        "**import** module_name\n",
        "  </font>   \n",
        "  We can also load the module with shorter name for easier usage, this can be done using   \n",
        "<font color='indigo'>\n",
        "**import** module_full_name as **short_name**\n",
        "  </font>   \n",
        "  In general \n",
        "\n"
      ],
      "metadata": {
        "id": "Ars83sBM7NL6"
      }
    },
    {
      "cell_type": "code",
      "source": [
        "import numpy as np"
      ],
      "metadata": {
        "id": "DF38BBRm5Iy1"
      },
      "execution_count": null,
      "outputs": []
    },
    {
      "cell_type": "markdown",
      "source": [
        "##  <font color='brown'>**Creating numpy arrays**</font>\n",
        "Numpy arrays can be created using <font color='red'>**[** and  **]**</font> where we define elements in a column as list within the array. We can understand from example where we have table which contains number of players registered for a tournament from three countries."
      ],
      "metadata": {
        "id": "z25l_Pf7FwNI"
      }
    },
    {
      "cell_type": "markdown",
      "source": [
        "![image.png](data:image/png;base64,iVBORw0KGgoAAAANSUhEUgAAAMkAAAApCAYAAACfgg2HAAAFfUlEQVR4nO2cPbaySBCGX+Z8K5mBG3hcQbsCNLmR6WRNKImZoZkJhJJ9qZGJ9ApkBZ4b2Dhb6QmQa8PldxRwtJ5zCLSRriqq+s+uNs7xRYEgiFJ+AYD1159DyzEY8vIP6f/G+tchL//gj6GFIIhnh4KEIGqgICGIGihICKKGfoNEODAmPuJeKyWI+2gVJMIxYDjiYZULx3jioInhTwwYhn45eJz2P3k2ewgn0fuBr7x9/U9gj19DVm5vFZ79TxrmSRwXJoDkpU2dT6it3Uldz2UPgX3AwDkQ7AW2djc6V/Es9rhjuJW0tI4QcL5b2gl8PexjHxO97Jx9wo+eKXO/3oLV1xX7E63Fz8nxIOxPDpzO15YtlSmjUKblK5Op7PunsofYI2BzLJdzsGCf60Fj+JMJ/Fiv34HI9L75OvM9s94rCzjGBL7vZMoa26NrO53ji2pKyKHAw+snqTwGBTDlyfJylhaqUHFAgXlKFj4vVFwrkx7T7q2pS3qKgav0SW0o1z8v/1WGnH5crzTkN5nLZKqQdQh7lOkf8lT3vB30+tM60s83e2TlzeuWL7/6Rk7mH/ZAzp+Yp2THdjrHF3X3xJ2HR1xHI9mWNj5gF3Gs0kLY2Ia84kk2tscF0rvN2Rws+oJsUhcAIMC+g7Fz5FrXVsbCbi5bDrXKZGoi64D2iH2sA4b5zARgYjZniHaHH3MDHm6RWCO5BzxEah7zYwyk8l6f5y1vtjMXK/Boh0Nc9LwCxB4Bcv50XMDswU7drW7JL0Qtf5Lp+iy3+e/NBY7Sw2ma/HbywLEW8ySUUlAhR+Rumk/cy2RqIetQ9ogPO0RsjtnVsRLHyzp0eyK4lj7cmiJo+wg2glUkb8d26i5IrBFYm/uFA8sdI1QqcUrptfu9ucBRKSgVYuxaj1+RsZfwWIB1G4crk6mJrIPZI8ZhFwGRCyvjeBF2d0UJv+nyfd1a+EbkeggAvdipuyAxPzCG5lSxj8m0edshNi1ahAwWRq2s1BQTi5Xem5j4GCcrPwBq9CuTqbmsvdlDbOBGDJ7MOrT0WLueVMecYd62gcljf4Lr/gQBp2B5uAs7dfhnoo2t9IB0TG99YVUV5fYWIQ8wvbZe65GHqhlMBuFo3bgFd3wbGz+U64tK48LehuDB9KafPucqk6mprAPZQ+wDgK9+tPDmYpXRvR0mFkeJ+c7S5Gr7H0jOn4w1Rr8XMHuwk3GOL+qdt0q/+1bxd9e/DtoqTxANoCAhiBooSAiiBoNy3AmiGspxf/OJ67vrXwdN3AmiARQkBFEDBQlB1EBBQhA1UJAQRA29Bkk2C0zPTCvIJx8qsbozanQsza57Xcr9IV82rD16DBKBzW4Oed1VGvIA05zmPNR2nnaURz40xToKOJYLaLkrwbSbFOTnocIfYh9/a2XSYwim3R7CUUWPQZLNILNGLJch9sbks+7sJTwW4etH8sQrUeEP5gLHfLYhTjgP5CwDzUkENm4ENp9B35EdTLs9yOEZKNIxPp8Ks+5OQ3lF7xT7wzfyCxHG+GiToPVA+j+cLk3d5OH3UT1JvoGe4AO41nDdaze00TFJ6Hp5Sv1BJ4a/DsC8ZXn+e8f0GyT29uYko3XpYW/3Jfj8P6jWMcb51LdEA9DAH4RjwYWH363yfB/LYEvAlePM+IwTGEZFWf+vgqZj5mQRjfFQ44sBKPIH4RiYnjxIbX4yBP0FSexjoq1mxYfd9zhTONk5iNi4mdM6XoFKHXNpwUmeOcfnay7wJVT4Q7pc/gwBAqDd4XT3cTvALLluB4apkGvfZw+w65re9K/TUXqKFdmmY/p7/3la+EN68f9y/OB9nOOLohz3N98q/u7610Fb5QmiARQkBFEDBQlB1EA57gRRw79RnoYJgXkhkwAAAABJRU5ErkJggg==)\n",
        "\n",
        "We can store this information as array"
      ],
      "metadata": {
        "id": "P9l482pVeXVC"
      }
    },
    {
      "cell_type": "code",
      "source": [
        "players=np.array([35,50,32])\n",
        "type(players)\n"
      ],
      "metadata": {
        "colab": {
          "base_uri": "https://localhost:8080/"
        },
        "id": "xeXWTRKFg8Gp",
        "outputId": "635deabd-31b0-4aa8-eed7-4fc1be98e1dd"
      },
      "execution_count": null,
      "outputs": [
        {
          "output_type": "execute_result",
          "data": {
            "text/plain": [
              "numpy.ndarray"
            ]
          },
          "metadata": {},
          "execution_count": 4
        }
      ]
    },
    {
      "cell_type": "markdown",
      "source": [
        "###  <font color='darkviolet'>**Dimension of Arrays**</font>\n",
        "Arrays can be of 1,2,3,... or n dimension. based on how the information is stored, Let us see some examples   \n",
        "![image.png](data:image/png;base64,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)\n",
        "\n",
        "This table represents number of persons based on Ethnicity and Education category whether student or not. This information can be stored as an array of two dimension since the data is about two variables of interest "
      ],
      "metadata": {
        "id": "LJy4lK4QiTFy"
      }
    },
    {
      "cell_type": "code",
      "source": [
        "Ethnicity_stud=np.array([[89,10], [89,13], [187,17]])\n",
        "print(Ethnicity_stud)\n"
      ],
      "metadata": {
        "id": "X5_Uhec5XKtU",
        "colab": {
          "base_uri": "https://localhost:8080/"
        },
        "outputId": "4115d463-b837-4c08-85b6-530873583ca3"
      },
      "execution_count": null,
      "outputs": [
        {
          "output_type": "stream",
          "name": "stdout",
          "text": [
            "[[ 89  10]\n",
            " [ 89  13]\n",
            " [187  17]]\n"
          ]
        }
      ]
    },
    {
      "cell_type": "markdown",
      "source": [
        "<font color='red'>ndim</font> method can be used to obtain the dimension of the array. "
      ],
      "metadata": {
        "id": "s0wdMjYvgzLz"
      }
    },
    {
      "cell_type": "code",
      "source": [
        "players.ndim"
      ],
      "metadata": {
        "colab": {
          "base_uri": "https://localhost:8080/"
        },
        "id": "w2B9ED5UhLEj",
        "outputId": "a37dc85e-d38c-4f81-fa28-e412f372dfcf"
      },
      "execution_count": null,
      "outputs": [
        {
          "output_type": "execute_result",
          "data": {
            "text/plain": [
              "1"
            ]
          },
          "metadata": {},
          "execution_count": 6
        }
      ]
    },
    {
      "cell_type": "code",
      "source": [
        "Ethnicity_stud.ndim"
      ],
      "metadata": {
        "colab": {
          "base_uri": "https://localhost:8080/"
        },
        "id": "zvX7ZDqKbrU3",
        "outputId": "a182b83d-c9bd-49a8-b65f-89826e14b7ed"
      },
      "execution_count": null,
      "outputs": [
        {
          "output_type": "execute_result",
          "data": {
            "text/plain": [
              "2"
            ]
          },
          "metadata": {},
          "execution_count": 7
        }
      ]
    },
    {
      "cell_type": "markdown",
      "source": [
        "We shall now see the following example\n",
        "![image.png](data:image/png;base64,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)\n"
      ],
      "metadata": {
        "id": "5yC6Q3rrbyBn"
      }
    },
    {
      "cell_type": "code",
      "source": [
        "ESG=np.array([ [[44,45] , [5,5]] , [[43,46] , [4,9]] , [[90,92] , [7,10]] ])\n",
        "print(ESG)"
      ],
      "metadata": {
        "id": "OOZwjV4fbrZn",
        "colab": {
          "base_uri": "https://localhost:8080/"
        },
        "outputId": "722b6196-e63a-46b1-9907-2aba7be045c5"
      },
      "execution_count": null,
      "outputs": [
        {
          "output_type": "stream",
          "name": "stdout",
          "text": [
            "[[[44 45]\n",
            "  [ 5  5]]\n",
            "\n",
            " [[43 46]\n",
            "  [ 4  9]]\n",
            "\n",
            " [[90 92]\n",
            "  [ 7 10]]]\n"
          ]
        }
      ]
    },
    {
      "cell_type": "code",
      "source": [
        "ESG.ndim"
      ],
      "metadata": {
        "id": "VMM4w6cRiG1J",
        "colab": {
          "base_uri": "https://localhost:8080/"
        },
        "outputId": "93ffd436-9045-42e3-9a5e-1c65d7936d33"
      },
      "execution_count": null,
      "outputs": [
        {
          "output_type": "execute_result",
          "data": {
            "text/plain": [
              "3"
            ]
          },
          "metadata": {},
          "execution_count": 9
        }
      ]
    },
    {
      "cell_type": "markdown",
      "source": [
        "We have seen arrays of dimension 1,2 and 3 based on the number of variables it summarises. Especially 1 dimensional arrays are vectors and 2 dimensional arrays are matrices. We shall now look at how we can perform matrix operations using these numpy arrays."
      ],
      "metadata": {
        "id": "mLTpvk8e8pOn"
      }
    },
    {
      "cell_type": "markdown",
      "source": [
        "###  <font color='darkviolet'>**Shape**</font>\n",
        "Every array has its own shape. We can get to know how many elements are in an array from shape of it,for 1 dimension <font color='red'>**shape**</font> method gives us how many elements are present in the data, for more than one dimension this method represents how many sub collections of data (In a 3 dimensional array sub collection is matrix) is present with the dimension of the subset data "
      ],
      "metadata": {
        "id": "c9soEp-sB5Jf"
      }
    },
    {
      "cell_type": "code",
      "source": [
        "players.shape"
      ],
      "metadata": {
        "colab": {
          "base_uri": "https://localhost:8080/"
        },
        "id": "0hiHWA848mBO",
        "outputId": "ed11b5bb-80cb-4c1e-ed53-5c24ea67e690"
      },
      "execution_count": null,
      "outputs": [
        {
          "output_type": "execute_result",
          "data": {
            "text/plain": [
              "(3,)"
            ]
          },
          "metadata": {},
          "execution_count": 10
        }
      ]
    },
    {
      "cell_type": "code",
      "source": [
        "ESG.shape"
      ],
      "metadata": {
        "colab": {
          "base_uri": "https://localhost:8080/"
        },
        "id": "HCZv0l8fCEFd",
        "outputId": "e0887041-31fd-4f6f-e08b-abdb6cdced4b"
      },
      "execution_count": null,
      "outputs": [
        {
          "output_type": "execute_result",
          "data": {
            "text/plain": [
              "(3, 2, 2)"
            ]
          },
          "metadata": {},
          "execution_count": 11
        }
      ]
    },
    {
      "cell_type": "code",
      "source": [
        "Ethnicity_stud.shape"
      ],
      "metadata": {
        "colab": {
          "base_uri": "https://localhost:8080/"
        },
        "id": "Bg92VzyvDWdQ",
        "outputId": "76f39788-43a2-43fc-8393-a05e64cf0af8"
      },
      "execution_count": null,
      "outputs": [
        {
          "output_type": "execute_result",
          "data": {
            "text/plain": [
              "(3, 2)"
            ]
          },
          "metadata": {},
          "execution_count": 12
        }
      ]
    },
    {
      "cell_type": "markdown",
      "source": [
        "###  <font color='darkviolet'>**More on array creation**</font>\n",
        "We can also initialize an array using some special functions. Let us look at them one by one\n",
        "\n",
        "Creating array of zeros can be done using <font color='red'>**np.zeros**</font>. by default the values will be of float type, if we want them to be an integers we can specify using argument <font color='red'>**dtype**</font>\n",
        "\n"
      ],
      "metadata": {
        "id": "5xbdm7RhEmf_"
      }
    },
    {
      "cell_type": "code",
      "source": [
        "zero_ar=np.zeros((2,2))\n",
        "print(zero_ar)\n",
        "\n",
        "# Defining the variables as integers\n",
        "zero_ar_int=np.zeros((2,2),dtype='int')\n",
        "print(\"Integer\")\n",
        "print(zero_ar_int)\n"
      ],
      "metadata": {
        "colab": {
          "base_uri": "https://localhost:8080/"
        },
        "id": "XtQiHhQpDZTu",
        "outputId": "9475f9b6-6db4-4305-f77f-78a92db4df47"
      },
      "execution_count": null,
      "outputs": [
        {
          "output_type": "stream",
          "name": "stdout",
          "text": [
            "[[0. 0.]\n",
            " [0. 0.]]\n",
            "Integer\n",
            "[[0 0]\n",
            " [0 0]]\n"
          ]
        }
      ]
    },
    {
      "cell_type": "markdown",
      "source": [
        "Creating array of ones can be done using <font color='red'>**np.ones**</font>."
      ],
      "metadata": {
        "id": "NN-zcScJMYf3"
      }
    },
    {
      "cell_type": "code",
      "source": [
        "one_ar=np.ones((3,3,3,2),dtype=\"int\")\n",
        "print(one_ar)"
      ],
      "metadata": {
        "colab": {
          "base_uri": "https://localhost:8080/"
        },
        "id": "M8z38CwHJnZ-",
        "outputId": "ec5b0c33-56a1-41d3-efab-acdb97910032"
      },
      "execution_count": null,
      "outputs": [
        {
          "output_type": "stream",
          "name": "stdout",
          "text": [
            "[[[[1 1]\n",
            "   [1 1]\n",
            "   [1 1]]\n",
            "\n",
            "  [[1 1]\n",
            "   [1 1]\n",
            "   [1 1]]\n",
            "\n",
            "  [[1 1]\n",
            "   [1 1]\n",
            "   [1 1]]]\n",
            "\n",
            "\n",
            " [[[1 1]\n",
            "   [1 1]\n",
            "   [1 1]]\n",
            "\n",
            "  [[1 1]\n",
            "   [1 1]\n",
            "   [1 1]]\n",
            "\n",
            "  [[1 1]\n",
            "   [1 1]\n",
            "   [1 1]]]\n",
            "\n",
            "\n",
            " [[[1 1]\n",
            "   [1 1]\n",
            "   [1 1]]\n",
            "\n",
            "  [[1 1]\n",
            "   [1 1]\n",
            "   [1 1]]\n",
            "\n",
            "  [[1 1]\n",
            "   [1 1]\n",
            "   [1 1]]]]\n"
          ]
        }
      ]
    },
    {
      "cell_type": "markdown",
      "source": [
        "<font color='red'>**np.arange(start_position,stop_position,difference_between_the_elements)**</font> function is used to create an array using range of numbers. We can specify the data type here also. "
      ],
      "metadata": {
        "id": "vm1YtL-PO3wQ"
      }
    },
    {
      "cell_type": "code",
      "source": [
        "np.arange(-6,10,3)"
      ],
      "metadata": {
        "colab": {
          "base_uri": "https://localhost:8080/"
        },
        "id": "zbB0HI6rOWJu",
        "outputId": "53b44d15-6615-4bd6-e6e9-3c77a16524dd"
      },
      "execution_count": null,
      "outputs": [
        {
          "output_type": "execute_result",
          "data": {
            "text/plain": [
              "array([-6, -3,  0,  3,  6,  9])"
            ]
          },
          "metadata": {},
          "execution_count": 15
        }
      ]
    },
    {
      "cell_type": "code",
      "source": [
        "np.arange(3.6,9.5,1,dtype=int)"
      ],
      "metadata": {
        "id": "uDMSGvwuO79d",
        "colab": {
          "base_uri": "https://localhost:8080/"
        },
        "outputId": "cc6e2886-c43e-40d6-9ea0-1db221489afd"
      },
      "execution_count": null,
      "outputs": [
        {
          "output_type": "execute_result",
          "data": {
            "text/plain": [
              "array([3, 4, 5, 6, 7, 8])"
            ]
          },
          "metadata": {},
          "execution_count": 16
        }
      ]
    },
    {
      "cell_type": "markdown",
      "source": [
        "<font color='red'>**np.linspace**</font> function can be used to create an one dimensional array \n",
        "\n",
        "This creates evenly spaced numbers over a specified interval. we specify starting value, end value and how many elements we require. Based on the requirement the function returns values with equal space in accordance with number of elements. By default last value which we specify is included in the array. We can exclude the value by giving \"False\" for <font color='red'>**endpoint**</font> argument.\n",
        "\n"
      ],
      "metadata": {
        "id": "Tuue_udPU6hg"
      }
    },
    {
      "cell_type": "code",
      "source": [
        "np.linspace(2,8,5)"
      ],
      "metadata": {
        "colab": {
          "base_uri": "https://localhost:8080/"
        },
        "id": "27cs_MY-U6sO",
        "outputId": "0224c759-957c-4b63-ed16-cac26ad0a163"
      },
      "execution_count": null,
      "outputs": [
        {
          "output_type": "execute_result",
          "data": {
            "text/plain": [
              "array([2. , 3.5, 5. , 6.5, 8. ])"
            ]
          },
          "metadata": {},
          "execution_count": 17
        }
      ]
    },
    {
      "cell_type": "code",
      "source": [
        "np.linspace(2,8,5,endpoint=False)"
      ],
      "metadata": {
        "colab": {
          "base_uri": "https://localhost:8080/"
        },
        "id": "1LPpk8UHbikc",
        "outputId": "1f8b937b-2ad0-42e4-bf99-107b57412204"
      },
      "execution_count": null,
      "outputs": [
        {
          "output_type": "execute_result",
          "data": {
            "text/plain": [
              "array([2. , 3.2, 4.4, 5.6, 6.8])"
            ]
          },
          "metadata": {},
          "execution_count": 18
        }
      ]
    },
    {
      "cell_type": "markdown",
      "source": [
        "##  <font color='brown'>**Operations with array elements**</font>\n",
        "\n",
        "We can use the mathematical and logical operators to perform desired taks element wise in an array. Let us see how the element wise operations are done in an array. To understand this we need to learn a concept called **Broadcasting**\n",
        "\n",
        "### Broadcasting using Numpy\n",
        "The term broadcasting describes how NumPy treats arrays with different shapes during arithmetic operations. Subject to certain constraints, the smaller array is “broadcast” across the larger array so that they have compatible shapes. Broadcasting provides a means of vectorizing array operations so that looping occurs in C instead of Python. It does this without making needless copies of data and usually leads to efficient algorithm implementations. There are, however, cases where broadcasting is a bad idea because it leads to inefficient use of memory that slows computation.\n",
        "\n",
        "When operating on two arrays, NumPy compares their shapes element-wise. It starts with the trailing (i.e. rightmost) dimensions and works its way left. Two dimensions are compatible when\n",
        "\n",
        "* They are equal, or\n",
        "\n",
        "* One of them is 1\n",
        "\n",
        "Whilebroadcasting  dimensions with size 1 are stretched or \"copied\" to match the other"
      ],
      "metadata": {
        "id": "FaeEtFNfYmJp"
      }
    },
    {
      "cell_type": "code",
      "source": [
        "print(players)"
      ],
      "metadata": {
        "id": "puCcVys3dZTt",
        "colab": {
          "base_uri": "https://localhost:8080/"
        },
        "outputId": "a994022f-8a64-4c1a-8a33-2da1ff1388dd"
      },
      "execution_count": null,
      "outputs": [
        {
          "output_type": "stream",
          "name": "stdout",
          "text": [
            "[35 50 32]\n"
          ]
        }
      ]
    },
    {
      "cell_type": "markdown",
      "source": [
        "Consider adding the above array with another one which is [2,2,2] this can be simply done by the method (just using scalar 2)"
      ],
      "metadata": {
        "id": "jB4Aee9ANyr5"
      }
    },
    {
      "cell_type": "code",
      "source": [
        "## Addition\n",
        "players+2"
      ],
      "metadata": {
        "colab": {
          "base_uri": "https://localhost:8080/"
        },
        "id": "HhBox1t2Zeuj",
        "outputId": "1e658723-47f8-4f35-ec8c-4404bd018fa3"
      },
      "execution_count": null,
      "outputs": [
        {
          "output_type": "execute_result",
          "data": {
            "text/plain": [
              "array([37, 52, 34])"
            ]
          },
          "metadata": {},
          "execution_count": 20
        }
      ]
    },
    {
      "cell_type": "code",
      "source": [
        "try:\n",
        "   players+np.array([1,2])\n",
        "except:\n",
        "   print(\"This gives back error since the size doesn't match\")"
      ],
      "metadata": {
        "colab": {
          "base_uri": "https://localhost:8080/"
        },
        "id": "6PtR5i1mPmMv",
        "outputId": "64071996-1516-4548-dc9f-62b075472feb"
      },
      "execution_count": null,
      "outputs": [
        {
          "output_type": "stream",
          "name": "stdout",
          "text": [
            "This gives back error since the size doesn't match\n"
          ]
        }
      ]
    },
    {
      "cell_type": "code",
      "source": [
        "## Subtraction\n",
        "players-99"
      ],
      "metadata": {
        "colab": {
          "base_uri": "https://localhost:8080/"
        },
        "id": "Z1BudtdfZgki",
        "outputId": "ad29085a-99a0-4f09-a471-3520917ce855"
      },
      "execution_count": null,
      "outputs": [
        {
          "output_type": "execute_result",
          "data": {
            "text/plain": [
              "array([-64, -49, -67])"
            ]
          },
          "metadata": {},
          "execution_count": 22
        }
      ]
    },
    {
      "cell_type": "code",
      "source": [
        "## Multiplication\n",
        "players*2"
      ],
      "metadata": {
        "colab": {
          "base_uri": "https://localhost:8080/"
        },
        "id": "Mt9tW-6QZo4y",
        "outputId": "f8fc0a5b-13f8-416a-8700-c46c3969fd07"
      },
      "execution_count": null,
      "outputs": [
        {
          "output_type": "execute_result",
          "data": {
            "text/plain": [
              "array([ 70, 100,  64])"
            ]
          },
          "metadata": {},
          "execution_count": 23
        }
      ]
    },
    {
      "cell_type": "code",
      "source": [
        "## Floor division\n",
        "players//3"
      ],
      "metadata": {
        "colab": {
          "base_uri": "https://localhost:8080/"
        },
        "id": "E-trhunqZsgd",
        "outputId": "40837f8f-7a2f-4ba3-a547-1dcc741ed124"
      },
      "execution_count": null,
      "outputs": [
        {
          "output_type": "execute_result",
          "data": {
            "text/plain": [
              "array([11, 16, 10])"
            ]
          },
          "metadata": {},
          "execution_count": 24
        }
      ]
    },
    {
      "cell_type": "code",
      "source": [
        "## Division\n",
        "players/3"
      ],
      "metadata": {
        "colab": {
          "base_uri": "https://localhost:8080/"
        },
        "id": "PJaT4CmbZx39",
        "outputId": "6a1962dd-efea-43d1-d63a-e4486317abb7"
      },
      "execution_count": null,
      "outputs": [
        {
          "output_type": "execute_result",
          "data": {
            "text/plain": [
              "array([11.66666667, 16.66666667, 10.66666667])"
            ]
          },
          "metadata": {},
          "execution_count": 25
        }
      ]
    },
    {
      "cell_type": "code",
      "source": [
        "## Raising to power\n",
        "players**3"
      ],
      "metadata": {
        "colab": {
          "base_uri": "https://localhost:8080/"
        },
        "id": "Mz24AM3xZ5ad",
        "outputId": "8802208a-72a0-4ea3-bb67-d0ef560da3e3"
      },
      "execution_count": null,
      "outputs": [
        {
          "output_type": "execute_result",
          "data": {
            "text/plain": [
              "array([ 42875, 125000,  32768])"
            ]
          },
          "metadata": {},
          "execution_count": 26
        }
      ]
    },
    {
      "cell_type": "code",
      "source": [
        "## Modulo\n",
        "players%5"
      ],
      "metadata": {
        "colab": {
          "base_uri": "https://localhost:8080/"
        },
        "id": "CmqwS5qbZ8zd",
        "outputId": "a243a271-f464-4228-d06d-4ef8e627e19c"
      },
      "execution_count": null,
      "outputs": [
        {
          "output_type": "execute_result",
          "data": {
            "text/plain": [
              "array([0, 0, 2])"
            ]
          },
          "metadata": {},
          "execution_count": 27
        }
      ]
    },
    {
      "cell_type": "code",
      "source": [
        "## Logical\n",
        "print(players)\n",
        "print(players<=35)\n",
        "print(players>=50)\n",
        "print(players==32)\n",
        "\n"
      ],
      "metadata": {
        "colab": {
          "base_uri": "https://localhost:8080/"
        },
        "id": "PeNJhSs0aTQN",
        "outputId": "958cee07-03b9-4e42-eb23-dc34613b3879"
      },
      "execution_count": null,
      "outputs": [
        {
          "output_type": "stream",
          "name": "stdout",
          "text": [
            "[35 50 32]\n",
            "[ True False  True]\n",
            "[False  True False]\n",
            "[False False  True]\n"
          ]
        }
      ]
    },
    {
      "cell_type": "code",
      "source": [
        "## Finding sum of elements\n",
        "sum(players)"
      ],
      "metadata": {
        "colab": {
          "base_uri": "https://localhost:8080/"
        },
        "id": "oGHj1bPxYIP_",
        "outputId": "30c8ea0f-8ea5-4fab-acdb-01fa206cd00c"
      },
      "execution_count": null,
      "outputs": [
        {
          "output_type": "execute_result",
          "data": {
            "text/plain": [
              "117"
            ]
          },
          "metadata": {},
          "execution_count": 29
        }
      ]
    },
    {
      "cell_type": "code",
      "source": [
        "### Finding square root\n",
        "np.sqrt(players)"
      ],
      "metadata": {
        "colab": {
          "base_uri": "https://localhost:8080/"
        },
        "id": "soX9iHoiy6JK",
        "outputId": "d6aebc0b-0234-44bd-9157-76ee6a07bfa7"
      },
      "execution_count": null,
      "outputs": [
        {
          "output_type": "execute_result",
          "data": {
            "text/plain": [
              "array([5.91607978, 7.07106781, 5.65685425])"
            ]
          },
          "metadata": {},
          "execution_count": 30
        }
      ]
    },
    {
      "cell_type": "markdown",
      "source": [
        "##  <font color='brown'>**Matrix operations**</font>\n",
        "\n",
        "Numpy has great power because of its ability to handle matrices to perform mathematical calculations, which in turn aids us in analysing rectangular data.\n"
      ],
      "metadata": {
        "id": "5DmVIM0dcO6z"
      }
    },
    {
      "cell_type": "markdown",
      "source": [
        "### Inner product\n",
        "The inner product takes two vectors of equal size and returns a single number (scalar). This is calculated by multiplying the corresponding elements in each vector and adding up all of those products. In numpy, vectors are defined as one-dimensional numpy arrays. This can be obtained using <font color='red'>**np.inner(array_1,array_2)**</font> or <font color='red'>**np.dot(array_1,array_2)**</font>"
      ],
      "metadata": {
        "id": "H0VHv6gWh6G_"
      }
    },
    {
      "cell_type": "code",
      "source": [
        "vec1 = np.array([15, 8, 2])\n",
        "vec2 = np.array([1,2,3])"
      ],
      "metadata": {
        "id": "Jc2VfwaKb_Wk"
      },
      "execution_count": null,
      "outputs": []
    },
    {
      "cell_type": "code",
      "source": [
        "np.inner(vec1,vec2)"
      ],
      "metadata": {
        "colab": {
          "base_uri": "https://localhost:8080/"
        },
        "id": "cWorG9Iyint_",
        "outputId": "79619f3b-ba55-4531-fe71-b8e17ec144cf"
      },
      "execution_count": null,
      "outputs": [
        {
          "output_type": "execute_result",
          "data": {
            "text/plain": [
              "37"
            ]
          },
          "metadata": {},
          "execution_count": 32
        }
      ]
    },
    {
      "cell_type": "code",
      "source": [
        "np.dot(vec1,vec2)"
      ],
      "metadata": {
        "colab": {
          "base_uri": "https://localhost:8080/"
        },
        "id": "YdR9nuhfiu_9",
        "outputId": "1e0d2a95-381c-478b-dc03-e94676202341"
      },
      "execution_count": null,
      "outputs": [
        {
          "output_type": "execute_result",
          "data": {
            "text/plain": [
              "37"
            ]
          },
          "metadata": {},
          "execution_count": 33
        }
      ]
    },
    {
      "cell_type": "markdown",
      "source": [
        "### Dot product\n",
        "\n",
        "To multiple two matrices the inner dimension of matrices must be same i.e number of columns of 1st matrix must be equal to number of rows of 2nd matrix\n",
        "For matrices dot product (Matrix multiplication) returns a matrix of dimension  "
      ],
      "metadata": {
        "id": "U83mfHfquGm4"
      }
    },
    {
      "cell_type": "code",
      "source": [
        "# For matrices * operator does dot product which is same as np.dot\n",
        "m1 = np.matrix([[1, 2], [3, 4]])\n",
        "m2 = np.matrix([[1, 2], [3, 4]])\n",
        "m1*m2"
      ],
      "metadata": {
        "colab": {
          "base_uri": "https://localhost:8080/"
        },
        "id": "MuGExKqBiwjc",
        "outputId": "75ff6449-2955-4b72-98f6-98986b1ba27a"
      },
      "execution_count": null,
      "outputs": [
        {
          "output_type": "execute_result",
          "data": {
            "text/plain": [
              "matrix([[ 7, 10],\n",
              "        [15, 22]])"
            ]
          },
          "metadata": {},
          "execution_count": 34
        }
      ]
    },
    {
      "cell_type": "code",
      "source": [
        "np.dot(m1,m2)"
      ],
      "metadata": {
        "colab": {
          "base_uri": "https://localhost:8080/"
        },
        "id": "IoHUrDXfkWjO",
        "outputId": "8e2c1684-997a-488f-8ed6-16801f289df7"
      },
      "execution_count": null,
      "outputs": [
        {
          "output_type": "execute_result",
          "data": {
            "text/plain": [
              "matrix([[ 7, 10],\n",
              "        [15, 22]])"
            ]
          },
          "metadata": {},
          "execution_count": 35
        }
      ]
    },
    {
      "cell_type": "markdown",
      "source": [
        "### Transpose\n",
        "The transpose of a matrix is found by switching its rows with its columns. We can use np.transpose() function or NumPy ndarray.transpose() method or ndarray.T (a special method which does not require parentheses) to get the transpose. All give the same output."
      ],
      "metadata": {
        "id": "vYQEP-bd7nFG"
      }
    },
    {
      "cell_type": "code",
      "source": [
        "print(m1)\n",
        "np.transpose(m1)"
      ],
      "metadata": {
        "colab": {
          "base_uri": "https://localhost:8080/"
        },
        "id": "WUS9V0iDmUx9",
        "outputId": "90ac23df-2f74-4465-e30a-31fb54416c8c"
      },
      "execution_count": null,
      "outputs": [
        {
          "output_type": "stream",
          "name": "stdout",
          "text": [
            "[[1 2]\n",
            " [3 4]]\n"
          ]
        },
        {
          "output_type": "execute_result",
          "data": {
            "text/plain": [
              "matrix([[1, 3],\n",
              "        [2, 4]])"
            ]
          },
          "metadata": {},
          "execution_count": 36
        }
      ]
    },
    {
      "cell_type": "code",
      "source": [
        "m1.T"
      ],
      "metadata": {
        "colab": {
          "base_uri": "https://localhost:8080/"
        },
        "id": "quaQRz2p86EN",
        "outputId": "0b19e9cd-d7b6-4af6-e7a2-3c347f646fdc"
      },
      "execution_count": null,
      "outputs": [
        {
          "output_type": "execute_result",
          "data": {
            "text/plain": [
              "matrix([[1, 3],\n",
              "        [2, 4]])"
            ]
          },
          "metadata": {},
          "execution_count": 37
        }
      ]
    },
    {
      "cell_type": "code",
      "source": [
        "m1.transpose()"
      ],
      "metadata": {
        "colab": {
          "base_uri": "https://localhost:8080/"
        },
        "id": "CEC_Mc2r89CN",
        "outputId": "db01d42e-ad38-40bc-bd32-8410d4ce4969"
      },
      "execution_count": null,
      "outputs": [
        {
          "output_type": "execute_result",
          "data": {
            "text/plain": [
              "matrix([[1, 3],\n",
              "        [2, 4]])"
            ]
          },
          "metadata": {},
          "execution_count": 38
        }
      ]
    },
    {
      "cell_type": "markdown",
      "source": [
        "### Trace \n",
        "The trace is the sum of diagonal elements in a square matrix. We can simply use the trace() method of an ndarray object."
      ],
      "metadata": {
        "id": "OUGaqLuQ9MxA"
      }
    },
    {
      "cell_type": "code",
      "source": [
        "## Accessing and adding diagonal elements\n",
        "m1.trace()"
      ],
      "metadata": {
        "colab": {
          "base_uri": "https://localhost:8080/"
        },
        "id": "dDYFd4Fb9LTs",
        "outputId": "b11545f9-e0ea-477e-ffd3-65dcfb3416ef"
      },
      "execution_count": null,
      "outputs": [
        {
          "output_type": "execute_result",
          "data": {
            "text/plain": [
              "matrix([[5]])"
            ]
          },
          "metadata": {},
          "execution_count": 39
        }
      ]
    },
    {
      "cell_type": "markdown",
      "source": [
        "### Rank\n",
        "The rank of a matrix is the dimensions of the vector space spanned (generated) by its columns or rows. In other words, it can be defined as the maximum number of linearly independent column vectors or row vectors.\n",
        "The rank of a matrix can be found using the matrix_rank() function which comes from the numpy linalg package."
      ],
      "metadata": {
        "id": "zq4YggAuAkz_"
      }
    },
    {
      "cell_type": "code",
      "source": [
        "np.linalg.matrix_rank(m1)"
      ],
      "metadata": {
        "colab": {
          "base_uri": "https://localhost:8080/"
        },
        "id": "p3mfTNCFADPN",
        "outputId": "fbcb9f10-8750-456a-d1f3-0059d690214e"
      },
      "execution_count": null,
      "outputs": [
        {
          "output_type": "execute_result",
          "data": {
            "text/plain": [
              "2"
            ]
          },
          "metadata": {},
          "execution_count": 40
        }
      ]
    },
    {
      "cell_type": "markdown",
      "source": [
        "### Determinant\n",
        "The determinant of a square matrix can be calculated det() function which also comes from the numpy linalg package."
      ],
      "metadata": {
        "id": "NayDfFExFusg"
      }
    },
    {
      "cell_type": "code",
      "source": [
        "np.linalg.det(m1)"
      ],
      "metadata": {
        "colab": {
          "base_uri": "https://localhost:8080/"
        },
        "id": "kxeFmPTwFPas",
        "outputId": "69f424ba-9a45-45af-82f0-6692b6ddd8cd"
      },
      "execution_count": null,
      "outputs": [
        {
          "output_type": "execute_result",
          "data": {
            "text/plain": [
              "-2.0000000000000004"
            ]
          },
          "metadata": {},
          "execution_count": 41
        }
      ]
    },
    {
      "cell_type": "markdown",
      "source": [
        "### True inverse\n",
        " If the determinant of a square matrix is not 0, it has a true inverse. The true inverse of a square matrix can be found using the inv() function of the numpy linalg package."
      ],
      "metadata": {
        "id": "XN0B34tXIRsX"
      }
    },
    {
      "cell_type": "code",
      "source": [
        "np.linalg.inv(m1)"
      ],
      "metadata": {
        "colab": {
          "base_uri": "https://localhost:8080/"
        },
        "id": "Vp_KqWM3HmN9",
        "outputId": "9815e569-029d-4c99-8f5a-24dcea527183"
      },
      "execution_count": null,
      "outputs": [
        {
          "output_type": "execute_result",
          "data": {
            "text/plain": [
              "matrix([[-2. ,  1. ],\n",
              "        [ 1.5, -0.5]])"
            ]
          },
          "metadata": {},
          "execution_count": 42
        }
      ]
    },
    {
      "cell_type": "markdown",
      "source": [
        "### Flatten\n",
        "Flatten is a simple method to transform a matrix into a one-dimensional numpy array. For this, we can use the flatten() method of an ndarray object."
      ],
      "metadata": {
        "id": "6Q8Mdck-Jl9e"
      }
    },
    {
      "cell_type": "code",
      "source": [
        "m1a=m1.flatten()\n",
        "print(m1a)"
      ],
      "metadata": {
        "colab": {
          "base_uri": "https://localhost:8080/"
        },
        "id": "2knN_7cRIZi8",
        "outputId": "09499659-86f5-457d-8cdb-da30831b9627"
      },
      "execution_count": null,
      "outputs": [
        {
          "output_type": "stream",
          "name": "stdout",
          "text": [
            "[[1 2 3 4]]\n"
          ]
        }
      ]
    },
    {
      "cell_type": "markdown",
      "source": [
        "### Eigenvalues and eigenvectors\n",
        "Let $A$ be an $n$x$n$ matrix. A scalar $λ$ is called an eigenvalue of $A$ if there is a non-zero vector $X$ satisfying the following equation.\n",
        "$$AX = \\lambda X$$\n",
        "The vector X is called the eigenvector of $A$ corresponding to $λ$.\n",
        "In numpy, both eigenvalues and eigenvectors can be obtained as tuple simultaneously using the eig() function."
      ],
      "metadata": {
        "id": "ykE1bmkbKD1R"
      }
    },
    {
      "cell_type": "code",
      "source": [
        "np.linalg.eig(m1)"
      ],
      "metadata": {
        "colab": {
          "base_uri": "https://localhost:8080/"
        },
        "id": "2I1hdBFwJsa9",
        "outputId": "986cc89f-2ffb-4307-c9a8-89dbab2178fc"
      },
      "execution_count": null,
      "outputs": [
        {
          "output_type": "execute_result",
          "data": {
            "text/plain": [
              "(array([-0.37228132,  5.37228132]), matrix([[-0.82456484, -0.41597356],\n",
              "         [ 0.56576746, -0.90937671]]))"
            ]
          },
          "metadata": {},
          "execution_count": 44
        }
      ]
    },
    {
      "cell_type": "markdown",
      "source": [
        "#  <font color='green'>**Final note**</font>\n",
        "We have discussed various important techniques which will help us perform calculations in numerical arrays using numpy. \n"
      ],
      "metadata": {
        "id": "VXiksx5FLinf"
      }
    }
  ]
}
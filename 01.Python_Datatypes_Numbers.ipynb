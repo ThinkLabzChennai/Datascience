{
  "cells": [
    {
      "cell_type": "markdown",
      "metadata": {
        "id": "view-in-github",
        "colab_type": "text"
      },
      "source": [
        "<a href=\"https://colab.research.google.com/github/ThinkLabzChennai/Datascience/blob/main/01.Python_Datatypes_Numbers.ipynb\" target=\"_parent\"><img src=\"https://colab.research.google.com/assets/colab-badge.svg\" alt=\"Open In Colab\"/></a>"
      ]
    },
    {
      "cell_type": "markdown",
      "metadata": {
        "id": "hJmdQrxEUACv"
      },
      "source": [
        "# Python Data Types"
      ]
    },
    {
      "cell_type": "markdown",
      "metadata": {
        "id": "SGCeMZzpUAC1"
      },
      "source": [
        "# Built-in Data Types"
      ]
    },
    {
      "cell_type": "markdown",
      "metadata": {
        "id": "3LrJu6nUUAC2"
      },
      "source": [
        "In programming, data type is an important concept.\n",
        "\n",
        "Variables can store data of different types, and different types can do different things.\n",
        "\n",
        "Python has the following data types built-in by default, in these categories:\n",
        "\n",
        "Text Type:\tstr\n",
        "\n",
        "Numeric Types:\tint, float, complex\n",
        "    \n",
        "Sequence Types:\tlist, tuple, range\n",
        "    \n",
        "Mapping Type:\tdict\n",
        "    \n",
        "Set Types:\tset, frozenset\n",
        "    \n",
        "Boolean Type:\tbool\n",
        "    \n",
        "Binary Types:\tbytes, bytearray, memoryview"
      ]
    },
    {
      "cell_type": "markdown",
      "metadata": {
        "id": "-kilVg0IUAC3"
      },
      "source": [
        "You can get the data type of any object by using the type() function:"
      ]
    },
    {
      "cell_type": "code",
      "execution_count": null,
      "metadata": {
        "id": "jDfejXmwUAC4",
        "outputId": "964366dd-f7c5-4c2a-fcf2-e65040966881"
      },
      "outputs": [
        {
          "name": "stdout",
          "output_type": "stream",
          "text": [
            "<class 'int'>\n"
          ]
        }
      ],
      "source": [
        "x = 5\n",
        "print(type(x))"
      ]
    },
    {
      "cell_type": "markdown",
      "metadata": {
        "id": "_QtdWfHrUAC7"
      },
      "source": [
        "# Python Numbers"
      ]
    },
    {
      "cell_type": "markdown",
      "metadata": {
        "id": "apxJFNXTUAC8"
      },
      "source": [
        "Numbers in Python are classified in to 3 types\n",
        "1. int   \n",
        "Python stores integer values such as $-\\infty,\\cdots,~-3,~-2,~-1,~0,~1,~2,~3,\\cdots,\\infty$ as *'int'*\n",
        "1. float   \n",
        "Python stores numbers with decimal digits such as $1.23 ,~0.1,~ 9909.21456$ in it as *'float'*\n",
        "1. complex   \n",
        " An complex number is represented by “ a + bi “. Python converts the real numbers a and b into complex using the function **complex(a,b)**. The real part can be accessed using the function real() and imaginary part can be represented by imag(), it prints the number as \" a + bj \"   \n",
        "\n",
        "x = 1    # int\n",
        "\n",
        "y = 2.8  # float\n",
        "\n",
        "z = 9 + 18j   # complex\n"
      ]
    },
    {
      "cell_type": "markdown",
      "metadata": {
        "id": "jSP6s851UAC9"
      },
      "source": [
        "Int, or integer, is a whole number, positive or negative, without decimals, of unlimited length."
      ]
    },
    {
      "cell_type": "code",
      "execution_count": null,
      "metadata": {
        "id": "FN2nF9NhUAC-",
        "outputId": "36d72896-7451-4eb3-90f0-49d5b868f0f8"
      },
      "outputs": [
        {
          "name": "stdout",
          "output_type": "stream",
          "text": [
            "<class 'int'>\n",
            "<class 'int'>\n",
            "<class 'int'>\n"
          ]
        }
      ],
      "source": [
        "x = 1\n",
        "y = 35656222554887711\n",
        "z = -3255522\n",
        "\n",
        "print(type(x))\n",
        "print(type(y))\n",
        "print(type(z))"
      ]
    },
    {
      "cell_type": "markdown",
      "metadata": {
        "id": "wZsMd1PkUAC_"
      },
      "source": [
        "Float can also be scientific numbers with an \"e\" to indicate the power of 10."
      ]
    },
    {
      "cell_type": "code",
      "execution_count": null,
      "metadata": {
        "id": "4M9109TiUADA",
        "outputId": "adaf96b6-46b5-47ba-9043-7992b5e96591"
      },
      "outputs": [
        {
          "name": "stdout",
          "output_type": "stream",
          "text": [
            "<class 'float'>\n",
            "<class 'float'>\n",
            "<class 'float'>\n"
          ]
        }
      ],
      "source": [
        "x = 35e3\n",
        "y = 12E4\n",
        "z = -87.7e100\n",
        "\n",
        "print(type(x))\n",
        "print(type(y))\n",
        "print(type(z))"
      ]
    },
    {
      "cell_type": "markdown",
      "metadata": {
        "id": "rJI8iIjBUADB"
      },
      "source": [
        "Complex numbers are written with a \"j\" as the imaginary part:"
      ]
    },
    {
      "cell_type": "code",
      "execution_count": null,
      "metadata": {
        "id": "SEOS6V8OUADB",
        "outputId": "25f803f2-ffca-4b5f-9cce-75c2053fb1e6"
      },
      "outputs": [
        {
          "name": "stdout",
          "output_type": "stream",
          "text": [
            "<class 'complex'>\n",
            "<class 'complex'>\n",
            "<class 'complex'>\n"
          ]
        }
      ],
      "source": [
        "x = 3+5j\n",
        "y = 5j\n",
        "z = -5j\n",
        "\n",
        "print(type(x))\n",
        "print(type(y))\n",
        "print(type(z))"
      ]
    },
    {
      "cell_type": "markdown",
      "metadata": {
        "id": "Mn26ds-TUADC"
      },
      "source": [
        "You can convert from one type to another with the int(), float(), and complex() methods:"
      ]
    },
    {
      "cell_type": "code",
      "execution_count": null,
      "metadata": {
        "id": "DqQn89WeUADC",
        "outputId": "01ff38be-a845-4f89-fe47-f7adaca4a535"
      },
      "outputs": [
        {
          "name": "stdout",
          "output_type": "stream",
          "text": [
            "1.0\n",
            "2\n",
            "(1+0j)\n",
            "<class 'float'>\n",
            "<class 'int'>\n",
            "<class 'complex'>\n"
          ]
        }
      ],
      "source": [
        "x = 1    # int\n",
        "y = 2.8  # float\n",
        "z = 1j   # complex\n",
        "\n",
        "#convert from int to float:\n",
        "a = float(x)\n",
        "\n",
        "#convert from float to int:\n",
        "b = int(y)\n",
        "\n",
        "#convert from int to complex:\n",
        "c = complex(x)\n",
        "\n",
        "print(a)\n",
        "print(b)\n",
        "print(c)\n",
        "\n",
        "print(type(a))\n",
        "print(type(b))\n",
        "print(type(c))"
      ]
    },
    {
      "cell_type": "markdown",
      "metadata": {
        "id": "3-MJzjY0UADE"
      },
      "source": [
        "Exercise:\n",
        "    \n",
        "Insert the correct syntax to convert x into a floating point number.\n",
        "\n",
        "x = 5\n"
      ]
    },
    {
      "cell_type": "code",
      "execution_count": null,
      "metadata": {
        "id": "9B2wtPSUUADE"
      },
      "outputs": [],
      "source": [
        ""
      ]
    }
  ],
  "metadata": {
    "kernelspec": {
      "display_name": "Python 3",
      "language": "python",
      "name": "python3"
    },
    "language_info": {
      "codemirror_mode": {
        "name": "ipython",
        "version": 3
      },
      "file_extension": ".py",
      "mimetype": "text/x-python",
      "name": "python",
      "nbconvert_exporter": "python",
      "pygments_lexer": "ipython3",
      "version": "3.7.1"
    },
    "colab": {
      "name": "01.Python_Datatypes_Numbers.ipynb",
      "provenance": [],
      "include_colab_link": true
    }
  },
  "nbformat": 4,
  "nbformat_minor": 0
}
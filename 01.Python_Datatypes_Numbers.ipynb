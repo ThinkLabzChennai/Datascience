{
  "cells": [
    {
      "cell_type": "markdown",
      "metadata": {
        "id": "view-in-github",
        "colab_type": "text"
      },
      "source": [
        "<a href=\"https://colab.research.google.com/github/ThinkLabzChennai/Datascience/blob/main/01.Python_Datatypes_Numbers.ipynb\" target=\"_parent\"><img src=\"https://colab.research.google.com/assets/colab-badge.svg\" alt=\"Open In Colab\"/></a>"
      ]
    },
    {
      "cell_type": "markdown",
      "metadata": {
        "id": "hJmdQrxEUACv"
      },
      "source": [
        "# Python Data Types"
      ]
    },
    {
      "cell_type": "markdown",
      "metadata": {
        "id": "SGCeMZzpUAC1"
      },
      "source": [
        "# Built-in Data Types"
      ]
    },
    {
      "cell_type": "markdown",
      "metadata": {
        "id": "3LrJu6nUUAC2"
      },
      "source": [
        "In programming, data type is an important concept.\n",
        "\n",
        "Variables can store data of different types, and different types can do different things.\n",
        "\n",
        "Python has the following data types built-in by default, in these categories:\n",
        "\n",
        "Text Type:\tstr\n",
        "\n",
        "Numeric Types:\tint, float, complex\n",
        "    \n",
        "Sequence Types:\tlist, tuple, range\n",
        "    \n",
        "Mapping Type:\tdict\n",
        "    \n",
        "Set Types:\tset, frozenset\n",
        "    \n",
        "Boolean Type:\tbool\n",
        "    \n",
        "Binary Types:\tbytes, bytearray, memoryview"
      ]
    },
    {
      "cell_type": "markdown",
      "metadata": {
        "id": "-kilVg0IUAC3"
      },
      "source": [
        "You can get the data type of any object by using the type() function:"
      ]
    },
    {
      "cell_type": "code",
      "execution_count": 6,
      "metadata": {
        "id": "jDfejXmwUAC4",
        "outputId": "c165c6c1-b946-4172-83aa-39e9e5fbf506",
        "colab": {
          "base_uri": "https://localhost:8080/"
        }
      },
      "outputs": [
        {
          "output_type": "stream",
          "name": "stdout",
          "text": [
            "<class 'int'>\n"
          ]
        }
      ],
      "source": [
        "x = 5\n",
        "print(type(x))"
      ]
    },
    {
      "cell_type": "markdown",
      "source": [
        "#  **Methods in Python**\n",
        "In Python for every data type there are various functions created which can be utilized for handling the data. These are called as methods. Methods are associated with the objects of the class they belong to. We shall look at every data type and their available methods"
      ],
      "metadata": {
        "id": "FQxD5-ey5hWA"
      }
    },
    {
      "cell_type": "markdown",
      "metadata": {
        "id": "_QtdWfHrUAC7"
      },
      "source": [
        "# Python Numbers"
      ]
    },
    {
      "cell_type": "markdown",
      "metadata": {
        "id": "apxJFNXTUAC8"
      },
      "source": [
        "Numbers in Python are classified in to 3 types\n",
        "1. int   \n",
        "Python stores integer values such as $-\\infty,\\cdots,~-3,~-2,~-1,~0,~1,~2,~3,\\cdots,\\infty$ as *'int'*\n",
        "1. float   \n",
        "Python stores numbers with decimal digits such as $1.23 ,~0.1,~ 9909.21456$ in it as *'float'*\n",
        "1. complex   \n",
        " An complex number is represented by “ a + bi “. Python converts the real numbers a and b into complex using the function **complex(a,b)**. The real part can be accessed using the function real() and imaginary part can be represented by imag(), it prints the number as \" a + bj \"   \n",
        "\n",
        "x = 1    # int\n",
        "\n",
        "y = 2.8  # float\n",
        "\n",
        "z = 9 + 18j   # complex\n"
      ]
    },
    {
      "cell_type": "markdown",
      "metadata": {
        "id": "jSP6s851UAC9"
      },
      "source": [
        "Int, or integer, is a whole number, positive or negative, without decimals, of unlimited length."
      ]
    },
    {
      "cell_type": "code",
      "execution_count": 7,
      "metadata": {
        "id": "FN2nF9NhUAC-",
        "outputId": "980a1667-af5e-405f-f770-7750546f5589",
        "colab": {
          "base_uri": "https://localhost:8080/"
        }
      },
      "outputs": [
        {
          "output_type": "stream",
          "name": "stdout",
          "text": [
            "<class 'int'>\n",
            "<class 'int'>\n",
            "<class 'int'>\n"
          ]
        }
      ],
      "source": [
        "x = 1\n",
        "y = 35656222554887711\n",
        "z = -3255522\n",
        "\n",
        "print(type(x))\n",
        "print(type(y))\n",
        "print(type(z))"
      ]
    },
    {
      "cell_type": "markdown",
      "metadata": {
        "id": "wZsMd1PkUAC_"
      },
      "source": [
        "Float can also be scientific numbers with an \"e\" to indicate the power of 10."
      ]
    },
    {
      "cell_type": "code",
      "execution_count": 8,
      "metadata": {
        "id": "4M9109TiUADA",
        "outputId": "c4b0c35b-69cc-41e5-ec3f-118e8f960944",
        "colab": {
          "base_uri": "https://localhost:8080/"
        }
      },
      "outputs": [
        {
          "output_type": "stream",
          "name": "stdout",
          "text": [
            "<class 'float'>\n",
            "<class 'float'>\n",
            "<class 'float'>\n"
          ]
        }
      ],
      "source": [
        "x = 35e3\n",
        "y = 12E4\n",
        "z = -87.7e100\n",
        "\n",
        "print(type(x))\n",
        "print(type(y))\n",
        "print(type(z))"
      ]
    },
    {
      "cell_type": "markdown",
      "metadata": {
        "id": "rJI8iIjBUADB"
      },
      "source": [
        "Complex numbers are written with a \"j\" as the imaginary part:"
      ]
    },
    {
      "cell_type": "code",
      "execution_count": 9,
      "metadata": {
        "id": "SEOS6V8OUADB",
        "outputId": "01450635-f33a-46bd-b585-aa914973697e",
        "colab": {
          "base_uri": "https://localhost:8080/"
        }
      },
      "outputs": [
        {
          "output_type": "stream",
          "name": "stdout",
          "text": [
            "<class 'complex'>\n",
            "<class 'complex'>\n",
            "<class 'complex'>\n"
          ]
        }
      ],
      "source": [
        "x = 3+5j\n",
        "y = 5j\n",
        "z = -5j\n",
        "\n",
        "print(type(x))\n",
        "print(type(y))\n",
        "print(type(z))"
      ]
    },
    {
      "cell_type": "markdown",
      "metadata": {
        "id": "Mn26ds-TUADC"
      },
      "source": [
        "You can convert from one type to another with the int(), float(), and complex() methods:"
      ]
    },
    {
      "cell_type": "code",
      "execution_count": 10,
      "metadata": {
        "id": "DqQn89WeUADC",
        "outputId": "bdccf5b6-a422-48a6-d5b5-a8d960108813",
        "colab": {
          "base_uri": "https://localhost:8080/"
        }
      },
      "outputs": [
        {
          "output_type": "stream",
          "name": "stdout",
          "text": [
            "1.0\n",
            "2\n",
            "(1+0j)\n",
            "<class 'float'>\n",
            "<class 'int'>\n",
            "<class 'complex'>\n"
          ]
        }
      ],
      "source": [
        "x = 1    # int\n",
        "y = 2.8  # float\n",
        "z = 1j   # complex\n",
        "\n",
        "#convert from int to float:\n",
        "a = float(x)\n",
        "\n",
        "#convert from float to int:\n",
        "b = int(y)\n",
        "\n",
        "#convert from int to complex:\n",
        "c = complex(x)\n",
        "\n",
        "print(a)\n",
        "print(b)\n",
        "print(c)\n",
        "\n",
        "print(type(a))\n",
        "print(type(b))\n",
        "print(type(c))"
      ]
    },
    {
      "cell_type": "markdown",
      "source": [
        ""
      ],
      "metadata": {
        "id": "9LoLv--LxcNf"
      }
    },
    {
      "cell_type": "markdown",
      "source": [
        "## **Operators**\n",
        "Operators are special symbols that represent computations like addition and multiplication. The values for which the operator is applied to are called operands.Using some numerical variables a,b and c let us look at the operators one by one.\n"
      ],
      "metadata": {
        "id": "TiDk00Db-bKO"
      }
    },
    {
      "cell_type": "markdown",
      "source": [
        "### Arithmetic Operators"
      ],
      "metadata": {
        "id": "sxIuaiJTCuje"
      }
    },
    {
      "cell_type": "markdown",
      "source": [
        "**Addition**   \n",
        "For adding 2 or more numbers we can use the  $~ + ~$  operator. example $a+b+c$\n"
      ],
      "metadata": {
        "id": "gxz8alqF39eD"
      }
    },
    {
      "cell_type": "code",
      "source": [
        "# Example\n",
        "55321 + 2654 + 455.32"
      ],
      "metadata": {
        "colab": {
          "base_uri": "https://localhost:8080/"
        },
        "id": "BVY1YFzU4TBd",
        "outputId": "66cfd836-f0ed-4820-9a9f-3910de4ab80d"
      },
      "execution_count": 11,
      "outputs": [
        {
          "output_type": "execute_result",
          "data": {
            "text/plain": [
              "58430.32"
            ]
          },
          "metadata": {},
          "execution_count": 11
        }
      ]
    },
    {
      "cell_type": "markdown",
      "source": [
        "**Subtraction**   \n",
        "One number can be subtracted from another number using $~-~$ operator. example $a-c$\n"
      ],
      "metadata": {
        "id": "gPmG9Mhw4ekD"
      }
    },
    {
      "cell_type": "code",
      "source": [
        "5 - 990.24"
      ],
      "metadata": {
        "colab": {
          "base_uri": "https://localhost:8080/"
        },
        "id": "_nwwidJJ57e9",
        "outputId": "01da4e0f-dc32-40c2-a912-09fa1884246c"
      },
      "execution_count": 12,
      "outputs": [
        {
          "output_type": "execute_result",
          "data": {
            "text/plain": [
              "-985.24"
            ]
          },
          "metadata": {},
          "execution_count": 12
        }
      ]
    },
    {
      "cell_type": "markdown",
      "source": [
        "**Multiplication**   \n",
        "Two or more numbers can be multiplied using $~*~$ operator. example $a*c*b$"
      ],
      "metadata": {
        "id": "SDMeoERR6PUr"
      }
    },
    {
      "cell_type": "code",
      "source": [
        "5 * 88 * 9098271822113597"
      ],
      "metadata": {
        "colab": {
          "base_uri": "https://localhost:8080/"
        },
        "id": "6PlcFeiO6txW",
        "outputId": "04950592-66a2-46f3-84db-e6c60bfd23ec"
      },
      "execution_count": 13,
      "outputs": [
        {
          "output_type": "execute_result",
          "data": {
            "text/plain": [
              "4003239601729982680"
            ]
          },
          "metadata": {},
          "execution_count": 13
        }
      ]
    },
    {
      "cell_type": "markdown",
      "source": [
        "**Exponentiation**     \n",
        "$a * * n$   \n",
        "$n^{th}$ power of a number can be obtained using $~**~$ operator. Let us see an example below. "
      ],
      "metadata": {
        "id": "6gGtd7zy6_B2"
      }
    },
    {
      "cell_type": "code",
      "source": [
        "# Finding 3 to the power 2 \n",
        "3**2"
      ],
      "metadata": {
        "colab": {
          "base_uri": "https://localhost:8080/"
        },
        "id": "Qm_w9zT47lj9",
        "outputId": "3ed6e18d-6438-4c65-8adc-7b600de9c938"
      },
      "execution_count": 14,
      "outputs": [
        {
          "output_type": "execute_result",
          "data": {
            "text/plain": [
              "9"
            ]
          },
          "metadata": {},
          "execution_count": 14
        }
      ]
    },
    {
      "cell_type": "markdown",
      "source": [
        "**Division**   \n",
        "$a/b$   \n",
        "We can divide one number by another using $~/~$ operator. example "
      ],
      "metadata": {
        "id": "HfSNzaSA77ak"
      }
    },
    {
      "cell_type": "code",
      "source": [
        "10570/10\n"
      ],
      "metadata": {
        "colab": {
          "base_uri": "https://localhost:8080/"
        },
        "id": "hjxNyXV58kt9",
        "outputId": "e02cf922-a5c3-480d-d994-eb8530747a67"
      },
      "execution_count": 15,
      "outputs": [
        {
          "output_type": "execute_result",
          "data": {
            "text/plain": [
              "1057.0"
            ]
          },
          "metadata": {},
          "execution_count": 15
        }
      ]
    },
    {
      "cell_type": "markdown",
      "source": [
        "**Modulo**      \n",
        "$a~\\%~b$   \n",
        "Modulo operator $~\\%~$ is used to find remainder when a is divided by b. If $a < b$ then $a$ will be returned. Let us see an example below."
      ],
      "metadata": {
        "id": "nzWDeLVt8v3p"
      }
    },
    {
      "cell_type": "code",
      "source": [
        "3%4"
      ],
      "metadata": {
        "colab": {
          "base_uri": "https://localhost:8080/"
        },
        "id": "_1O02W5BBH83",
        "outputId": "b83a1971-61f1-4627-83b3-ea93acb3fba9"
      },
      "execution_count": 16,
      "outputs": [
        {
          "output_type": "execute_result",
          "data": {
            "text/plain": [
              "3"
            ]
          },
          "metadata": {},
          "execution_count": 16
        }
      ]
    },
    {
      "cell_type": "code",
      "source": [
        "10%3"
      ],
      "metadata": {
        "colab": {
          "base_uri": "https://localhost:8080/"
        },
        "id": "Wgc7Ka8WBOt9",
        "outputId": "9ba74cc9-51d4-4591-edc5-086831cf1210"
      },
      "execution_count": 17,
      "outputs": [
        {
          "output_type": "execute_result",
          "data": {
            "text/plain": [
              "1"
            ]
          },
          "metadata": {},
          "execution_count": 17
        }
      ]
    },
    {
      "cell_type": "markdown",
      "source": [
        "**Floor division**   \n",
        " $~//~$ operator is used to get integer quotient when a is divided by b. Let us see an example below."
      ],
      "metadata": {
        "id": "pa5qFRhVBRgc"
      }
    },
    {
      "cell_type": "code",
      "source": [
        "9//4"
      ],
      "metadata": {
        "colab": {
          "base_uri": "https://localhost:8080/"
        },
        "id": "jb0vAdavBoiV",
        "outputId": "326757cd-4350-420b-e2c0-4d849f5315b7"
      },
      "execution_count": 18,
      "outputs": [
        {
          "output_type": "execute_result",
          "data": {
            "text/plain": [
              "2"
            ]
          },
          "metadata": {},
          "execution_count": 18
        }
      ]
    },
    {
      "cell_type": "markdown",
      "source": [
        "**Relational Operators**   \n",
        "These operators are used to determine relationship between variables. If we perform this operator boolean values(True/False) will be returned, indicating whether relationship we have checked is correct or not.\n"
      ],
      "metadata": {
        "id": "3SOtaZXuDH8N"
      }
    },
    {
      "cell_type": "markdown",
      "source": [
        "$a < b $   \n",
        "$<$ operator is used to check whether first variable is less than another. "
      ],
      "metadata": {
        "id": "tgPb24ldI0bi"
      }
    },
    {
      "cell_type": "code",
      "source": [
        "9<5"
      ],
      "metadata": {
        "colab": {
          "base_uri": "https://localhost:8080/"
        },
        "id": "5oT5TUnpLGpo",
        "outputId": "a1db756d-abb7-4c17-fddb-b3c4006035f9"
      },
      "execution_count": 19,
      "outputs": [
        {
          "output_type": "execute_result",
          "data": {
            "text/plain": [
              "False"
            ]
          },
          "metadata": {},
          "execution_count": 19
        }
      ]
    },
    {
      "cell_type": "markdown",
      "source": [
        "$a <= b $   \n",
        "$<=$ operator is used to check whether first number is less than or equal to the other number. "
      ],
      "metadata": {
        "id": "MObLi3xzLMK1"
      }
    },
    {
      "cell_type": "code",
      "source": [
        "10<=10"
      ],
      "metadata": {
        "colab": {
          "base_uri": "https://localhost:8080/"
        },
        "id": "YF9e-4vgLn2H",
        "outputId": "e285cb2c-f197-45e3-8e53-3cc78753982e"
      },
      "execution_count": 20,
      "outputs": [
        {
          "output_type": "execute_result",
          "data": {
            "text/plain": [
              "True"
            ]
          },
          "metadata": {},
          "execution_count": 20
        }
      ]
    },
    {
      "cell_type": "markdown",
      "source": [
        "$a > b $   \n",
        "$>$ operator is used to check whether first variable is greater than the other variable. "
      ],
      "metadata": {
        "id": "F_8ABzGELrYL"
      }
    },
    {
      "cell_type": "code",
      "source": [
        "9>5"
      ],
      "metadata": {
        "colab": {
          "base_uri": "https://localhost:8080/"
        },
        "id": "c_wJ7w3YLyvN",
        "outputId": "d85fdd0e-b622-4014-9500-c9c840a04d9e"
      },
      "execution_count": 21,
      "outputs": [
        {
          "output_type": "execute_result",
          "data": {
            "text/plain": [
              "True"
            ]
          },
          "metadata": {},
          "execution_count": 21
        }
      ]
    },
    {
      "cell_type": "markdown",
      "source": [
        "$a >= b $   \n",
        "$>=$ operator is used to check whether first variable is greater than or equal to the other variable. "
      ],
      "metadata": {
        "id": "y6_Up0oUL1Dc"
      }
    },
    {
      "cell_type": "code",
      "source": [
        "10>=10"
      ],
      "metadata": {
        "colab": {
          "base_uri": "https://localhost:8080/"
        },
        "id": "eAEtsBpQMMLs",
        "outputId": "e85b65f9-f065-4e0f-a23c-f46ab611e337"
      },
      "execution_count": 22,
      "outputs": [
        {
          "output_type": "execute_result",
          "data": {
            "text/plain": [
              "True"
            ]
          },
          "metadata": {},
          "execution_count": 22
        }
      ]
    },
    {
      "cell_type": "markdown",
      "source": [
        "$a==b$ (Equity)   \n",
        "$==$ operator is used to check whether two variables are equal"
      ],
      "metadata": {
        "id": "zDyzENtTM2WV"
      }
    },
    {
      "cell_type": "code",
      "source": [
        "books=10\n",
        "books==11"
      ],
      "metadata": {
        "colab": {
          "base_uri": "https://localhost:8080/"
        },
        "id": "dmvJGnEPNpH5",
        "outputId": "21dc5489-b12d-46b9-c89d-c043e29f6cf9"
      },
      "execution_count": 23,
      "outputs": [
        {
          "output_type": "execute_result",
          "data": {
            "text/plain": [
              "False"
            ]
          },
          "metadata": {},
          "execution_count": 23
        }
      ]
    },
    {
      "cell_type": "markdown",
      "source": [
        "$a!=b$   \n",
        "$!=$ is used to check whether one variable is not equal to another\n"
      ],
      "metadata": {
        "id": "gP1v0SzENvwk"
      }
    },
    {
      "cell_type": "code",
      "source": [
        "books!=99"
      ],
      "metadata": {
        "colab": {
          "base_uri": "https://localhost:8080/"
        },
        "id": "qUol6tf5OogE",
        "outputId": "a801a569-5049-4f70-d74b-42d5ca3c3d3c"
      },
      "execution_count": 24,
      "outputs": [
        {
          "output_type": "execute_result",
          "data": {
            "text/plain": [
              "True"
            ]
          },
          "metadata": {},
          "execution_count": 24
        }
      ]
    },
    {
      "cell_type": "markdown",
      "source": [
        "**Logical Operators**   \n",
        "A logical operator is a symbol or word used to connect two or more expressions. The logical operators are **\"and\", \"or\", and \"not\"**."
      ],
      "metadata": {
        "id": "HJmX5I_bO8gd"
      }
    },
    {
      "cell_type": "markdown",
      "source": [
        "\n",
        "**and**   \n",
        "**condition_1 and condition_2**   \n",
        "We consider two conditions (Specified using relational operators) and this operator returns true when both conditions are satisfied.\n"
      ],
      "metadata": {
        "id": "bwazPXbkP0IN"
      }
    },
    {
      "cell_type": "code",
      "source": [
        "books = 99\n",
        "books<100 and books>5"
      ],
      "metadata": {
        "colab": {
          "base_uri": "https://localhost:8080/"
        },
        "id": "LZIXR08QQrsC",
        "outputId": "fa80bd86-617c-4998-d763-36ea9790f213"
      },
      "execution_count": 25,
      "outputs": [
        {
          "output_type": "execute_result",
          "data": {
            "text/plain": [
              "True"
            ]
          },
          "metadata": {},
          "execution_count": 25
        }
      ]
    },
    {
      "cell_type": "markdown",
      "source": [
        "**or**   \n",
        "**condition_1 or condition_2**   \n",
        "We consider two conditions (Specified using relational operators) and this operator returns true when any one condition is satisfied."
      ],
      "metadata": {
        "id": "X9nJIPWJR6gG"
      }
    },
    {
      "cell_type": "code",
      "source": [
        "books = 99\n",
        "books<100 or books>500"
      ],
      "metadata": {
        "colab": {
          "base_uri": "https://localhost:8080/"
        },
        "id": "eo94mEE2SKh1",
        "outputId": "b136d993-cb26-4bd2-99b1-ab2307bfeda9"
      },
      "execution_count": 26,
      "outputs": [
        {
          "output_type": "execute_result",
          "data": {
            "text/plain": [
              "True"
            ]
          },
          "metadata": {},
          "execution_count": 26
        }
      ]
    },
    {
      "cell_type": "markdown",
      "source": [
        "**not**   \n",
        "**not condition**   \n",
        "Checks the condition and returns False if the condition is satisfied, True otherwise. i.e checks the condition and gives back opposite boolean value."
      ],
      "metadata": {
        "id": "T84J_cNqScWV"
      }
    },
    {
      "cell_type": "code",
      "source": [
        "books==99"
      ],
      "metadata": {
        "colab": {
          "base_uri": "https://localhost:8080/"
        },
        "id": "t6HX7thtU1Il",
        "outputId": "076aa7eb-b3ad-41e6-89c4-8d4894871d86"
      },
      "execution_count": 27,
      "outputs": [
        {
          "output_type": "execute_result",
          "data": {
            "text/plain": [
              "True"
            ]
          },
          "metadata": {},
          "execution_count": 27
        }
      ]
    },
    {
      "cell_type": "code",
      "source": [
        "not books==99"
      ],
      "metadata": {
        "colab": {
          "base_uri": "https://localhost:8080/"
        },
        "id": "IifIAskeUuq_",
        "outputId": "42771706-a6d6-47c5-8c8c-695974e309f7"
      },
      "execution_count": 28,
      "outputs": [
        {
          "output_type": "execute_result",
          "data": {
            "text/plain": [
              "False"
            ]
          },
          "metadata": {},
          "execution_count": 28
        }
      ]
    },
    {
      "cell_type": "markdown",
      "source": [
        "**Membership Operators**   \n",
        "A membership operator checks for existence of particular object within a compound data structure. We use **\"in\"** or **\"not in\"**. to check whether an element exists or doesn't exist in particular data structure"
      ],
      "metadata": {
        "id": "Weq3qxyE-WMx"
      }
    },
    {
      "cell_type": "code",
      "source": [
        "shop_list=['Pen','Water bottle',3]\n",
        "3 in shop_list\n"
      ],
      "metadata": {
        "colab": {
          "base_uri": "https://localhost:8080/"
        },
        "id": "iLB3VoFq-75d",
        "outputId": "f5a7b36a-8748-4b3e-bcb1-0f40f81eeda4"
      },
      "execution_count": 29,
      "outputs": [
        {
          "output_type": "execute_result",
          "data": {
            "text/plain": [
              "True"
            ]
          },
          "metadata": {},
          "execution_count": 29
        }
      ]
    },
    {
      "cell_type": "code",
      "source": [
        "'Pen' not in shop_list"
      ],
      "metadata": {
        "colab": {
          "base_uri": "https://localhost:8080/"
        },
        "id": "bAVaCnKn_HOP",
        "outputId": "55705dca-79de-45cb-ab71-fda91ea37ea8"
      },
      "execution_count": 30,
      "outputs": [
        {
          "output_type": "execute_result",
          "data": {
            "text/plain": [
              "False"
            ]
          },
          "metadata": {},
          "execution_count": 30
        }
      ]
    },
    {
      "cell_type": "markdown",
      "metadata": {
        "id": "3-MJzjY0UADE"
      },
      "source": [
        "Exercise:\n",
        "    \n",
        "Insert the correct syntax to convert x into a floating point number.\n",
        "\n",
        "x = 5\n"
      ]
    },
    {
      "cell_type": "code",
      "execution_count": 30,
      "metadata": {
        "id": "9B2wtPSUUADE"
      },
      "outputs": [],
      "source": [
        ""
      ]
    }
  ],
  "metadata": {
    "kernelspec": {
      "display_name": "Python 3",
      "language": "python",
      "name": "python3"
    },
    "language_info": {
      "codemirror_mode": {
        "name": "ipython",
        "version": 3
      },
      "file_extension": ".py",
      "mimetype": "text/x-python",
      "name": "python",
      "nbconvert_exporter": "python",
      "pygments_lexer": "ipython3",
      "version": "3.7.1"
    },
    "colab": {
      "name": "01.Python_Datatypes_Numbers.ipynb",
      "provenance": [],
      "include_colab_link": true
    }
  },
  "nbformat": 4,
  "nbformat_minor": 0
}
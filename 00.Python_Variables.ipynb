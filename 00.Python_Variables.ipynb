{
  "cells": [
    {
      "cell_type": "markdown",
      "metadata": {
        "id": "view-in-github",
        "colab_type": "text"
      },
      "source": [
        "<a href=\"https://colab.research.google.com/github/ThinkLabzChennai/Datascience/blob/main/00.Python_Variables.ipynb\" target=\"_parent\"><img src=\"https://colab.research.google.com/assets/colab-badge.svg\" alt=\"Open In Colab\"/></a>"
      ]
    },
    {
      "cell_type": "markdown",
      "source": [
        "\n",
        "![python.jpg](data:image/jpeg;base64,/9j/4AAQSkZJRgABAQAAAQABAAD/2wCEAAkGBw4TDhEODhEWEREREREQDg4SEBMTEQ4RFxIbGRoSFhgbHisjGRsmHBQUIjMjJisvMDA0GCA1OjUuOSoyMC0BCgoKDw4PHBERHC8iHh4vMi8vLS0vMC0vLS0xMS8vLS0tLy0vLTAtLS8tLy0vLTAvLy8tMi8vLy8vLy0vLS8tL//AABEIAOEA4QMBIgACEQEDEQH/xAAcAAEAAgMBAQEAAAAAAAAAAAAAAQYEBQcCAwj/xABGEAACAQEDBAoPCAEFAQAAAAAAAQIDBAUREiExUQYHQVJhcYGRodETFBUWFyIyM1NykpOiseEjNEJzsrPB0oIkNWJ08MP/xAAbAQACAwEBAQAAAAAAAAAAAAAAAQMEBQIGB//EADkRAAIBAQMJBAgGAwEAAAAAAAABAgMEETEFEhMhUVKBkaEyQWFxFBUiQrHB0fAjM2KCouE0U3IG/9oADAMBAAIRAxEAPwDuIAAAAAAAAAABgXzedKz0ZV6r8WOZJeVOT0RjwsaTbuQm0lezKrVYwi5zkoxisZSk0oxWtt6CqXps/slNuNGMq8lux8Snj6zzvkTKHf8Af9otU8qrLCCeNOjFvIh/aXC+jQak0KdiXv8AIz6lsb1QLZbdsC3zxVNU6S3MmOXJcssU+Y09o2SXhPyrTU/xm6f6MDVEFqNKEcEuRWdWbxb5/Qyalury8qtOXrVJv5s+Ept6W3xsgg7SuOb2FJrQ2uJmRTt9oj5FacfVqTXyZiki1Am+42tDZPeMfJtVT/N9k/Xibqw7Ylthgq0KdZbuZ05vlWb4SoHkjlShLFIkjVmsGzrd0bPbFVajUboTfpMOxt8E1mX+WBaoyTSaeKaxTWdNa0fno3mxvZRaLI0ovslDHx6En4vHB/hfQ91FWpZFjDkWqdreE+Z2sGFdV5UrRRjXoyyoS5HF7sZLcaM0oNXamXk7wAAAAAAAAAAAAAAAAAAAAAAAHMNs23ylaqdnx8SlTU2tdSeOd8UVHnZ085Htjf7jU/LpfpLVjX4nBlW2P8PiisnQNiOwulKlC02tObqJTp0cXGMYPOpTwztvM8NGfPwc9nofEd8sdWE6VOdPyJQhKGG9cU10Fq2VJRilHvK1kpxlJ53cae27D7vqRyewRg9yVPxJJ682Z8qZy3ZBdFSy2iVCbylgpU54YKpB6JYbjzNNa0dyOZ7a1WDr2eC8uNObn6spLJ/TMr2SrLPzW70T2qlHMzkrmUc8gk0TOAB5AYAIEMEACGW3a3viVG2KhJ/ZWjxcNyNVLxZcuGTw4rUdcOA3PJq10JLSq1JrjVRHfjPtcUpJ7TQsj9lrYAAVC0AAAAAAAAAAAAAAAAAAAADke2N/uM/y6f6TrhyPbH/3GX5dL5Fqx/mcGVbZ+XxKuWrYtsznZoKjVg6tFN5ODwqU8c7Ucc0lwPDTp3CrEGlOEZq6RnQnKDvidItm2RRUH2CjUlPDN2XJhBceS23xdJz68LbUrVZ1qssqc3jJ6EtSS3ElmMYk4p0oU+yjupVnPtMAEEhGQAQIYIAEMEAABl3V95s/51H9xHfzgF0/ebP+dR/cR38oWzFF6x4MAAplwAAAAAAAAAAAAAANJfmyWy2XNVnlTwxVGGeb4XuRXHgU227Y1pk/sKVOEdc8qpLjzYJdJNToTmr0tRDO0Qhqb1nTQci7+7x9JD3UR3+Xj6SHuoknodTw5kXplPxOumgvfYnZLRVdasp5bUYvJnkrBaMxQO/28fSQ91Ed/t4+kh7qJ1Gy1Yu9O7iKVppS1NX8C5+D+79VT3r6iPB9d2qp719RTe/28fSQ91Ejv9vL0kPdRO9FaN7qcaWhu9C5+D67tVT3r6h4Pru1VPevqKZ3+3l6SHuojv8Aby38PdRFoq+91HpaG70Ln4Pru1VPevqHg9u7VU96+opff7eXpIe6iO/68vSQ91ENFX3uoaWhu9DR3zZo0rVXpQxyKdadOGLxeTGTSxfIYR9rXaJVKk6s885zlObSwTlJ4vNynxLivu1lR46gQAMQAIEMy7q+82f86j+4j9AH5+ur7zZ/zqP7iO9WptU5NZng8HqM+3SzdexNl6xK9NeKPuCu9sVN/L2h2zU38vaPNevKe4+aNb0R7SxArqtVRaJy58TJoXpJZprFb5ZsOslpZZoSd0k4+L1rocysslhrNyDxSqKSyovFPdPZqppq9FYAAYAp2zbZT2su17O12eSxlLSqMXofrPcXK9zGw35eMbPZqleWfIj4sd/N5ox5W0cRtNonUnOpN5U5yc5S1tst2WipvOlgupUtVZwWasX0PFScpScpNylJtylJtyk3utvSzyCDTMwEggBg8gkQAA8gMAECGCABDBAAAACBDAAADKun7zQ/Oo/uI73avNy9VnA7p+82f86l+4jvlq83P1WZuUOzwZfsOPFFeIAPm6PSAA8jGZNitTpy/wCL0rqN/GSaTWdPQyrm3uavjFwemOdcTNzI9raloZYPDz71x+PmU7VS1Z64mzAB6MoHPNtO8M9Cyp6601zxh/8AToOfm92c2rsl413jioONKPAoxSa9rKNCbNCObTSMevLOqNgkEEpEDyCRAADyAwAQIYIAEMEAAAAIEMAAABAIEM2Gx6i522zQW7Xo48SqJt8yZ3a1ebn6rOV7V91Opa3aZLxKEXg9x1ZppLki5PgxidOvSeFJrW0lz4/LEycp1EoSeyL+DNKwwerxZpADyfPT0IAIEAMi7quTVjqbwfL9THIxwzrczndOo6c1Ne67+QpRzldtLYDF7dgD3emo7yMfRz2HEb3q5Vqrz31arLnqNmIKksW3rbfOyDfWFxgt3u8HkEgIAHkBgAgQwQZFisNatLIoUpVZbqhFvJ4W9xcZYbNtf3jNYyhTpcFSosfgUjiU4x7TuO4wlLBXlWILp4Nbd6Wj7dT+g8Gtu9LR9ur/AEONPT3kSaCpsKWC6eDW3elo+3V/oR4Nbd6Wj7dX+gtPT3kGgqbClgung0t/paPt1f6DwaW/0tH26v8AQNPT3g0NTYUsgungzt3paPt1P6H0o7WVrb+0rUorXFTm+ZqInXp7RqhPYUY2dwXFaLXUyKMfFTXZarX2dJcL3Xqis74s50K7NrayQalXqTrtfh81TfInj8RcrLZqdOCp0oRhCOaMIRUYrkRDO1LCGslhZX7xh3HdVKzUI2ekvFjnlJ+VUm9M5cL6luGPe1fKnkLRDTx/+/kyLdb1FOMHjLQ3uR+ppzyOV7epLQwd+8/l9eW027LQu9p8AAQYBeAAEMEA8gMnFggBeFxyqawbWptHgy71p5Nprw3tWpHmqNfwYp9cTvV54ZrWADyMAAQIYLZsM2IytX29bGFnTwSWaVdp50nuR3G+Ra1orhuyVotVKzxxSnLx5L8FNLGUuZPDhwO52ehCnTjTpxUYQiowitEYpYJFW01nFZqxZas9FSec8EeLFY6VKmqVGEYQjojFYL6vhFa1045m8+paTBtdtcnkweEde++hhnkLXlhKTjSV/i8OC7/PDzNunZtXtavA2MrzW5HpwPPdV7z4voYBBmvKdqfv9F9CfQQ2Gw7qvefF9CO6r3nxfQ15AvWVq3+kfoP0ensNj3We8+L6Dus958X0NcQHrO1b/SP0H6PT2Gx7rPefF9B3Xe8+L6GuIF6ztW/0j9A9Hp7DYSvaW5FLjeJjVrZUlmbzatCPgeSOpba9RXSm7uXw1HcaMFggAQVCUAABggHkBgACGARgAAoWzOz9jvG0x11OyLhy4qfzkzTF221LDk2ijaEs1Sm6cn/yg8c/Gpr2SkH1mjK+CfgeJrRzZteJABBIcAgAQy/7U1kTqWiu15MIUoP1m5S/TDnL7edbCGStMvlulU2qI/6Os912hrmpQ62WG9JfaJakvmeby3WcKc7sXcvvgbNggmo8zDAIPFGwCAQMYAIEMAECAAHkBgAgBgACGCAAGDyAIYISxzLS8yJMq6qOVWjqj475NHSSUqbqTUF7zS594pSzU5bDddowBlA91oKO6jE0k9pX9mt1O0WKpCKxqU/taS3XKKeMVxxclyo4vifog5PtgbG3Rqu1Uo/Y1ZYzSWajUbzp6oyejheGo0LJVu9h8Cha6V/triU8gAvFIEAAB1Pao+41f+zL9qBvrz84+JGh2qPuVX/sy/agb68/OPiR5X/0H5T/AOl8Gbtg7vIxTyCDyJqgAgBgAg5AAHkBgAgBgACGCAAGDyAIYAPIDBvrns2TTy3pnn4luGDdl3uTU5rxFoW/+hYD0GR7E79PNf8APHF/JcTPtdb3Fx+gAB6EoA+ValCcXCcVKMk4yjJJxknpTW6fUABzTZDte1E3UsLyovP2vOWEo8EJvM1wSw42Uu2XZaKTaq0alPDfU5JcjwwfId/Baha5LHWVZ2WLw1H53yJanzMjIlqfMz9Eg79M/T1/o49D/V0/spG1Sn2lVxWH+pl+3A3t6ecfEjdGlvXzj4kYGXJZ1BvbJfBmnYo5sktiMMAg8oaYAIOQAB5EzpGQrFWaxUMzzrOusntCtvOn6mzpW+iopOWdJJ5pauI9d0KO/wDhl1G8rBYrtdb+UClpqvdHozU9oVt50/UjtCvvOn6m37o0N/0S6h3Rob/ol1B6vsP+7+cB6atudGajtCvvOldY7Qr7zpXWbfujQ3/RLqHdGhv+iXUHq+w/7v5wDT1tzozT9z628fP9SO59fePn+puI3hRbSU87zLxZdRmktPJNlqdio3dscX8EcytVSOMbuBWu59fedK6yO59f0fT9SzA79R0d6XNfQXps9iK5Tuus/wAKjw49Rn2W6IRzzeW9WhG0BYo5Js9N33OT/Vr6JJdCOdqqS8PIAA0iuAAAAAAAAAAAAAA0l6+cfIbs0l6+cfEjKyz/AI37l8GWLN2+BhgEHlTRAAAYPIIAZJAAhggGfZ7qlJZU3kY/hw+eomoWepWlm01f97cPvUcznGCvkzAPJsLTdUorKg8rDSsMHyazXhXoVKMs2orvv7+YQnGaviz3Q8uPrItZU6Plx40Ww3chdifmvmU7bjEAA3SiAAAAAAAAAAAAAAAAAAAADSXt5x8SN2au+KWZTW5mlxbjM3K0HKzO7ud/Dv8AjeT2aV0/M1YAPJGmDyCAGAAIYIAAD73dFOtBPRp5lj/BZSp06jjJSWlNYG/s9vpzXlKL3U3hn4NZ6DItenGMqbd0m71f3q7BeWvmUbXCTaksDNKxeEUqs0tGOPPn/k3NpvCnBPOpS3Ip45/4K/Um5ScnpbePGxZatFOSjTTvad7u7ldhx+Q7HCSbk8CaPlx40W0qtipuVWMVrxfJp+RaiXISejm/FdF/aFbn7SAANwogAAAAAAAAAAAAAAAAAAAA8TimmnnT0rWewJoDRW6wyhjKOeGvdj/7WYZaTBr3dTlnXivWuowLXkZ351B/tfyfyeG3uLtK1d0+ZogZ1W6qi8nxlwPD5mLOzVFpjJcjw5zHqWStT7UGuGrmr0W41IywZ8yA+EjErZy2ktxJ5GJGInJbR3EkHqMJPyV0M+9OwVpaIYceb5ksKM6nZi35K/4HLnGOLuMUmEG2oxWLehLSza0Ll38+SPW+o2VCzQgsILDXut8ZpWfI9ab/ABPZXN8sOfIr1LZBdnWz4XbYexrKeeb08HAjPAPTUaMKUFCCuS++Zmzm5O9gAEpyAAAAAAAAAAAAAAAAAAAAAAAAAAAAB1DER4q6DWV9JIKdvxLFA+cTOsoBVsfaRLVwMsAGzVxKSAAIhgAAAAAAAAAAAAAAAAf/2Q==)"
      ],
      "metadata": {
        "id": "JDrp3IvCgIjW"
      }
    },
    {
      "cell_type": "markdown",
      "metadata": {
        "id": "T4Uw9rVQgFDv"
      },
      "source": [
        "# What is Python?"
      ]
    },
    {
      "cell_type": "markdown",
      "metadata": {
        "id": "r2zq7i2WgFD1"
      },
      "source": [
        "Python is a popular programming language. It was created by Guido van Rossum, and released in 1991 at Centrum Wiskunde & Informatica (CWI) in the Netherlands as a successor to the ABC programming language. the name of the Python programming language comes from an old BBC television comedy sketch series called **Monty Python’s Flying Circus**. Python is an interpreted high-level general-purpose programming language. \n",
        "\n",
        "Programs written in a high-level language have to be processed before they can run. This extra processing takes some time.  \n",
        "\n",
        " An interpreter is a computer program that directly executes instructions written in a programming or scripting language, without requiring them previously to have been compiled into a machine language program.   \n",
        "It is used for:\n",
        "* web development (server-side)\n",
        "* software development\n",
        "* mathematics\n",
        "* system scripting\n",
        "\n"
      ]
    },
    {
      "cell_type": "markdown",
      "source": [
        "**Goals of Python**\n",
        "In 1999, Guido van Rossum defined his goals for Python:\n",
        "\n",
        "* An easy and intuitive language just as powerful as those of the major competitors;\n",
        "* Open source, so anyone can contribute to its development;\n",
        "* Code that is as understandable as plain English;\n",
        "* Suitable for everyday tasks, allowing for short development times."
      ],
      "metadata": {
        "id": "BTpimOT3lBh4"
      }
    },
    {
      "cell_type": "markdown",
      "metadata": {
        "id": "-82P0ahpgFD2"
      },
      "source": [
        "The most recent major version of Python is Python  3.10.0\n",
        "However, Python 2, although not being updated with anything other than security updates, is still quite popular."
      ]
    },
    {
      "cell_type": "markdown",
      "metadata": {
        "id": "AG4cq0C8gFD3"
      },
      "source": [
        "# Python Variables"
      ]
    },
    {
      "cell_type": "markdown",
      "metadata": {
        "id": "Tpc7XV3BgFD3"
      },
      "source": [
        "Variables are containers for storing data values i.e A variable is a name which refers to the location of particular information on the Computer. Every variable holds a value, which is the information associated with that variable.   \n",
        "\n",
        "An assignment statement is used to assign a particular value to a variable. Let us assign a variable and diplay its value using **print(variable / value)** function.\n",
        "Python has no command for declaring a variable.\n",
        "A variable is created the moment you first assign a value to it."
      ]
    },
    {
      "cell_type": "code",
      "execution_count": null,
      "metadata": {
        "id": "ZYJ_1Dj9gFD4",
        "outputId": "2922cbaf-3476-4555-c906-47225bd2a9ae"
      },
      "outputs": [
        {
          "name": "stdout",
          "output_type": "stream",
          "text": [
            "5\n",
            "John\n"
          ]
        }
      ],
      "source": [
        "x = 5\n",
        "y = \"John\"\n",
        "print(x)\n",
        "print(y)"
      ]
    },
    {
      "cell_type": "markdown",
      "metadata": {
        "id": "Gi-_dlkzgFD6"
      },
      "source": [
        "Variables do not need to be declared with any particular type, and can even change type after they have been set."
      ]
    },
    {
      "cell_type": "code",
      "execution_count": null,
      "metadata": {
        "id": "fQPWuYaIgFD6",
        "outputId": "a640bef9-8a64-4fde-e755-13d2d68eb2bd"
      },
      "outputs": [
        {
          "name": "stdout",
          "output_type": "stream",
          "text": [
            "Sally\n"
          ]
        }
      ],
      "source": [
        "x = 4       # x is of type int\n",
        "x = \"Sally\" # x is now of type str\n",
        "print(x)\n"
      ]
    },
    {
      "cell_type": "markdown",
      "metadata": {
        "id": "OYhdRjwugFD7"
      },
      "source": [
        "# Casting"
      ]
    },
    {
      "cell_type": "markdown",
      "metadata": {
        "id": "mFcfpVZBgFD8"
      },
      "source": [
        "If you want to specify the data type of a variable, this can be done with casting."
      ]
    },
    {
      "cell_type": "code",
      "execution_count": null,
      "metadata": {
        "id": "wk2rud7OgFD8"
      },
      "outputs": [],
      "source": [
        "x = str(3)    # x will be '3'\n",
        "y = int(3)    # y will be 3\n",
        "z = float(3)  # z will be 3.0"
      ]
    },
    {
      "cell_type": "markdown",
      "metadata": {
        "id": "1jezdKpMgFD9"
      },
      "source": [
        "Get the Type\n",
        "You can get the data type of a variable with the type() function."
      ]
    },
    {
      "cell_type": "code",
      "execution_count": null,
      "metadata": {
        "id": "ONDuwvkqgFD9",
        "outputId": "f71eebfe-c23f-4992-cc4a-a0f79cd01dc7"
      },
      "outputs": [
        {
          "name": "stdout",
          "output_type": "stream",
          "text": [
            "<class 'int'>\n",
            "<class 'str'>\n"
          ]
        }
      ],
      "source": [
        "x = 5\n",
        "y = \"John\"\n",
        "print(type(x))\n",
        "print(type(y))"
      ]
    },
    {
      "cell_type": "markdown",
      "metadata": {
        "id": "v4326IESgFD-"
      },
      "source": [
        "String variables can be declared either by using single or double quotes:"
      ]
    },
    {
      "cell_type": "markdown",
      "metadata": {
        "id": "sylJJLEFgFD-"
      },
      "source": [
        "x = \"John\"\n",
        "is the same as\n",
        "x = 'John'"
      ]
    },
    {
      "cell_type": "markdown",
      "metadata": {
        "id": "B8h6qSqLgFD-"
      },
      "source": [
        "Variable names are case-sensitive."
      ]
    },
    {
      "cell_type": "markdown",
      "metadata": {
        "id": "8jVaikqMgFD_"
      },
      "source": [
        "This will create two variables:\n",
        "\n",
        "\n",
        "a = 4\n",
        "A = \"Sally\"\n",
        "A will not overwrite a"
      ]
    },
    {
      "cell_type": "markdown",
      "metadata": {
        "id": "V76kSWfJgFD_"
      },
      "source": [
        "# Python - Variable Names"
      ]
    },
    {
      "cell_type": "markdown",
      "metadata": {
        "id": "slJoeCedgFEA"
      },
      "source": [
        "A variable can have a short name (like x and y) or a more descriptive name (age, carname, total_volume).\n",
        "Rules for Python variables:\n",
        "    \n",
        "A variable name must start with a letter or the underscore character\n",
        "A variable name cannot start with a number\n",
        "A variable name can only contain alpha-numeric characters and underscores (A-z, 0-9, and _ )\n",
        "Variable names are case-sensitive (age, Age and AGE are three different variables)"
      ]
    },
    {
      "cell_type": "markdown",
      "metadata": {
        "id": "cqltwRHkgFEA"
      },
      "source": [
        "# Legal variable names:"
      ]
    },
    {
      "cell_type": "markdown",
      "metadata": {
        "id": "GVP5MvdIgFEB"
      },
      "source": [
        "myvar = \"John\"\n",
        "my_var = \"John\"\n",
        "_my_var = \"John\"\n",
        "myVar = \"John\"\n",
        "MYVAR = \"John\"\n",
        "myvar2 = \"John\""
      ]
    },
    {
      "cell_type": "markdown",
      "metadata": {
        "id": "86qYPU57gFEB"
      },
      "source": [
        "# Illegal variable names:"
      ]
    },
    {
      "cell_type": "code",
      "execution_count": null,
      "metadata": {
        "id": "yQa9IC3VgFEB"
      },
      "outputs": [],
      "source": [
        "2myvar = \"John\"\n",
        "my-var = \"John\"\n",
        "my var = \"John\""
      ]
    },
    {
      "cell_type": "markdown",
      "metadata": {
        "id": "DuzCvIm0gFEC"
      },
      "source": [
        "# Python Variables - Assign Multiple Values"
      ]
    },
    {
      "cell_type": "markdown",
      "metadata": {
        "id": "ei1J7N1TgFEC"
      },
      "source": [
        "Python allows you to assign values to multiple variables in one line:"
      ]
    },
    {
      "cell_type": "code",
      "execution_count": null,
      "metadata": {
        "id": "37CWaa1BgFEC",
        "outputId": "7cd4c25f-e123-49e3-e738-dfec3ad9d9d9"
      },
      "outputs": [
        {
          "name": "stdout",
          "output_type": "stream",
          "text": [
            "Orange\n",
            "Banana\n",
            "Cherry\n"
          ]
        }
      ],
      "source": [
        "x, y, z = \"Orange\", \"Banana\", \"Cherry\"\n",
        "print(x)\n",
        "print(y)\n",
        "print(z)"
      ]
    },
    {
      "cell_type": "markdown",
      "metadata": {
        "id": "tIZORJwQgFED"
      },
      "source": [
        "One Value to Multiple Variables\n",
        "\n",
        "And you can assign the same value to multiple variables in one line:"
      ]
    },
    {
      "cell_type": "code",
      "execution_count": null,
      "metadata": {
        "id": "_XP8vfKdgFED",
        "outputId": "c0207955-008b-4aa8-bc0c-ace9e65902f7"
      },
      "outputs": [
        {
          "name": "stdout",
          "output_type": "stream",
          "text": [
            "Orange\n",
            "Orange\n",
            "Orange\n"
          ]
        }
      ],
      "source": [
        "x = y = z = \"Orange\"\n",
        "print(x)\n",
        "print(y)\n",
        "print(z)"
      ]
    },
    {
      "cell_type": "markdown",
      "metadata": {
        "id": "qkCO95J3gFEE"
      },
      "source": [
        "# Python - Output Variables"
      ]
    },
    {
      "cell_type": "markdown",
      "metadata": {
        "id": "tOfsITNmgFEE"
      },
      "source": [
        "The Python print statement is often used to output variables.\n",
        "\n",
        "To combine both text and a variable, Python uses the + character:"
      ]
    },
    {
      "cell_type": "code",
      "execution_count": null,
      "metadata": {
        "id": "26_ZzP0ygFEE",
        "outputId": "ef081441-0774-4bab-fcb4-d8cf0c473eb4"
      },
      "outputs": [
        {
          "name": "stdout",
          "output_type": "stream",
          "text": [
            "Python is awesome\n"
          ]
        }
      ],
      "source": [
        "x = \"awesome\"\n",
        "print(\"Python is \" + x)"
      ]
    },
    {
      "cell_type": "markdown",
      "metadata": {
        "id": "KiAtW9IHgFEE"
      },
      "source": [
        "You can also use the + character to add a variable to another variable.\n",
        "\n",
        "For numbers, the + character works as a mathematical operator.\n",
        "    \n",
        "If you try to combine a string and a number, Python will give you an error."
      ]
    },
    {
      "cell_type": "code",
      "execution_count": null,
      "metadata": {
        "id": "1Qi8iKhTgFEE",
        "outputId": "bb728083-9ff3-4cbb-e541-b5c1655b6be0"
      },
      "outputs": [
        {
          "name": "stdout",
          "output_type": "stream",
          "text": [
            "Python is awesome\n"
          ]
        }
      ],
      "source": [
        "x = \"Python is \"\n",
        "y = \"awesome\"\n",
        "z =  x + y\n",
        "print(z)"
      ]
    },
    {
      "cell_type": "markdown",
      "metadata": {
        "id": "NkIyLSm0gFEF"
      },
      "source": [
        "# Python - Global Variables"
      ]
    },
    {
      "cell_type": "markdown",
      "metadata": {
        "id": "1DRluxuegFEF"
      },
      "source": [
        "Variables that are created outside of a function (as in all of the examples above) are known as global variables.\n",
        "\n",
        "Global variables can be used by everyone, both inside of functions and outside.\n",
        "\n",
        "Create a variable outside of a function, and use it inside the function"
      ]
    },
    {
      "cell_type": "code",
      "execution_count": null,
      "metadata": {
        "id": "bHWzxThsgFEF",
        "outputId": "6fb001c6-ee7d-4e9d-9747-f8ad6266821c"
      },
      "outputs": [
        {
          "name": "stdout",
          "output_type": "stream",
          "text": [
            "Python is awesome\n"
          ]
        }
      ],
      "source": [
        "x = \"awesome\"\n",
        "\n",
        "def myfunc():\n",
        "  print(\"Python is \" + x)\n",
        "\n",
        "myfunc()"
      ]
    },
    {
      "cell_type": "markdown",
      "metadata": {
        "id": "ih3r_RefgFEG"
      },
      "source": [
        "If you create a variable with the same name inside a function, this variable will be local, and can only be used inside the function. \n",
        "The global variable with the same name will remain as it was, global and with the original value.\n",
        "\n",
        "Create a variable inside a function, with the same name as the global variable"
      ]
    },
    {
      "cell_type": "code",
      "execution_count": null,
      "metadata": {
        "id": "oPk6RR6PgFEG",
        "outputId": "a8f032bd-3c14-4ccf-98d0-c508bccf57f6"
      },
      "outputs": [
        {
          "name": "stdout",
          "output_type": "stream",
          "text": [
            "Python is fantastic\n",
            "Python is awesome\n"
          ]
        }
      ],
      "source": [
        "x = \"awesome\"\n",
        "\n",
        "def myfunc():\n",
        "  x = \"fantastic\"\n",
        "  print(\"Python is \" + x)\n",
        "\n",
        "myfunc()\n",
        "\n",
        "print(\"Python is \" + x)"
      ]
    },
    {
      "cell_type": "markdown",
      "metadata": {
        "id": "auaTtyYKgFEH"
      },
      "source": [
        "The global Keyword\n",
        "\n",
        "Normally, when you create a variable inside a function, that variable is local, and can only be used inside that function.\n",
        "\n",
        "To create a global variable inside a function, you can use the global keyword.\n",
        "\n",
        "If you use the global keyword, the variable belongs to the global scope:"
      ]
    },
    {
      "cell_type": "code",
      "execution_count": null,
      "metadata": {
        "id": "65LtAF51gFEH",
        "outputId": "7b680fdf-cfc6-4778-dc15-a5a575782e38"
      },
      "outputs": [
        {
          "name": "stdout",
          "output_type": "stream",
          "text": [
            "Python is fantastic\n"
          ]
        }
      ],
      "source": [
        "def myfunc():\n",
        "  global x\n",
        "  x = \"fantastic\"\n",
        "\n",
        "myfunc()\n",
        "\n",
        "print(\"Python is \" + x)"
      ]
    },
    {
      "cell_type": "markdown",
      "metadata": {
        "id": "62-4SERKgFEH"
      },
      "source": [
        "Also, use the global keyword if you want to change a global variable inside a function.\n",
        "\n",
        "To change the value of a global variable inside a function, refer to the variable by using the global keyword:\n"
      ]
    },
    {
      "cell_type": "code",
      "execution_count": null,
      "metadata": {
        "id": "5ham2UEVgFEI",
        "outputId": "e3964dba-74a1-4911-b56a-830f9f4c0272"
      },
      "outputs": [
        {
          "name": "stdout",
          "output_type": "stream",
          "text": [
            "Python is fantastic\n"
          ]
        }
      ],
      "source": [
        "x = \"awesome\"\n",
        "\n",
        "def myfunc():\n",
        "  global x\n",
        "  x = \"fantastic\"\n",
        "\n",
        "myfunc()\n",
        "\n",
        "print(\"Python is \" + x)"
      ]
    },
    {
      "cell_type": "markdown",
      "metadata": {
        "id": "g5gvTEZGgFEI"
      },
      "source": [
        "# Quiz"
      ]
    },
    {
      "cell_type": "markdown",
      "metadata": {
        "id": "7dPbNy-mgFEI"
      },
      "source": [
        "# Create a variable named carname and assign the value Volvo to it."
      ]
    },
    {
      "cell_type": "code",
      "execution_count": null,
      "metadata": {
        "id": "pK_y-GT3gFEI"
      },
      "outputs": [],
      "source": [
        ""
      ]
    }
  ],
  "metadata": {
    "kernelspec": {
      "display_name": "Python 3",
      "language": "python",
      "name": "python3"
    },
    "language_info": {
      "codemirror_mode": {
        "name": "ipython",
        "version": 3
      },
      "file_extension": ".py",
      "mimetype": "text/x-python",
      "name": "python",
      "nbconvert_exporter": "python",
      "pygments_lexer": "ipython3",
      "version": "3.7.1"
    },
    "colab": {
      "name": "00.Python_Variables.ipynb",
      "provenance": [],
      "include_colab_link": true
    }
  },
  "nbformat": 4,
  "nbformat_minor": 0
}
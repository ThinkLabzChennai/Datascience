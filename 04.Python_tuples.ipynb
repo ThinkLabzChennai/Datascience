{
  "cells": [
    {
      "cell_type": "markdown",
      "metadata": {
        "id": "view-in-github",
        "colab_type": "text"
      },
      "source": [
        "<a href=\"https://colab.research.google.com/github/ThinkLabzChennai/Datascience/blob/main/04.Python_tuples.ipynb\" target=\"_parent\"><img src=\"https://colab.research.google.com/assets/colab-badge.svg\" alt=\"Open In Colab\"/></a>"
      ]
    },
    {
      "cell_type": "markdown",
      "metadata": {
        "id": "NHO1gcwhyxLL"
      },
      "source": [
        "# Tuple\n",
        "Tuples are used to store multiple items in a single variable. Tuples are created using paranthesis or round brackets. It is similar to lists in some aspects such as indexing, nested objects and repetition.\n"
      ]
    },
    {
      "cell_type": "code",
      "execution_count": 7,
      "metadata": {
        "id": "7vh3w3SwyxLQ",
        "outputId": "b6700dbb-055c-4779-ffe5-355848ca6436",
        "colab": {
          "base_uri": "https://localhost:8080/"
        }
      },
      "outputs": [
        {
          "output_type": "stream",
          "name": "stdout",
          "text": [
            "('apple', 'banana', 'cherry')\n"
          ]
        }
      ],
      "source": [
        "thistuple = (\"apple\", \"banana\", \"cherry\")\n",
        "print(thistuple)\n"
      ]
    },
    {
      "cell_type": "markdown",
      "metadata": {
        "id": "kzroVMhCyxLT"
      },
      "source": [
        "Tuple Items\n",
        "\n",
        "\n",
        "* Tuple items are indexed, the first item has index [0], the second item has index [1] etc.\n",
        "\n",
        "* Ordered   \n",
        "The items have a defined order, and that order will not change.\n",
        "\n",
        "* Unchangeable   \n",
        "Tuples are unchangeable, meaning that we cannot change, add or remove items after the tuple has been created.\n",
        "\n",
        "* Allow Duplicates   \n",
        "Since tuples are indexed, they can have items with the same value:"
      ]
    },
    {
      "cell_type": "markdown",
      "metadata": {
        "id": "R0WRwWGByxLU"
      },
      "source": [
        "Tuples allow duplicate values:"
      ]
    },
    {
      "cell_type": "code",
      "execution_count": 8,
      "metadata": {
        "id": "LzCz2xWwyxLU",
        "outputId": "104b4cca-abc5-46eb-e7ed-c6a40431bb23",
        "colab": {
          "base_uri": "https://localhost:8080/"
        }
      },
      "outputs": [
        {
          "output_type": "stream",
          "name": "stdout",
          "text": [
            "('apple', 'banana', 'cherry', 'apple', 'cherry')\n"
          ]
        }
      ],
      "source": [
        "thistuple = (\"apple\", \"banana\", \"cherry\", \"apple\", \"cherry\")\n",
        "print(thistuple)"
      ]
    },
    {
      "cell_type": "markdown",
      "metadata": {
        "id": "JTf0Sg_kyxLV"
      },
      "source": [
        "To determine how many items a tuple has, use the len() function:\n",
        "    \n",
        "Print the number of items in the tuple:"
      ]
    },
    {
      "cell_type": "code",
      "execution_count": 9,
      "metadata": {
        "id": "JOS7bVZAyxLW",
        "outputId": "34f6d582-c9ae-4331-a5e3-36f9bdd13481",
        "colab": {
          "base_uri": "https://localhost:8080/"
        }
      },
      "outputs": [
        {
          "output_type": "stream",
          "name": "stdout",
          "text": [
            "3\n"
          ]
        }
      ],
      "source": [
        "thistuple = (\"apple\", \"banana\", \"cherry\")\n",
        "print(len(thistuple))"
      ]
    },
    {
      "cell_type": "markdown",
      "metadata": {
        "id": "tVrp3tkYyxLX"
      },
      "source": [
        "# Create Tuple With One Item\n",
        "\n",
        "To create a tuple with only one item, you have to add a comma after the item, otherwise Python will not recognize it as a tuple.\n",
        "\n",
        "One item tuple, remember the comma:"
      ]
    },
    {
      "cell_type": "code",
      "execution_count": 10,
      "metadata": {
        "id": "uER3URH3yxLX",
        "outputId": "d5a9bd52-76ac-464a-ad2b-dabc23e0a004",
        "colab": {
          "base_uri": "https://localhost:8080/"
        }
      },
      "outputs": [
        {
          "output_type": "stream",
          "name": "stdout",
          "text": [
            "<class 'tuple'>\n",
            "<class 'str'>\n"
          ]
        }
      ],
      "source": [
        "sample = (\"apple\",)\n",
        "print(type(sample))\n",
        "\n",
        "#NOT a tuple\n",
        "thistuple = (\"apple\")\n",
        "print(type(thistuple))\n"
      ]
    },
    {
      "cell_type": "markdown",
      "metadata": {
        "id": "qEdcs51OyxLY"
      },
      "source": [
        "# Tuple Items - Data Types\n",
        "Tuple items can be of any data type:\n",
        "\n",
        "String, int and boolean data types:"
      ]
    },
    {
      "cell_type": "code",
      "execution_count": 11,
      "metadata": {
        "id": "922IfJtnyxLZ"
      },
      "outputs": [],
      "source": [
        "tuple1 = (\"apple\", \"banana\", \"cherry\")\n",
        "tuple2 = (1, 5, 7, 9, 3)\n",
        "tuple3 = (True, False, False)"
      ]
    },
    {
      "cell_type": "code",
      "source": [
        "strict_marvel=(\"Hulk\",\"Black Widow\",\"Captain America\",\"Thor\",\"Ironman\",\"Hawk Eye\",\"Thor\")"
      ],
      "metadata": {
        "id": "Uy0hywyXkSlV"
      },
      "execution_count": 12,
      "outputs": []
    },
    {
      "cell_type": "markdown",
      "source": [
        "# Number of elements in a tuple\n",
        "We can find how many elements are in a tuple by using **len**"
      ],
      "metadata": {
        "id": "IxuNQ9U2dMRn"
      }
    },
    {
      "cell_type": "code",
      "source": [
        "len(strict_marvel)"
      ],
      "metadata": {
        "colab": {
          "base_uri": "https://localhost:8080/"
        },
        "id": "-b5vjXfydLMG",
        "outputId": "831a49df-4cec-4d9b-cfa8-0d781c38c0f8"
      },
      "execution_count": 13,
      "outputs": [
        {
          "output_type": "execute_result",
          "data": {
            "text/plain": [
              "7"
            ]
          },
          "metadata": {},
          "execution_count": 13
        }
      ]
    },
    {
      "cell_type": "markdown",
      "source": [
        ""
      ],
      "metadata": {
        "id": "nwYMexcEbH5q"
      }
    },
    {
      "cell_type": "markdown",
      "source": [
        "# Finding Index   \n",
        "We can find position of an element in a tuple using **index** method. If the value is present more than once in the list, then first occurence position is returned."
      ],
      "metadata": {
        "id": "gTcUoLbJlywP"
      }
    },
    {
      "cell_type": "code",
      "source": [
        "strict_marvel.index(\"Thor\")"
      ],
      "metadata": {
        "colab": {
          "base_uri": "https://localhost:8080/"
        },
        "id": "fLqvOgGJlP1-",
        "outputId": "e3f9b5e4-9529-4547-a455-ec29ae576b9c"
      },
      "execution_count": 14,
      "outputs": [
        {
          "output_type": "execute_result",
          "data": {
            "text/plain": [
              "3"
            ]
          },
          "metadata": {},
          "execution_count": 14
        }
      ]
    },
    {
      "cell_type": "markdown",
      "source": [
        "# Counting occurence of an element in a tuple   \n",
        "We can count number of times an element is present in a tuple using **count** method, we need to give the element as the input for the function"
      ],
      "metadata": {
        "id": "OsmvALldlGi-"
      }
    },
    {
      "cell_type": "code",
      "source": [
        "strict_marvel.count(\"Thor\")"
      ],
      "metadata": {
        "colab": {
          "base_uri": "https://localhost:8080/"
        },
        "id": "ecEoM7GLk0sz",
        "outputId": "c4aafe9d-9b9c-4727-e224-24c80a268731"
      },
      "execution_count": 15,
      "outputs": [
        {
          "output_type": "execute_result",
          "data": {
            "text/plain": [
              "2"
            ]
          },
          "metadata": {},
          "execution_count": 15
        }
      ]
    },
    {
      "cell_type": "markdown",
      "source": [
        "# Order   \n",
        "We can find element with highest and lowest order using **max** and **min** commands."
      ],
      "metadata": {
        "id": "yX1KpmiSuNsm"
      }
    },
    {
      "cell_type": "code",
      "source": [
        "max(strict_marvel)"
      ],
      "metadata": {
        "colab": {
          "base_uri": "https://localhost:8080/",
          "height": 38
        },
        "id": "Hoe-r5dVuOfW",
        "outputId": "14544a3e-309e-4806-9c23-11dda32382a5"
      },
      "execution_count": 16,
      "outputs": [
        {
          "output_type": "execute_result",
          "data": {
            "application/vnd.google.colaboratory.intrinsic+json": {
              "type": "string"
            },
            "text/plain": [
              "'Thor'"
            ]
          },
          "metadata": {},
          "execution_count": 16
        }
      ]
    },
    {
      "cell_type": "code",
      "source": [
        "min(strict_marvel)"
      ],
      "metadata": {
        "colab": {
          "base_uri": "https://localhost:8080/",
          "height": 38
        },
        "id": "-FFo7QfXu26X",
        "outputId": "14a83cfd-96e7-4097-ee89-417985b86d5d"
      },
      "execution_count": 17,
      "outputs": [
        {
          "output_type": "execute_result",
          "data": {
            "application/vnd.google.colaboratory.intrinsic+json": {
              "type": "string"
            },
            "text/plain": [
              "'Black Widow'"
            ]
          },
          "metadata": {},
          "execution_count": 17
        }
      ]
    },
    {
      "cell_type": "markdown",
      "metadata": {
        "id": "LCv43mdfyxLZ"
      },
      "source": [
        "# Access Tuple Items\n",
        "You can access tuple items by referring to the index number, inside square brackets:\n",
        "\n",
        "Print the second item in the tuple:"
      ]
    },
    {
      "cell_type": "code",
      "execution_count": 18,
      "metadata": {
        "id": "kUY3W_YCyxLZ",
        "outputId": "c2827fb0-4bf7-443b-cff6-e49122977f92",
        "colab": {
          "base_uri": "https://localhost:8080/"
        }
      },
      "outputs": [
        {
          "output_type": "stream",
          "name": "stdout",
          "text": [
            "banana\n"
          ]
        }
      ],
      "source": [
        "thistuple = (\"apple\", \"banana\", \"cherry\")\n",
        "print(thistuple[1])"
      ]
    },
    {
      "cell_type": "markdown",
      "metadata": {
        "id": "jkmJjrpmyxLa"
      },
      "source": [
        "# Python - Update Tuples\n",
        "\n",
        "Tuples are unchangeable. But there are some workarounds.\n",
        "\n",
        "* Change Tuple Values   \n",
        "We can convert the tuple into a list, change the list, and convert the list back into a tuple."
      ]
    },
    {
      "cell_type": "code",
      "execution_count": 19,
      "metadata": {
        "id": "uiMC7ZvmyxLa",
        "outputId": "c544f8b6-0583-4516-e9bf-e5f96a73d260",
        "colab": {
          "base_uri": "https://localhost:8080/"
        }
      },
      "outputs": [
        {
          "output_type": "stream",
          "name": "stdout",
          "text": [
            "('apple', 'kiwi', 'cherry')\n"
          ]
        }
      ],
      "source": [
        "x = (\"apple\", \"banana\", \"cherry\")\n",
        "y = list(x)\n",
        "y[1] = \"kiwi\"\n",
        "x = tuple(y)\n",
        "\n",
        "print(x)"
      ]
    },
    {
      "cell_type": "markdown",
      "metadata": {
        "id": "wSeULoQ7yxLb"
      },
      "source": [
        "# Add Items\n",
        "Since tuples are immutable, they do not have a build-in append() method, but there are other ways to add items to a tuple.\n",
        "\n",
        "1. Convert into a list: Just like the workaround for changing a tuple value, we can convert it into a list, add item(s), and convert it back into a tuple.\n",
        "    \n",
        " "
      ]
    },
    {
      "cell_type": "code",
      "execution_count": 20,
      "metadata": {
        "id": "vTlurIYJyxLb"
      },
      "outputs": [],
      "source": [
        "thistuple = (\"apple\", \"banana\", \"cherry\")\n",
        "y = list(thistuple)\n",
        "y.append(\"orange\")\n",
        "thistuple = tuple(y)"
      ]
    },
    {
      "cell_type": "markdown",
      "metadata": {
        "id": "aEzlHjHmyxLb"
      },
      "source": [
        "2. Add tuple to a tuple. We can add tuples to tuples, Using **+** operator we can add new tuple with the item(s) to the existing tuple:\n",
        "\n",
        "Create a new tuple with the value \"orange\", and add that tuple:"
      ]
    },
    {
      "cell_type": "code",
      "execution_count": 21,
      "metadata": {
        "id": "IfT_5mjFyxLc",
        "outputId": "f90ac686-10f7-4928-c519-431be22d14bf",
        "colab": {
          "base_uri": "https://localhost:8080/"
        }
      },
      "outputs": [
        {
          "output_type": "stream",
          "name": "stdout",
          "text": [
            "('apple', 'banana', 'cherry', 'orange')\n"
          ]
        }
      ],
      "source": [
        "thistuple = (\"apple\", \"banana\", \"cherry\")\n",
        "y = (\"orange\",)\n",
        "thistuple += y\n",
        "\n",
        "print(thistuple)"
      ]
    },
    {
      "cell_type": "markdown",
      "metadata": {
        "id": "fl_ceHCMyxLc"
      },
      "source": [
        "# Remove Items\n",
        "**Note**: We cannot remove items in a tuple.\n",
        "\n",
        "Tuples are unchangeable, so you cannot remove items from it, but you can use the same workaround as we used for changing and adding tuple items:\n",
        "\n"
      ]
    },
    {
      "cell_type": "code",
      "execution_count": 22,
      "metadata": {
        "id": "vrzD_VgbyxLd"
      },
      "outputs": [],
      "source": [
        "thistuple = (\"apple\", \"banana\", \"cherry\")\n",
        "y = list(thistuple)\n",
        "y.remove(\"apple\")\n",
        "thistuple = tuple(y)"
      ]
    },
    {
      "cell_type": "markdown",
      "metadata": {
        "id": "QccJFNY0yxLd"
      },
      "source": [
        "# Python - Loop Tuples\n",
        "Loop Through a Tuple\n",
        "You can loop through the tuple items by using a for loop.\n",
        "\n",
        "Iterate through the items and print the values:"
      ]
    },
    {
      "cell_type": "code",
      "execution_count": 23,
      "metadata": {
        "id": "tdtsbiQ8yxLd",
        "outputId": "d8ce86b3-d368-431a-873e-e040145f1294",
        "colab": {
          "base_uri": "https://localhost:8080/"
        }
      },
      "outputs": [
        {
          "output_type": "stream",
          "name": "stdout",
          "text": [
            "apple\n",
            "banana\n",
            "cherry\n"
          ]
        }
      ],
      "source": [
        "thistuple = (\"apple\", \"banana\", \"cherry\")\n",
        "for x in thistuple:\n",
        "  print(x)"
      ]
    },
    {
      "cell_type": "markdown",
      "metadata": {
        "id": "sbB5CKZUyxLe"
      },
      "source": [
        "# Python - Join Tuples\n",
        "Join Two Tuple\n",
        "\n",
        "To join two or more tuples you can use the + operator:\n",
        "\n",
        "Join two tuples:"
      ]
    },
    {
      "cell_type": "code",
      "execution_count": 24,
      "metadata": {
        "id": "q13qfx1ayxLe",
        "outputId": "f5f70288-5310-45eb-d667-9a189e31bf64",
        "colab": {
          "base_uri": "https://localhost:8080/"
        }
      },
      "outputs": [
        {
          "output_type": "stream",
          "name": "stdout",
          "text": [
            "('a', 'b', 'c', 1, 2, 3)\n"
          ]
        }
      ],
      "source": [
        "tuple1 = (\"a\", \"b\" , \"c\")\n",
        "tuple2 = (1, 2, 3)\n",
        "\n",
        "tuple3 = tuple1 + tuple2\n",
        "print(tuple3)"
      ]
    },
    {
      "cell_type": "code",
      "execution_count": 24,
      "metadata": {
        "id": "MLRL6_ULyxLe"
      },
      "outputs": [],
      "source": [
        ""
      ]
    }
  ],
  "metadata": {
    "kernelspec": {
      "display_name": "Python 3",
      "language": "python",
      "name": "python3"
    },
    "language_info": {
      "codemirror_mode": {
        "name": "ipython",
        "version": 3
      },
      "file_extension": ".py",
      "mimetype": "text/x-python",
      "name": "python",
      "nbconvert_exporter": "python",
      "pygments_lexer": "ipython3",
      "version": "3.7.1"
    },
    "colab": {
      "name": "04.Python_tuples.ipynb",
      "provenance": [],
      "include_colab_link": true
    }
  },
  "nbformat": 4,
  "nbformat_minor": 0
}